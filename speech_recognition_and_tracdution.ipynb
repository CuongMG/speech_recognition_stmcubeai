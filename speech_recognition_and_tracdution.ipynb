{
  "nbformat": 4,
  "nbformat_minor": 0,
  "metadata": {
    "colab": {
      "provenance": [],
      "gpuType": "T4"
    },
    "kernelspec": {
      "name": "python3",
      "display_name": "Python 3"
    },
    "language_info": {
      "name": "python"
    },
    "accelerator": "GPU",
    "widgets": {
      "application/vnd.jupyter.widget-state+json": {
        "e112b1ccd614423fb44dffe3aedfecdb": {
          "model_module": "@jupyter-widgets/controls",
          "model_name": "HBoxModel",
          "model_module_version": "1.5.0",
          "state": {
            "_dom_classes": [],
            "_model_module": "@jupyter-widgets/controls",
            "_model_module_version": "1.5.0",
            "_model_name": "HBoxModel",
            "_view_count": null,
            "_view_module": "@jupyter-widgets/controls",
            "_view_module_version": "1.5.0",
            "_view_name": "HBoxView",
            "box_style": "",
            "children": [
              "IPY_MODEL_44b55f06cad747739215d2dfea94fb38",
              "IPY_MODEL_7e8b83f8cd024950947e6631cc909f27",
              "IPY_MODEL_f6635f3c84f84ed689728e5aacc168d0"
            ],
            "layout": "IPY_MODEL_cd3ab030f05a42949cfce1b9b1f29232"
          }
        },
        "44b55f06cad747739215d2dfea94fb38": {
          "model_module": "@jupyter-widgets/controls",
          "model_name": "HTMLModel",
          "model_module_version": "1.5.0",
          "state": {
            "_dom_classes": [],
            "_model_module": "@jupyter-widgets/controls",
            "_model_module_version": "1.5.0",
            "_model_name": "HTMLModel",
            "_view_count": null,
            "_view_module": "@jupyter-widgets/controls",
            "_view_module_version": "1.5.0",
            "_view_name": "HTMLView",
            "description": "",
            "description_tooltip": null,
            "layout": "IPY_MODEL_19444a45f84e4e248b4154a1d1fd85f6",
            "placeholder": "​",
            "style": "IPY_MODEL_1ada4ca1a6cb40cba9188d9f308cb690",
            "value": "Dl Completed...: 100%"
          }
        },
        "7e8b83f8cd024950947e6631cc909f27": {
          "model_module": "@jupyter-widgets/controls",
          "model_name": "FloatProgressModel",
          "model_module_version": "1.5.0",
          "state": {
            "_dom_classes": [],
            "_model_module": "@jupyter-widgets/controls",
            "_model_module_version": "1.5.0",
            "_model_name": "FloatProgressModel",
            "_view_count": null,
            "_view_module": "@jupyter-widgets/controls",
            "_view_module_version": "1.5.0",
            "_view_name": "ProgressView",
            "bar_style": "success",
            "description": "",
            "description_tooltip": null,
            "layout": "IPY_MODEL_36eccba299334fd49461b9593f37eda1",
            "max": 1,
            "min": 0,
            "orientation": "horizontal",
            "style": "IPY_MODEL_7d8e25039f064c9981890cb9c1519fa7",
            "value": 1
          }
        },
        "f6635f3c84f84ed689728e5aacc168d0": {
          "model_module": "@jupyter-widgets/controls",
          "model_name": "HTMLModel",
          "model_module_version": "1.5.0",
          "state": {
            "_dom_classes": [],
            "_model_module": "@jupyter-widgets/controls",
            "_model_module_version": "1.5.0",
            "_model_name": "HTMLModel",
            "_view_count": null,
            "_view_module": "@jupyter-widgets/controls",
            "_view_module_version": "1.5.0",
            "_view_name": "HTMLView",
            "description": "",
            "description_tooltip": null,
            "layout": "IPY_MODEL_1073c75c8fc447548e5e4f20ce06046d",
            "placeholder": "​",
            "style": "IPY_MODEL_e6624ee14ea44e52b7c4a9c53ad5a195",
            "value": " 2/2 [00:51&lt;00:00, 29.91s/ url]"
          }
        },
        "cd3ab030f05a42949cfce1b9b1f29232": {
          "model_module": "@jupyter-widgets/base",
          "model_name": "LayoutModel",
          "model_module_version": "1.2.0",
          "state": {
            "_model_module": "@jupyter-widgets/base",
            "_model_module_version": "1.2.0",
            "_model_name": "LayoutModel",
            "_view_count": null,
            "_view_module": "@jupyter-widgets/base",
            "_view_module_version": "1.2.0",
            "_view_name": "LayoutView",
            "align_content": null,
            "align_items": null,
            "align_self": null,
            "border": null,
            "bottom": null,
            "display": null,
            "flex": null,
            "flex_flow": null,
            "grid_area": null,
            "grid_auto_columns": null,
            "grid_auto_flow": null,
            "grid_auto_rows": null,
            "grid_column": null,
            "grid_gap": null,
            "grid_row": null,
            "grid_template_areas": null,
            "grid_template_columns": null,
            "grid_template_rows": null,
            "height": null,
            "justify_content": null,
            "justify_items": null,
            "left": null,
            "margin": null,
            "max_height": null,
            "max_width": null,
            "min_height": null,
            "min_width": null,
            "object_fit": null,
            "object_position": null,
            "order": null,
            "overflow": null,
            "overflow_x": null,
            "overflow_y": null,
            "padding": null,
            "right": null,
            "top": null,
            "visibility": null,
            "width": null
          }
        },
        "19444a45f84e4e248b4154a1d1fd85f6": {
          "model_module": "@jupyter-widgets/base",
          "model_name": "LayoutModel",
          "model_module_version": "1.2.0",
          "state": {
            "_model_module": "@jupyter-widgets/base",
            "_model_module_version": "1.2.0",
            "_model_name": "LayoutModel",
            "_view_count": null,
            "_view_module": "@jupyter-widgets/base",
            "_view_module_version": "1.2.0",
            "_view_name": "LayoutView",
            "align_content": null,
            "align_items": null,
            "align_self": null,
            "border": null,
            "bottom": null,
            "display": null,
            "flex": null,
            "flex_flow": null,
            "grid_area": null,
            "grid_auto_columns": null,
            "grid_auto_flow": null,
            "grid_auto_rows": null,
            "grid_column": null,
            "grid_gap": null,
            "grid_row": null,
            "grid_template_areas": null,
            "grid_template_columns": null,
            "grid_template_rows": null,
            "height": null,
            "justify_content": null,
            "justify_items": null,
            "left": null,
            "margin": null,
            "max_height": null,
            "max_width": null,
            "min_height": null,
            "min_width": null,
            "object_fit": null,
            "object_position": null,
            "order": null,
            "overflow": null,
            "overflow_x": null,
            "overflow_y": null,
            "padding": null,
            "right": null,
            "top": null,
            "visibility": null,
            "width": null
          }
        },
        "1ada4ca1a6cb40cba9188d9f308cb690": {
          "model_module": "@jupyter-widgets/controls",
          "model_name": "DescriptionStyleModel",
          "model_module_version": "1.5.0",
          "state": {
            "_model_module": "@jupyter-widgets/controls",
            "_model_module_version": "1.5.0",
            "_model_name": "DescriptionStyleModel",
            "_view_count": null,
            "_view_module": "@jupyter-widgets/base",
            "_view_module_version": "1.2.0",
            "_view_name": "StyleView",
            "description_width": ""
          }
        },
        "36eccba299334fd49461b9593f37eda1": {
          "model_module": "@jupyter-widgets/base",
          "model_name": "LayoutModel",
          "model_module_version": "1.2.0",
          "state": {
            "_model_module": "@jupyter-widgets/base",
            "_model_module_version": "1.2.0",
            "_model_name": "LayoutModel",
            "_view_count": null,
            "_view_module": "@jupyter-widgets/base",
            "_view_module_version": "1.2.0",
            "_view_name": "LayoutView",
            "align_content": null,
            "align_items": null,
            "align_self": null,
            "border": null,
            "bottom": null,
            "display": null,
            "flex": null,
            "flex_flow": null,
            "grid_area": null,
            "grid_auto_columns": null,
            "grid_auto_flow": null,
            "grid_auto_rows": null,
            "grid_column": null,
            "grid_gap": null,
            "grid_row": null,
            "grid_template_areas": null,
            "grid_template_columns": null,
            "grid_template_rows": null,
            "height": null,
            "justify_content": null,
            "justify_items": null,
            "left": null,
            "margin": null,
            "max_height": null,
            "max_width": null,
            "min_height": null,
            "min_width": null,
            "object_fit": null,
            "object_position": null,
            "order": null,
            "overflow": null,
            "overflow_x": null,
            "overflow_y": null,
            "padding": null,
            "right": null,
            "top": null,
            "visibility": null,
            "width": "20px"
          }
        },
        "7d8e25039f064c9981890cb9c1519fa7": {
          "model_module": "@jupyter-widgets/controls",
          "model_name": "ProgressStyleModel",
          "model_module_version": "1.5.0",
          "state": {
            "_model_module": "@jupyter-widgets/controls",
            "_model_module_version": "1.5.0",
            "_model_name": "ProgressStyleModel",
            "_view_count": null,
            "_view_module": "@jupyter-widgets/base",
            "_view_module_version": "1.2.0",
            "_view_name": "StyleView",
            "bar_color": null,
            "description_width": ""
          }
        },
        "1073c75c8fc447548e5e4f20ce06046d": {
          "model_module": "@jupyter-widgets/base",
          "model_name": "LayoutModel",
          "model_module_version": "1.2.0",
          "state": {
            "_model_module": "@jupyter-widgets/base",
            "_model_module_version": "1.2.0",
            "_model_name": "LayoutModel",
            "_view_count": null,
            "_view_module": "@jupyter-widgets/base",
            "_view_module_version": "1.2.0",
            "_view_name": "LayoutView",
            "align_content": null,
            "align_items": null,
            "align_self": null,
            "border": null,
            "bottom": null,
            "display": null,
            "flex": null,
            "flex_flow": null,
            "grid_area": null,
            "grid_auto_columns": null,
            "grid_auto_flow": null,
            "grid_auto_rows": null,
            "grid_column": null,
            "grid_gap": null,
            "grid_row": null,
            "grid_template_areas": null,
            "grid_template_columns": null,
            "grid_template_rows": null,
            "height": null,
            "justify_content": null,
            "justify_items": null,
            "left": null,
            "margin": null,
            "max_height": null,
            "max_width": null,
            "min_height": null,
            "min_width": null,
            "object_fit": null,
            "object_position": null,
            "order": null,
            "overflow": null,
            "overflow_x": null,
            "overflow_y": null,
            "padding": null,
            "right": null,
            "top": null,
            "visibility": null,
            "width": null
          }
        },
        "e6624ee14ea44e52b7c4a9c53ad5a195": {
          "model_module": "@jupyter-widgets/controls",
          "model_name": "DescriptionStyleModel",
          "model_module_version": "1.5.0",
          "state": {
            "_model_module": "@jupyter-widgets/controls",
            "_model_module_version": "1.5.0",
            "_model_name": "DescriptionStyleModel",
            "_view_count": null,
            "_view_module": "@jupyter-widgets/base",
            "_view_module_version": "1.2.0",
            "_view_name": "StyleView",
            "description_width": ""
          }
        },
        "1172f01fe2f646718efbeba0c80da4f0": {
          "model_module": "@jupyter-widgets/controls",
          "model_name": "HBoxModel",
          "model_module_version": "1.5.0",
          "state": {
            "_dom_classes": [],
            "_model_module": "@jupyter-widgets/controls",
            "_model_module_version": "1.5.0",
            "_model_name": "HBoxModel",
            "_view_count": null,
            "_view_module": "@jupyter-widgets/controls",
            "_view_module_version": "1.5.0",
            "_view_name": "HBoxView",
            "box_style": "",
            "children": [
              "IPY_MODEL_0086c6f57bd646a693148459997b412c",
              "IPY_MODEL_a08e2bbacb0b4b34b307a350d633f11f",
              "IPY_MODEL_0e212d0e2e5d40868fc8a1c3cdbcbb49"
            ],
            "layout": "IPY_MODEL_e8be6dd291254df99a69718f981334c9"
          }
        },
        "0086c6f57bd646a693148459997b412c": {
          "model_module": "@jupyter-widgets/controls",
          "model_name": "HTMLModel",
          "model_module_version": "1.5.0",
          "state": {
            "_dom_classes": [],
            "_model_module": "@jupyter-widgets/controls",
            "_model_module_version": "1.5.0",
            "_model_name": "HTMLModel",
            "_view_count": null,
            "_view_module": "@jupyter-widgets/controls",
            "_view_module_version": "1.5.0",
            "_view_name": "HTMLView",
            "description": "",
            "description_tooltip": null,
            "layout": "IPY_MODEL_f34ad19ec78c4ca0aba3f91f9cbfbbf9",
            "placeholder": "​",
            "style": "IPY_MODEL_66ef8dd7bc42408888b22a749391be2e",
            "value": "Dl Size...: 100%"
          }
        },
        "a08e2bbacb0b4b34b307a350d633f11f": {
          "model_module": "@jupyter-widgets/controls",
          "model_name": "FloatProgressModel",
          "model_module_version": "1.5.0",
          "state": {
            "_dom_classes": [],
            "_model_module": "@jupyter-widgets/controls",
            "_model_module_version": "1.5.0",
            "_model_name": "FloatProgressModel",
            "_view_count": null,
            "_view_module": "@jupyter-widgets/controls",
            "_view_module_version": "1.5.0",
            "_view_name": "ProgressView",
            "bar_style": "success",
            "description": "",
            "description_tooltip": null,
            "layout": "IPY_MODEL_0f347ec2427d481cb4fd0d355f1b3498",
            "max": 1,
            "min": 0,
            "orientation": "horizontal",
            "style": "IPY_MODEL_5c165e533167442ab71e90ed381de462",
            "value": 1
          }
        },
        "0e212d0e2e5d40868fc8a1c3cdbcbb49": {
          "model_module": "@jupyter-widgets/controls",
          "model_name": "HTMLModel",
          "model_module_version": "1.5.0",
          "state": {
            "_dom_classes": [],
            "_model_module": "@jupyter-widgets/controls",
            "_model_module_version": "1.5.0",
            "_model_name": "HTMLModel",
            "_view_count": null,
            "_view_module": "@jupyter-widgets/controls",
            "_view_module_version": "1.5.0",
            "_view_name": "HTMLView",
            "description": "",
            "description_tooltip": null,
            "layout": "IPY_MODEL_938534e8a8c7463ca5247ccb5efce89c",
            "placeholder": "​",
            "style": "IPY_MODEL_d3bec535c2f84c8f9452020e0f095a08",
            "value": " 2423/2423 [00:51&lt;00:00, 34.39 MiB/s]"
          }
        },
        "e8be6dd291254df99a69718f981334c9": {
          "model_module": "@jupyter-widgets/base",
          "model_name": "LayoutModel",
          "model_module_version": "1.2.0",
          "state": {
            "_model_module": "@jupyter-widgets/base",
            "_model_module_version": "1.2.0",
            "_model_name": "LayoutModel",
            "_view_count": null,
            "_view_module": "@jupyter-widgets/base",
            "_view_module_version": "1.2.0",
            "_view_name": "LayoutView",
            "align_content": null,
            "align_items": null,
            "align_self": null,
            "border": null,
            "bottom": null,
            "display": null,
            "flex": null,
            "flex_flow": null,
            "grid_area": null,
            "grid_auto_columns": null,
            "grid_auto_flow": null,
            "grid_auto_rows": null,
            "grid_column": null,
            "grid_gap": null,
            "grid_row": null,
            "grid_template_areas": null,
            "grid_template_columns": null,
            "grid_template_rows": null,
            "height": null,
            "justify_content": null,
            "justify_items": null,
            "left": null,
            "margin": null,
            "max_height": null,
            "max_width": null,
            "min_height": null,
            "min_width": null,
            "object_fit": null,
            "object_position": null,
            "order": null,
            "overflow": null,
            "overflow_x": null,
            "overflow_y": null,
            "padding": null,
            "right": null,
            "top": null,
            "visibility": null,
            "width": null
          }
        },
        "f34ad19ec78c4ca0aba3f91f9cbfbbf9": {
          "model_module": "@jupyter-widgets/base",
          "model_name": "LayoutModel",
          "model_module_version": "1.2.0",
          "state": {
            "_model_module": "@jupyter-widgets/base",
            "_model_module_version": "1.2.0",
            "_model_name": "LayoutModel",
            "_view_count": null,
            "_view_module": "@jupyter-widgets/base",
            "_view_module_version": "1.2.0",
            "_view_name": "LayoutView",
            "align_content": null,
            "align_items": null,
            "align_self": null,
            "border": null,
            "bottom": null,
            "display": null,
            "flex": null,
            "flex_flow": null,
            "grid_area": null,
            "grid_auto_columns": null,
            "grid_auto_flow": null,
            "grid_auto_rows": null,
            "grid_column": null,
            "grid_gap": null,
            "grid_row": null,
            "grid_template_areas": null,
            "grid_template_columns": null,
            "grid_template_rows": null,
            "height": null,
            "justify_content": null,
            "justify_items": null,
            "left": null,
            "margin": null,
            "max_height": null,
            "max_width": null,
            "min_height": null,
            "min_width": null,
            "object_fit": null,
            "object_position": null,
            "order": null,
            "overflow": null,
            "overflow_x": null,
            "overflow_y": null,
            "padding": null,
            "right": null,
            "top": null,
            "visibility": null,
            "width": null
          }
        },
        "66ef8dd7bc42408888b22a749391be2e": {
          "model_module": "@jupyter-widgets/controls",
          "model_name": "DescriptionStyleModel",
          "model_module_version": "1.5.0",
          "state": {
            "_model_module": "@jupyter-widgets/controls",
            "_model_module_version": "1.5.0",
            "_model_name": "DescriptionStyleModel",
            "_view_count": null,
            "_view_module": "@jupyter-widgets/base",
            "_view_module_version": "1.2.0",
            "_view_name": "StyleView",
            "description_width": ""
          }
        },
        "0f347ec2427d481cb4fd0d355f1b3498": {
          "model_module": "@jupyter-widgets/base",
          "model_name": "LayoutModel",
          "model_module_version": "1.2.0",
          "state": {
            "_model_module": "@jupyter-widgets/base",
            "_model_module_version": "1.2.0",
            "_model_name": "LayoutModel",
            "_view_count": null,
            "_view_module": "@jupyter-widgets/base",
            "_view_module_version": "1.2.0",
            "_view_name": "LayoutView",
            "align_content": null,
            "align_items": null,
            "align_self": null,
            "border": null,
            "bottom": null,
            "display": null,
            "flex": null,
            "flex_flow": null,
            "grid_area": null,
            "grid_auto_columns": null,
            "grid_auto_flow": null,
            "grid_auto_rows": null,
            "grid_column": null,
            "grid_gap": null,
            "grid_row": null,
            "grid_template_areas": null,
            "grid_template_columns": null,
            "grid_template_rows": null,
            "height": null,
            "justify_content": null,
            "justify_items": null,
            "left": null,
            "margin": null,
            "max_height": null,
            "max_width": null,
            "min_height": null,
            "min_width": null,
            "object_fit": null,
            "object_position": null,
            "order": null,
            "overflow": null,
            "overflow_x": null,
            "overflow_y": null,
            "padding": null,
            "right": null,
            "top": null,
            "visibility": null,
            "width": "20px"
          }
        },
        "5c165e533167442ab71e90ed381de462": {
          "model_module": "@jupyter-widgets/controls",
          "model_name": "ProgressStyleModel",
          "model_module_version": "1.5.0",
          "state": {
            "_model_module": "@jupyter-widgets/controls",
            "_model_module_version": "1.5.0",
            "_model_name": "ProgressStyleModel",
            "_view_count": null,
            "_view_module": "@jupyter-widgets/base",
            "_view_module_version": "1.2.0",
            "_view_name": "StyleView",
            "bar_color": null,
            "description_width": ""
          }
        },
        "938534e8a8c7463ca5247ccb5efce89c": {
          "model_module": "@jupyter-widgets/base",
          "model_name": "LayoutModel",
          "model_module_version": "1.2.0",
          "state": {
            "_model_module": "@jupyter-widgets/base",
            "_model_module_version": "1.2.0",
            "_model_name": "LayoutModel",
            "_view_count": null,
            "_view_module": "@jupyter-widgets/base",
            "_view_module_version": "1.2.0",
            "_view_name": "LayoutView",
            "align_content": null,
            "align_items": null,
            "align_self": null,
            "border": null,
            "bottom": null,
            "display": null,
            "flex": null,
            "flex_flow": null,
            "grid_area": null,
            "grid_auto_columns": null,
            "grid_auto_flow": null,
            "grid_auto_rows": null,
            "grid_column": null,
            "grid_gap": null,
            "grid_row": null,
            "grid_template_areas": null,
            "grid_template_columns": null,
            "grid_template_rows": null,
            "height": null,
            "justify_content": null,
            "justify_items": null,
            "left": null,
            "margin": null,
            "max_height": null,
            "max_width": null,
            "min_height": null,
            "min_width": null,
            "object_fit": null,
            "object_position": null,
            "order": null,
            "overflow": null,
            "overflow_x": null,
            "overflow_y": null,
            "padding": null,
            "right": null,
            "top": null,
            "visibility": null,
            "width": null
          }
        },
        "d3bec535c2f84c8f9452020e0f095a08": {
          "model_module": "@jupyter-widgets/controls",
          "model_name": "DescriptionStyleModel",
          "model_module_version": "1.5.0",
          "state": {
            "_model_module": "@jupyter-widgets/controls",
            "_model_module_version": "1.5.0",
            "_model_name": "DescriptionStyleModel",
            "_view_count": null,
            "_view_module": "@jupyter-widgets/base",
            "_view_module_version": "1.2.0",
            "_view_name": "StyleView",
            "description_width": ""
          }
        },
        "a88ab25bf56e470084cb3c999cefeeb6": {
          "model_module": "@jupyter-widgets/controls",
          "model_name": "HBoxModel",
          "model_module_version": "1.5.0",
          "state": {
            "_dom_classes": [],
            "_model_module": "@jupyter-widgets/controls",
            "_model_module_version": "1.5.0",
            "_model_name": "HBoxModel",
            "_view_count": null,
            "_view_module": "@jupyter-widgets/controls",
            "_view_module_version": "1.5.0",
            "_view_name": "HBoxView",
            "box_style": "",
            "children": [
              "IPY_MODEL_13d562a0ff694a6f8dbd47d10630be0c",
              "IPY_MODEL_ec59400132f44122857c7633e1b045c1",
              "IPY_MODEL_0bbc19391d0a4070a0a6f4c19ca9e084"
            ],
            "layout": "IPY_MODEL_984dc546d4b74d95a8b26f8fd4a3ef7d"
          }
        },
        "13d562a0ff694a6f8dbd47d10630be0c": {
          "model_module": "@jupyter-widgets/controls",
          "model_name": "HTMLModel",
          "model_module_version": "1.5.0",
          "state": {
            "_dom_classes": [],
            "_model_module": "@jupyter-widgets/controls",
            "_model_module_version": "1.5.0",
            "_model_name": "HTMLModel",
            "_view_count": null,
            "_view_module": "@jupyter-widgets/controls",
            "_view_module_version": "1.5.0",
            "_view_name": "HTMLView",
            "description": "",
            "description_tooltip": null,
            "layout": "IPY_MODEL_f1cce1971eeb4d079dd2eac3ea60ec00",
            "placeholder": "​",
            "style": "IPY_MODEL_3174420411304d618a1560a77cfda3e7",
            "value": "Generating splits...: 100%"
          }
        },
        "ec59400132f44122857c7633e1b045c1": {
          "model_module": "@jupyter-widgets/controls",
          "model_name": "FloatProgressModel",
          "model_module_version": "1.5.0",
          "state": {
            "_dom_classes": [],
            "_model_module": "@jupyter-widgets/controls",
            "_model_module_version": "1.5.0",
            "_model_name": "FloatProgressModel",
            "_view_count": null,
            "_view_module": "@jupyter-widgets/controls",
            "_view_module_version": "1.5.0",
            "_view_name": "ProgressView",
            "bar_style": "",
            "description": "",
            "description_tooltip": null,
            "layout": "IPY_MODEL_7a9e80897a04402393c46ffecc2ea0af",
            "max": 3,
            "min": 0,
            "orientation": "horizontal",
            "style": "IPY_MODEL_5765a5c25ae448208bf0d2c663a7f540",
            "value": 3
          }
        },
        "0bbc19391d0a4070a0a6f4c19ca9e084": {
          "model_module": "@jupyter-widgets/controls",
          "model_name": "HTMLModel",
          "model_module_version": "1.5.0",
          "state": {
            "_dom_classes": [],
            "_model_module": "@jupyter-widgets/controls",
            "_model_module_version": "1.5.0",
            "_model_name": "HTMLModel",
            "_view_count": null,
            "_view_module": "@jupyter-widgets/controls",
            "_view_module_version": "1.5.0",
            "_view_name": "HTMLView",
            "description": "",
            "description_tooltip": null,
            "layout": "IPY_MODEL_4c4d7b42079c46d8b8b1e1e1dce0a7d7",
            "placeholder": "​",
            "style": "IPY_MODEL_fc4d32f32c674086b9532aa3b5f58e8d",
            "value": " 3/3 [11:45&lt;00:00, 176.18s/ splits]"
          }
        },
        "984dc546d4b74d95a8b26f8fd4a3ef7d": {
          "model_module": "@jupyter-widgets/base",
          "model_name": "LayoutModel",
          "model_module_version": "1.2.0",
          "state": {
            "_model_module": "@jupyter-widgets/base",
            "_model_module_version": "1.2.0",
            "_model_name": "LayoutModel",
            "_view_count": null,
            "_view_module": "@jupyter-widgets/base",
            "_view_module_version": "1.2.0",
            "_view_name": "LayoutView",
            "align_content": null,
            "align_items": null,
            "align_self": null,
            "border": null,
            "bottom": null,
            "display": null,
            "flex": null,
            "flex_flow": null,
            "grid_area": null,
            "grid_auto_columns": null,
            "grid_auto_flow": null,
            "grid_auto_rows": null,
            "grid_column": null,
            "grid_gap": null,
            "grid_row": null,
            "grid_template_areas": null,
            "grid_template_columns": null,
            "grid_template_rows": null,
            "height": null,
            "justify_content": null,
            "justify_items": null,
            "left": null,
            "margin": null,
            "max_height": null,
            "max_width": null,
            "min_height": null,
            "min_width": null,
            "object_fit": null,
            "object_position": null,
            "order": null,
            "overflow": null,
            "overflow_x": null,
            "overflow_y": null,
            "padding": null,
            "right": null,
            "top": null,
            "visibility": "hidden",
            "width": null
          }
        },
        "f1cce1971eeb4d079dd2eac3ea60ec00": {
          "model_module": "@jupyter-widgets/base",
          "model_name": "LayoutModel",
          "model_module_version": "1.2.0",
          "state": {
            "_model_module": "@jupyter-widgets/base",
            "_model_module_version": "1.2.0",
            "_model_name": "LayoutModel",
            "_view_count": null,
            "_view_module": "@jupyter-widgets/base",
            "_view_module_version": "1.2.0",
            "_view_name": "LayoutView",
            "align_content": null,
            "align_items": null,
            "align_self": null,
            "border": null,
            "bottom": null,
            "display": null,
            "flex": null,
            "flex_flow": null,
            "grid_area": null,
            "grid_auto_columns": null,
            "grid_auto_flow": null,
            "grid_auto_rows": null,
            "grid_column": null,
            "grid_gap": null,
            "grid_row": null,
            "grid_template_areas": null,
            "grid_template_columns": null,
            "grid_template_rows": null,
            "height": null,
            "justify_content": null,
            "justify_items": null,
            "left": null,
            "margin": null,
            "max_height": null,
            "max_width": null,
            "min_height": null,
            "min_width": null,
            "object_fit": null,
            "object_position": null,
            "order": null,
            "overflow": null,
            "overflow_x": null,
            "overflow_y": null,
            "padding": null,
            "right": null,
            "top": null,
            "visibility": null,
            "width": null
          }
        },
        "3174420411304d618a1560a77cfda3e7": {
          "model_module": "@jupyter-widgets/controls",
          "model_name": "DescriptionStyleModel",
          "model_module_version": "1.5.0",
          "state": {
            "_model_module": "@jupyter-widgets/controls",
            "_model_module_version": "1.5.0",
            "_model_name": "DescriptionStyleModel",
            "_view_count": null,
            "_view_module": "@jupyter-widgets/base",
            "_view_module_version": "1.2.0",
            "_view_name": "StyleView",
            "description_width": ""
          }
        },
        "7a9e80897a04402393c46ffecc2ea0af": {
          "model_module": "@jupyter-widgets/base",
          "model_name": "LayoutModel",
          "model_module_version": "1.2.0",
          "state": {
            "_model_module": "@jupyter-widgets/base",
            "_model_module_version": "1.2.0",
            "_model_name": "LayoutModel",
            "_view_count": null,
            "_view_module": "@jupyter-widgets/base",
            "_view_module_version": "1.2.0",
            "_view_name": "LayoutView",
            "align_content": null,
            "align_items": null,
            "align_self": null,
            "border": null,
            "bottom": null,
            "display": null,
            "flex": null,
            "flex_flow": null,
            "grid_area": null,
            "grid_auto_columns": null,
            "grid_auto_flow": null,
            "grid_auto_rows": null,
            "grid_column": null,
            "grid_gap": null,
            "grid_row": null,
            "grid_template_areas": null,
            "grid_template_columns": null,
            "grid_template_rows": null,
            "height": null,
            "justify_content": null,
            "justify_items": null,
            "left": null,
            "margin": null,
            "max_height": null,
            "max_width": null,
            "min_height": null,
            "min_width": null,
            "object_fit": null,
            "object_position": null,
            "order": null,
            "overflow": null,
            "overflow_x": null,
            "overflow_y": null,
            "padding": null,
            "right": null,
            "top": null,
            "visibility": null,
            "width": null
          }
        },
        "5765a5c25ae448208bf0d2c663a7f540": {
          "model_module": "@jupyter-widgets/controls",
          "model_name": "ProgressStyleModel",
          "model_module_version": "1.5.0",
          "state": {
            "_model_module": "@jupyter-widgets/controls",
            "_model_module_version": "1.5.0",
            "_model_name": "ProgressStyleModel",
            "_view_count": null,
            "_view_module": "@jupyter-widgets/base",
            "_view_module_version": "1.2.0",
            "_view_name": "StyleView",
            "bar_color": null,
            "description_width": ""
          }
        },
        "4c4d7b42079c46d8b8b1e1e1dce0a7d7": {
          "model_module": "@jupyter-widgets/base",
          "model_name": "LayoutModel",
          "model_module_version": "1.2.0",
          "state": {
            "_model_module": "@jupyter-widgets/base",
            "_model_module_version": "1.2.0",
            "_model_name": "LayoutModel",
            "_view_count": null,
            "_view_module": "@jupyter-widgets/base",
            "_view_module_version": "1.2.0",
            "_view_name": "LayoutView",
            "align_content": null,
            "align_items": null,
            "align_self": null,
            "border": null,
            "bottom": null,
            "display": null,
            "flex": null,
            "flex_flow": null,
            "grid_area": null,
            "grid_auto_columns": null,
            "grid_auto_flow": null,
            "grid_auto_rows": null,
            "grid_column": null,
            "grid_gap": null,
            "grid_row": null,
            "grid_template_areas": null,
            "grid_template_columns": null,
            "grid_template_rows": null,
            "height": null,
            "justify_content": null,
            "justify_items": null,
            "left": null,
            "margin": null,
            "max_height": null,
            "max_width": null,
            "min_height": null,
            "min_width": null,
            "object_fit": null,
            "object_position": null,
            "order": null,
            "overflow": null,
            "overflow_x": null,
            "overflow_y": null,
            "padding": null,
            "right": null,
            "top": null,
            "visibility": null,
            "width": null
          }
        },
        "fc4d32f32c674086b9532aa3b5f58e8d": {
          "model_module": "@jupyter-widgets/controls",
          "model_name": "DescriptionStyleModel",
          "model_module_version": "1.5.0",
          "state": {
            "_model_module": "@jupyter-widgets/controls",
            "_model_module_version": "1.5.0",
            "_model_name": "DescriptionStyleModel",
            "_view_count": null,
            "_view_module": "@jupyter-widgets/base",
            "_view_module_version": "1.2.0",
            "_view_name": "StyleView",
            "description_width": ""
          }
        },
        "61e55835557a40cca5d7c6779a4524af": {
          "model_module": "@jupyter-widgets/controls",
          "model_name": "HBoxModel",
          "model_module_version": "1.5.0",
          "state": {
            "_dom_classes": [],
            "_model_module": "@jupyter-widgets/controls",
            "_model_module_version": "1.5.0",
            "_model_name": "HBoxModel",
            "_view_count": null,
            "_view_module": "@jupyter-widgets/controls",
            "_view_module_version": "1.5.0",
            "_view_name": "HBoxView",
            "box_style": "",
            "children": [
              "IPY_MODEL_cf00bf441faa4de19948d12a4a6747ed",
              "IPY_MODEL_5d34b94263d549e5a9b52a0b85657321",
              "IPY_MODEL_f7a02afde9904dd7bcf5bcdcf97b3250"
            ],
            "layout": "IPY_MODEL_8b7aa16d44f84135996a952f5034f3f4"
          }
        },
        "cf00bf441faa4de19948d12a4a6747ed": {
          "model_module": "@jupyter-widgets/controls",
          "model_name": "HTMLModel",
          "model_module_version": "1.5.0",
          "state": {
            "_dom_classes": [],
            "_model_module": "@jupyter-widgets/controls",
            "_model_module_version": "1.5.0",
            "_model_name": "HTMLModel",
            "_view_count": null,
            "_view_module": "@jupyter-widgets/controls",
            "_view_module_version": "1.5.0",
            "_view_name": "HTMLView",
            "description": "",
            "description_tooltip": null,
            "layout": "IPY_MODEL_fb72d7a484954fa19e2c4e7d604e939f",
            "placeholder": "​",
            "style": "IPY_MODEL_8945118b09194b3b97a56782fde6c582",
            "value": "Generating train examples...: 100%"
          }
        },
        "5d34b94263d549e5a9b52a0b85657321": {
          "model_module": "@jupyter-widgets/controls",
          "model_name": "FloatProgressModel",
          "model_module_version": "1.5.0",
          "state": {
            "_dom_classes": [],
            "_model_module": "@jupyter-widgets/controls",
            "_model_module_version": "1.5.0",
            "_model_name": "FloatProgressModel",
            "_view_count": null,
            "_view_module": "@jupyter-widgets/controls",
            "_view_module_version": "1.5.0",
            "_view_name": "ProgressView",
            "bar_style": "",
            "description": "",
            "description_tooltip": null,
            "layout": "IPY_MODEL_a4612dfe28a846b7ae92dc6373d24fcd",
            "max": 85511,
            "min": 0,
            "orientation": "horizontal",
            "style": "IPY_MODEL_16ec3147da614e86a56591e9dbaaf012",
            "value": 85511
          }
        },
        "f7a02afde9904dd7bcf5bcdcf97b3250": {
          "model_module": "@jupyter-widgets/controls",
          "model_name": "HTMLModel",
          "model_module_version": "1.5.0",
          "state": {
            "_dom_classes": [],
            "_model_module": "@jupyter-widgets/controls",
            "_model_module_version": "1.5.0",
            "_model_name": "HTMLModel",
            "_view_count": null,
            "_view_module": "@jupyter-widgets/controls",
            "_view_module_version": "1.5.0",
            "_view_name": "HTMLView",
            "description": "",
            "description_tooltip": null,
            "layout": "IPY_MODEL_29c0c251c03745e38ffd55e4544d2fe7",
            "placeholder": "​",
            "style": "IPY_MODEL_fbd3900bce4544ac87e2383e7b344241",
            "value": " 85419/85511 [08:10&lt;00:00, 165.83 examples/s]"
          }
        },
        "8b7aa16d44f84135996a952f5034f3f4": {
          "model_module": "@jupyter-widgets/base",
          "model_name": "LayoutModel",
          "model_module_version": "1.2.0",
          "state": {
            "_model_module": "@jupyter-widgets/base",
            "_model_module_version": "1.2.0",
            "_model_name": "LayoutModel",
            "_view_count": null,
            "_view_module": "@jupyter-widgets/base",
            "_view_module_version": "1.2.0",
            "_view_name": "LayoutView",
            "align_content": null,
            "align_items": null,
            "align_self": null,
            "border": null,
            "bottom": null,
            "display": null,
            "flex": null,
            "flex_flow": null,
            "grid_area": null,
            "grid_auto_columns": null,
            "grid_auto_flow": null,
            "grid_auto_rows": null,
            "grid_column": null,
            "grid_gap": null,
            "grid_row": null,
            "grid_template_areas": null,
            "grid_template_columns": null,
            "grid_template_rows": null,
            "height": null,
            "justify_content": null,
            "justify_items": null,
            "left": null,
            "margin": null,
            "max_height": null,
            "max_width": null,
            "min_height": null,
            "min_width": null,
            "object_fit": null,
            "object_position": null,
            "order": null,
            "overflow": null,
            "overflow_x": null,
            "overflow_y": null,
            "padding": null,
            "right": null,
            "top": null,
            "visibility": "hidden",
            "width": null
          }
        },
        "fb72d7a484954fa19e2c4e7d604e939f": {
          "model_module": "@jupyter-widgets/base",
          "model_name": "LayoutModel",
          "model_module_version": "1.2.0",
          "state": {
            "_model_module": "@jupyter-widgets/base",
            "_model_module_version": "1.2.0",
            "_model_name": "LayoutModel",
            "_view_count": null,
            "_view_module": "@jupyter-widgets/base",
            "_view_module_version": "1.2.0",
            "_view_name": "LayoutView",
            "align_content": null,
            "align_items": null,
            "align_self": null,
            "border": null,
            "bottom": null,
            "display": null,
            "flex": null,
            "flex_flow": null,
            "grid_area": null,
            "grid_auto_columns": null,
            "grid_auto_flow": null,
            "grid_auto_rows": null,
            "grid_column": null,
            "grid_gap": null,
            "grid_row": null,
            "grid_template_areas": null,
            "grid_template_columns": null,
            "grid_template_rows": null,
            "height": null,
            "justify_content": null,
            "justify_items": null,
            "left": null,
            "margin": null,
            "max_height": null,
            "max_width": null,
            "min_height": null,
            "min_width": null,
            "object_fit": null,
            "object_position": null,
            "order": null,
            "overflow": null,
            "overflow_x": null,
            "overflow_y": null,
            "padding": null,
            "right": null,
            "top": null,
            "visibility": null,
            "width": null
          }
        },
        "8945118b09194b3b97a56782fde6c582": {
          "model_module": "@jupyter-widgets/controls",
          "model_name": "DescriptionStyleModel",
          "model_module_version": "1.5.0",
          "state": {
            "_model_module": "@jupyter-widgets/controls",
            "_model_module_version": "1.5.0",
            "_model_name": "DescriptionStyleModel",
            "_view_count": null,
            "_view_module": "@jupyter-widgets/base",
            "_view_module_version": "1.2.0",
            "_view_name": "StyleView",
            "description_width": ""
          }
        },
        "a4612dfe28a846b7ae92dc6373d24fcd": {
          "model_module": "@jupyter-widgets/base",
          "model_name": "LayoutModel",
          "model_module_version": "1.2.0",
          "state": {
            "_model_module": "@jupyter-widgets/base",
            "_model_module_version": "1.2.0",
            "_model_name": "LayoutModel",
            "_view_count": null,
            "_view_module": "@jupyter-widgets/base",
            "_view_module_version": "1.2.0",
            "_view_name": "LayoutView",
            "align_content": null,
            "align_items": null,
            "align_self": null,
            "border": null,
            "bottom": null,
            "display": null,
            "flex": null,
            "flex_flow": null,
            "grid_area": null,
            "grid_auto_columns": null,
            "grid_auto_flow": null,
            "grid_auto_rows": null,
            "grid_column": null,
            "grid_gap": null,
            "grid_row": null,
            "grid_template_areas": null,
            "grid_template_columns": null,
            "grid_template_rows": null,
            "height": null,
            "justify_content": null,
            "justify_items": null,
            "left": null,
            "margin": null,
            "max_height": null,
            "max_width": null,
            "min_height": null,
            "min_width": null,
            "object_fit": null,
            "object_position": null,
            "order": null,
            "overflow": null,
            "overflow_x": null,
            "overflow_y": null,
            "padding": null,
            "right": null,
            "top": null,
            "visibility": null,
            "width": null
          }
        },
        "16ec3147da614e86a56591e9dbaaf012": {
          "model_module": "@jupyter-widgets/controls",
          "model_name": "ProgressStyleModel",
          "model_module_version": "1.5.0",
          "state": {
            "_model_module": "@jupyter-widgets/controls",
            "_model_module_version": "1.5.0",
            "_model_name": "ProgressStyleModel",
            "_view_count": null,
            "_view_module": "@jupyter-widgets/base",
            "_view_module_version": "1.2.0",
            "_view_name": "StyleView",
            "bar_color": null,
            "description_width": ""
          }
        },
        "29c0c251c03745e38ffd55e4544d2fe7": {
          "model_module": "@jupyter-widgets/base",
          "model_name": "LayoutModel",
          "model_module_version": "1.2.0",
          "state": {
            "_model_module": "@jupyter-widgets/base",
            "_model_module_version": "1.2.0",
            "_model_name": "LayoutModel",
            "_view_count": null,
            "_view_module": "@jupyter-widgets/base",
            "_view_module_version": "1.2.0",
            "_view_name": "LayoutView",
            "align_content": null,
            "align_items": null,
            "align_self": null,
            "border": null,
            "bottom": null,
            "display": null,
            "flex": null,
            "flex_flow": null,
            "grid_area": null,
            "grid_auto_columns": null,
            "grid_auto_flow": null,
            "grid_auto_rows": null,
            "grid_column": null,
            "grid_gap": null,
            "grid_row": null,
            "grid_template_areas": null,
            "grid_template_columns": null,
            "grid_template_rows": null,
            "height": null,
            "justify_content": null,
            "justify_items": null,
            "left": null,
            "margin": null,
            "max_height": null,
            "max_width": null,
            "min_height": null,
            "min_width": null,
            "object_fit": null,
            "object_position": null,
            "order": null,
            "overflow": null,
            "overflow_x": null,
            "overflow_y": null,
            "padding": null,
            "right": null,
            "top": null,
            "visibility": null,
            "width": null
          }
        },
        "fbd3900bce4544ac87e2383e7b344241": {
          "model_module": "@jupyter-widgets/controls",
          "model_name": "DescriptionStyleModel",
          "model_module_version": "1.5.0",
          "state": {
            "_model_module": "@jupyter-widgets/controls",
            "_model_module_version": "1.5.0",
            "_model_name": "DescriptionStyleModel",
            "_view_count": null,
            "_view_module": "@jupyter-widgets/base",
            "_view_module_version": "1.2.0",
            "_view_name": "StyleView",
            "description_width": ""
          }
        },
        "9f6aa6e3e8384229b069e0a0b0db9913": {
          "model_module": "@jupyter-widgets/controls",
          "model_name": "HBoxModel",
          "model_module_version": "1.5.0",
          "state": {
            "_dom_classes": [],
            "_model_module": "@jupyter-widgets/controls",
            "_model_module_version": "1.5.0",
            "_model_name": "HBoxModel",
            "_view_count": null,
            "_view_module": "@jupyter-widgets/controls",
            "_view_module_version": "1.5.0",
            "_view_name": "HBoxView",
            "box_style": "",
            "children": [
              "IPY_MODEL_73cf2e8475aa4494a2689dbd76c04316",
              "IPY_MODEL_d3068c9e786d4b998d59646a76e3aab9",
              "IPY_MODEL_3956bcff254b43cea02f3e17ccba7f13"
            ],
            "layout": "IPY_MODEL_622f2168e59d4df79e2cb86d94d9abdb"
          }
        },
        "73cf2e8475aa4494a2689dbd76c04316": {
          "model_module": "@jupyter-widgets/controls",
          "model_name": "HTMLModel",
          "model_module_version": "1.5.0",
          "state": {
            "_dom_classes": [],
            "_model_module": "@jupyter-widgets/controls",
            "_model_module_version": "1.5.0",
            "_model_name": "HTMLModel",
            "_view_count": null,
            "_view_module": "@jupyter-widgets/controls",
            "_view_module_version": "1.5.0",
            "_view_name": "HTMLView",
            "description": "",
            "description_tooltip": null,
            "layout": "IPY_MODEL_a1bedf4860f74f7ca8ec92b85d70dd13",
            "placeholder": "​",
            "style": "IPY_MODEL_29c1175a81ca4143b7839e600e1a87a9",
            "value": "Shuffling dataset/speech_commands/0.0.3.incompleteMNXDIZ/speech_commands-train.tfrecord*...: 100%"
          }
        },
        "d3068c9e786d4b998d59646a76e3aab9": {
          "model_module": "@jupyter-widgets/controls",
          "model_name": "FloatProgressModel",
          "model_module_version": "1.5.0",
          "state": {
            "_dom_classes": [],
            "_model_module": "@jupyter-widgets/controls",
            "_model_module_version": "1.5.0",
            "_model_name": "FloatProgressModel",
            "_view_count": null,
            "_view_module": "@jupyter-widgets/controls",
            "_view_module_version": "1.5.0",
            "_view_name": "ProgressView",
            "bar_style": "",
            "description": "",
            "description_tooltip": null,
            "layout": "IPY_MODEL_8de8a3f3935047919d8f80f0220b2d08",
            "max": 85511,
            "min": 0,
            "orientation": "horizontal",
            "style": "IPY_MODEL_4ca0c42b71604dcb91706a40a3bd913a",
            "value": 85511
          }
        },
        "3956bcff254b43cea02f3e17ccba7f13": {
          "model_module": "@jupyter-widgets/controls",
          "model_name": "HTMLModel",
          "model_module_version": "1.5.0",
          "state": {
            "_dom_classes": [],
            "_model_module": "@jupyter-widgets/controls",
            "_model_module_version": "1.5.0",
            "_model_name": "HTMLModel",
            "_view_count": null,
            "_view_module": "@jupyter-widgets/controls",
            "_view_module_version": "1.5.0",
            "_view_name": "HTMLView",
            "description": "",
            "description_tooltip": null,
            "layout": "IPY_MODEL_2ce68ca88b88431bb80ceed308a8d54b",
            "placeholder": "​",
            "style": "IPY_MODEL_386f07b904a745f786bc8899bbcf277a",
            "value": " 85416/85511 [01:08&lt;00:00, 1425.88 examples/s]"
          }
        },
        "622f2168e59d4df79e2cb86d94d9abdb": {
          "model_module": "@jupyter-widgets/base",
          "model_name": "LayoutModel",
          "model_module_version": "1.2.0",
          "state": {
            "_model_module": "@jupyter-widgets/base",
            "_model_module_version": "1.2.0",
            "_model_name": "LayoutModel",
            "_view_count": null,
            "_view_module": "@jupyter-widgets/base",
            "_view_module_version": "1.2.0",
            "_view_name": "LayoutView",
            "align_content": null,
            "align_items": null,
            "align_self": null,
            "border": null,
            "bottom": null,
            "display": null,
            "flex": null,
            "flex_flow": null,
            "grid_area": null,
            "grid_auto_columns": null,
            "grid_auto_flow": null,
            "grid_auto_rows": null,
            "grid_column": null,
            "grid_gap": null,
            "grid_row": null,
            "grid_template_areas": null,
            "grid_template_columns": null,
            "grid_template_rows": null,
            "height": null,
            "justify_content": null,
            "justify_items": null,
            "left": null,
            "margin": null,
            "max_height": null,
            "max_width": null,
            "min_height": null,
            "min_width": null,
            "object_fit": null,
            "object_position": null,
            "order": null,
            "overflow": null,
            "overflow_x": null,
            "overflow_y": null,
            "padding": null,
            "right": null,
            "top": null,
            "visibility": "hidden",
            "width": null
          }
        },
        "a1bedf4860f74f7ca8ec92b85d70dd13": {
          "model_module": "@jupyter-widgets/base",
          "model_name": "LayoutModel",
          "model_module_version": "1.2.0",
          "state": {
            "_model_module": "@jupyter-widgets/base",
            "_model_module_version": "1.2.0",
            "_model_name": "LayoutModel",
            "_view_count": null,
            "_view_module": "@jupyter-widgets/base",
            "_view_module_version": "1.2.0",
            "_view_name": "LayoutView",
            "align_content": null,
            "align_items": null,
            "align_self": null,
            "border": null,
            "bottom": null,
            "display": null,
            "flex": null,
            "flex_flow": null,
            "grid_area": null,
            "grid_auto_columns": null,
            "grid_auto_flow": null,
            "grid_auto_rows": null,
            "grid_column": null,
            "grid_gap": null,
            "grid_row": null,
            "grid_template_areas": null,
            "grid_template_columns": null,
            "grid_template_rows": null,
            "height": null,
            "justify_content": null,
            "justify_items": null,
            "left": null,
            "margin": null,
            "max_height": null,
            "max_width": null,
            "min_height": null,
            "min_width": null,
            "object_fit": null,
            "object_position": null,
            "order": null,
            "overflow": null,
            "overflow_x": null,
            "overflow_y": null,
            "padding": null,
            "right": null,
            "top": null,
            "visibility": null,
            "width": null
          }
        },
        "29c1175a81ca4143b7839e600e1a87a9": {
          "model_module": "@jupyter-widgets/controls",
          "model_name": "DescriptionStyleModel",
          "model_module_version": "1.5.0",
          "state": {
            "_model_module": "@jupyter-widgets/controls",
            "_model_module_version": "1.5.0",
            "_model_name": "DescriptionStyleModel",
            "_view_count": null,
            "_view_module": "@jupyter-widgets/base",
            "_view_module_version": "1.2.0",
            "_view_name": "StyleView",
            "description_width": ""
          }
        },
        "8de8a3f3935047919d8f80f0220b2d08": {
          "model_module": "@jupyter-widgets/base",
          "model_name": "LayoutModel",
          "model_module_version": "1.2.0",
          "state": {
            "_model_module": "@jupyter-widgets/base",
            "_model_module_version": "1.2.0",
            "_model_name": "LayoutModel",
            "_view_count": null,
            "_view_module": "@jupyter-widgets/base",
            "_view_module_version": "1.2.0",
            "_view_name": "LayoutView",
            "align_content": null,
            "align_items": null,
            "align_self": null,
            "border": null,
            "bottom": null,
            "display": null,
            "flex": null,
            "flex_flow": null,
            "grid_area": null,
            "grid_auto_columns": null,
            "grid_auto_flow": null,
            "grid_auto_rows": null,
            "grid_column": null,
            "grid_gap": null,
            "grid_row": null,
            "grid_template_areas": null,
            "grid_template_columns": null,
            "grid_template_rows": null,
            "height": null,
            "justify_content": null,
            "justify_items": null,
            "left": null,
            "margin": null,
            "max_height": null,
            "max_width": null,
            "min_height": null,
            "min_width": null,
            "object_fit": null,
            "object_position": null,
            "order": null,
            "overflow": null,
            "overflow_x": null,
            "overflow_y": null,
            "padding": null,
            "right": null,
            "top": null,
            "visibility": null,
            "width": null
          }
        },
        "4ca0c42b71604dcb91706a40a3bd913a": {
          "model_module": "@jupyter-widgets/controls",
          "model_name": "ProgressStyleModel",
          "model_module_version": "1.5.0",
          "state": {
            "_model_module": "@jupyter-widgets/controls",
            "_model_module_version": "1.5.0",
            "_model_name": "ProgressStyleModel",
            "_view_count": null,
            "_view_module": "@jupyter-widgets/base",
            "_view_module_version": "1.2.0",
            "_view_name": "StyleView",
            "bar_color": null,
            "description_width": ""
          }
        },
        "2ce68ca88b88431bb80ceed308a8d54b": {
          "model_module": "@jupyter-widgets/base",
          "model_name": "LayoutModel",
          "model_module_version": "1.2.0",
          "state": {
            "_model_module": "@jupyter-widgets/base",
            "_model_module_version": "1.2.0",
            "_model_name": "LayoutModel",
            "_view_count": null,
            "_view_module": "@jupyter-widgets/base",
            "_view_module_version": "1.2.0",
            "_view_name": "LayoutView",
            "align_content": null,
            "align_items": null,
            "align_self": null,
            "border": null,
            "bottom": null,
            "display": null,
            "flex": null,
            "flex_flow": null,
            "grid_area": null,
            "grid_auto_columns": null,
            "grid_auto_flow": null,
            "grid_auto_rows": null,
            "grid_column": null,
            "grid_gap": null,
            "grid_row": null,
            "grid_template_areas": null,
            "grid_template_columns": null,
            "grid_template_rows": null,
            "height": null,
            "justify_content": null,
            "justify_items": null,
            "left": null,
            "margin": null,
            "max_height": null,
            "max_width": null,
            "min_height": null,
            "min_width": null,
            "object_fit": null,
            "object_position": null,
            "order": null,
            "overflow": null,
            "overflow_x": null,
            "overflow_y": null,
            "padding": null,
            "right": null,
            "top": null,
            "visibility": null,
            "width": null
          }
        },
        "386f07b904a745f786bc8899bbcf277a": {
          "model_module": "@jupyter-widgets/controls",
          "model_name": "DescriptionStyleModel",
          "model_module_version": "1.5.0",
          "state": {
            "_model_module": "@jupyter-widgets/controls",
            "_model_module_version": "1.5.0",
            "_model_name": "DescriptionStyleModel",
            "_view_count": null,
            "_view_module": "@jupyter-widgets/base",
            "_view_module_version": "1.2.0",
            "_view_name": "StyleView",
            "description_width": ""
          }
        },
        "49e59e463966428281753e19bf6413c3": {
          "model_module": "@jupyter-widgets/controls",
          "model_name": "HBoxModel",
          "model_module_version": "1.5.0",
          "state": {
            "_dom_classes": [],
            "_model_module": "@jupyter-widgets/controls",
            "_model_module_version": "1.5.0",
            "_model_name": "HBoxModel",
            "_view_count": null,
            "_view_module": "@jupyter-widgets/controls",
            "_view_module_version": "1.5.0",
            "_view_name": "HBoxView",
            "box_style": "",
            "children": [
              "IPY_MODEL_802b4edfe3ac4a4cbf8fc1f98a91c83a",
              "IPY_MODEL_8d5e3f8a6d6e44bfad55d6f737592fb7",
              "IPY_MODEL_9c6148ffe555402ea234dbd9066e6801"
            ],
            "layout": "IPY_MODEL_6a49a85661534bd0b71b1aa79209a9c7"
          }
        },
        "802b4edfe3ac4a4cbf8fc1f98a91c83a": {
          "model_module": "@jupyter-widgets/controls",
          "model_name": "HTMLModel",
          "model_module_version": "1.5.0",
          "state": {
            "_dom_classes": [],
            "_model_module": "@jupyter-widgets/controls",
            "_model_module_version": "1.5.0",
            "_model_name": "HTMLModel",
            "_view_count": null,
            "_view_module": "@jupyter-widgets/controls",
            "_view_module_version": "1.5.0",
            "_view_name": "HTMLView",
            "description": "",
            "description_tooltip": null,
            "layout": "IPY_MODEL_dc97bf715b6b463e83a3d0e1ad8be801",
            "placeholder": "​",
            "style": "IPY_MODEL_1fe57bb53eb84c89935d006d48168fdd",
            "value": "Generating validation examples...:  99%"
          }
        },
        "8d5e3f8a6d6e44bfad55d6f737592fb7": {
          "model_module": "@jupyter-widgets/controls",
          "model_name": "FloatProgressModel",
          "model_module_version": "1.5.0",
          "state": {
            "_dom_classes": [],
            "_model_module": "@jupyter-widgets/controls",
            "_model_module_version": "1.5.0",
            "_model_name": "FloatProgressModel",
            "_view_count": null,
            "_view_module": "@jupyter-widgets/controls",
            "_view_module_version": "1.5.0",
            "_view_name": "ProgressView",
            "bar_style": "",
            "description": "",
            "description_tooltip": null,
            "layout": "IPY_MODEL_7bd7a7bcc3c9445aafcfb1259496d613",
            "max": 10102,
            "min": 0,
            "orientation": "horizontal",
            "style": "IPY_MODEL_89af0870b0ee4f74b9e7f66d62af8d16",
            "value": 10102
          }
        },
        "9c6148ffe555402ea234dbd9066e6801": {
          "model_module": "@jupyter-widgets/controls",
          "model_name": "HTMLModel",
          "model_module_version": "1.5.0",
          "state": {
            "_dom_classes": [],
            "_model_module": "@jupyter-widgets/controls",
            "_model_module_version": "1.5.0",
            "_model_name": "HTMLModel",
            "_view_count": null,
            "_view_module": "@jupyter-widgets/controls",
            "_view_module_version": "1.5.0",
            "_view_name": "HTMLView",
            "description": "",
            "description_tooltip": null,
            "layout": "IPY_MODEL_08ad50f7a6dc4108abaf1b150378d64f",
            "placeholder": "​",
            "style": "IPY_MODEL_acec9284d61b4185a55d03565d94ea0a",
            "value": " 10046/10102 [01:48&lt;00:00, 98.31 examples/s]"
          }
        },
        "6a49a85661534bd0b71b1aa79209a9c7": {
          "model_module": "@jupyter-widgets/base",
          "model_name": "LayoutModel",
          "model_module_version": "1.2.0",
          "state": {
            "_model_module": "@jupyter-widgets/base",
            "_model_module_version": "1.2.0",
            "_model_name": "LayoutModel",
            "_view_count": null,
            "_view_module": "@jupyter-widgets/base",
            "_view_module_version": "1.2.0",
            "_view_name": "LayoutView",
            "align_content": null,
            "align_items": null,
            "align_self": null,
            "border": null,
            "bottom": null,
            "display": null,
            "flex": null,
            "flex_flow": null,
            "grid_area": null,
            "grid_auto_columns": null,
            "grid_auto_flow": null,
            "grid_auto_rows": null,
            "grid_column": null,
            "grid_gap": null,
            "grid_row": null,
            "grid_template_areas": null,
            "grid_template_columns": null,
            "grid_template_rows": null,
            "height": null,
            "justify_content": null,
            "justify_items": null,
            "left": null,
            "margin": null,
            "max_height": null,
            "max_width": null,
            "min_height": null,
            "min_width": null,
            "object_fit": null,
            "object_position": null,
            "order": null,
            "overflow": null,
            "overflow_x": null,
            "overflow_y": null,
            "padding": null,
            "right": null,
            "top": null,
            "visibility": "hidden",
            "width": null
          }
        },
        "dc97bf715b6b463e83a3d0e1ad8be801": {
          "model_module": "@jupyter-widgets/base",
          "model_name": "LayoutModel",
          "model_module_version": "1.2.0",
          "state": {
            "_model_module": "@jupyter-widgets/base",
            "_model_module_version": "1.2.0",
            "_model_name": "LayoutModel",
            "_view_count": null,
            "_view_module": "@jupyter-widgets/base",
            "_view_module_version": "1.2.0",
            "_view_name": "LayoutView",
            "align_content": null,
            "align_items": null,
            "align_self": null,
            "border": null,
            "bottom": null,
            "display": null,
            "flex": null,
            "flex_flow": null,
            "grid_area": null,
            "grid_auto_columns": null,
            "grid_auto_flow": null,
            "grid_auto_rows": null,
            "grid_column": null,
            "grid_gap": null,
            "grid_row": null,
            "grid_template_areas": null,
            "grid_template_columns": null,
            "grid_template_rows": null,
            "height": null,
            "justify_content": null,
            "justify_items": null,
            "left": null,
            "margin": null,
            "max_height": null,
            "max_width": null,
            "min_height": null,
            "min_width": null,
            "object_fit": null,
            "object_position": null,
            "order": null,
            "overflow": null,
            "overflow_x": null,
            "overflow_y": null,
            "padding": null,
            "right": null,
            "top": null,
            "visibility": null,
            "width": null
          }
        },
        "1fe57bb53eb84c89935d006d48168fdd": {
          "model_module": "@jupyter-widgets/controls",
          "model_name": "DescriptionStyleModel",
          "model_module_version": "1.5.0",
          "state": {
            "_model_module": "@jupyter-widgets/controls",
            "_model_module_version": "1.5.0",
            "_model_name": "DescriptionStyleModel",
            "_view_count": null,
            "_view_module": "@jupyter-widgets/base",
            "_view_module_version": "1.2.0",
            "_view_name": "StyleView",
            "description_width": ""
          }
        },
        "7bd7a7bcc3c9445aafcfb1259496d613": {
          "model_module": "@jupyter-widgets/base",
          "model_name": "LayoutModel",
          "model_module_version": "1.2.0",
          "state": {
            "_model_module": "@jupyter-widgets/base",
            "_model_module_version": "1.2.0",
            "_model_name": "LayoutModel",
            "_view_count": null,
            "_view_module": "@jupyter-widgets/base",
            "_view_module_version": "1.2.0",
            "_view_name": "LayoutView",
            "align_content": null,
            "align_items": null,
            "align_self": null,
            "border": null,
            "bottom": null,
            "display": null,
            "flex": null,
            "flex_flow": null,
            "grid_area": null,
            "grid_auto_columns": null,
            "grid_auto_flow": null,
            "grid_auto_rows": null,
            "grid_column": null,
            "grid_gap": null,
            "grid_row": null,
            "grid_template_areas": null,
            "grid_template_columns": null,
            "grid_template_rows": null,
            "height": null,
            "justify_content": null,
            "justify_items": null,
            "left": null,
            "margin": null,
            "max_height": null,
            "max_width": null,
            "min_height": null,
            "min_width": null,
            "object_fit": null,
            "object_position": null,
            "order": null,
            "overflow": null,
            "overflow_x": null,
            "overflow_y": null,
            "padding": null,
            "right": null,
            "top": null,
            "visibility": null,
            "width": null
          }
        },
        "89af0870b0ee4f74b9e7f66d62af8d16": {
          "model_module": "@jupyter-widgets/controls",
          "model_name": "ProgressStyleModel",
          "model_module_version": "1.5.0",
          "state": {
            "_model_module": "@jupyter-widgets/controls",
            "_model_module_version": "1.5.0",
            "_model_name": "ProgressStyleModel",
            "_view_count": null,
            "_view_module": "@jupyter-widgets/base",
            "_view_module_version": "1.2.0",
            "_view_name": "StyleView",
            "bar_color": null,
            "description_width": ""
          }
        },
        "08ad50f7a6dc4108abaf1b150378d64f": {
          "model_module": "@jupyter-widgets/base",
          "model_name": "LayoutModel",
          "model_module_version": "1.2.0",
          "state": {
            "_model_module": "@jupyter-widgets/base",
            "_model_module_version": "1.2.0",
            "_model_name": "LayoutModel",
            "_view_count": null,
            "_view_module": "@jupyter-widgets/base",
            "_view_module_version": "1.2.0",
            "_view_name": "LayoutView",
            "align_content": null,
            "align_items": null,
            "align_self": null,
            "border": null,
            "bottom": null,
            "display": null,
            "flex": null,
            "flex_flow": null,
            "grid_area": null,
            "grid_auto_columns": null,
            "grid_auto_flow": null,
            "grid_auto_rows": null,
            "grid_column": null,
            "grid_gap": null,
            "grid_row": null,
            "grid_template_areas": null,
            "grid_template_columns": null,
            "grid_template_rows": null,
            "height": null,
            "justify_content": null,
            "justify_items": null,
            "left": null,
            "margin": null,
            "max_height": null,
            "max_width": null,
            "min_height": null,
            "min_width": null,
            "object_fit": null,
            "object_position": null,
            "order": null,
            "overflow": null,
            "overflow_x": null,
            "overflow_y": null,
            "padding": null,
            "right": null,
            "top": null,
            "visibility": null,
            "width": null
          }
        },
        "acec9284d61b4185a55d03565d94ea0a": {
          "model_module": "@jupyter-widgets/controls",
          "model_name": "DescriptionStyleModel",
          "model_module_version": "1.5.0",
          "state": {
            "_model_module": "@jupyter-widgets/controls",
            "_model_module_version": "1.5.0",
            "_model_name": "DescriptionStyleModel",
            "_view_count": null,
            "_view_module": "@jupyter-widgets/base",
            "_view_module_version": "1.2.0",
            "_view_name": "StyleView",
            "description_width": ""
          }
        },
        "ee00d7cbc03d4b259e4e4c200131a6dc": {
          "model_module": "@jupyter-widgets/controls",
          "model_name": "HBoxModel",
          "model_module_version": "1.5.0",
          "state": {
            "_dom_classes": [],
            "_model_module": "@jupyter-widgets/controls",
            "_model_module_version": "1.5.0",
            "_model_name": "HBoxModel",
            "_view_count": null,
            "_view_module": "@jupyter-widgets/controls",
            "_view_module_version": "1.5.0",
            "_view_name": "HBoxView",
            "box_style": "",
            "children": [
              "IPY_MODEL_17f5cecdb8444c7d8c40a319d45e8d38",
              "IPY_MODEL_5505ed8850744926b309598839fa73f3",
              "IPY_MODEL_8c2d326206394d1aa08a5b077525038b"
            ],
            "layout": "IPY_MODEL_9097c9234a804c708e585d1b3179167c"
          }
        },
        "17f5cecdb8444c7d8c40a319d45e8d38": {
          "model_module": "@jupyter-widgets/controls",
          "model_name": "HTMLModel",
          "model_module_version": "1.5.0",
          "state": {
            "_dom_classes": [],
            "_model_module": "@jupyter-widgets/controls",
            "_model_module_version": "1.5.0",
            "_model_name": "HTMLModel",
            "_view_count": null,
            "_view_module": "@jupyter-widgets/controls",
            "_view_module_version": "1.5.0",
            "_view_name": "HTMLView",
            "description": "",
            "description_tooltip": null,
            "layout": "IPY_MODEL_eb1043bf7fa74506bf3d268dda4687ce",
            "placeholder": "​",
            "style": "IPY_MODEL_f6357f8fe8da40cf9a131ac3865c94bb",
            "value": "Shuffling dataset/speech_commands/0.0.3.incompleteMNXDIZ/speech_commands-validation.tfrecord*...: 100%"
          }
        },
        "5505ed8850744926b309598839fa73f3": {
          "model_module": "@jupyter-widgets/controls",
          "model_name": "FloatProgressModel",
          "model_module_version": "1.5.0",
          "state": {
            "_dom_classes": [],
            "_model_module": "@jupyter-widgets/controls",
            "_model_module_version": "1.5.0",
            "_model_name": "FloatProgressModel",
            "_view_count": null,
            "_view_module": "@jupyter-widgets/controls",
            "_view_module_version": "1.5.0",
            "_view_name": "ProgressView",
            "bar_style": "",
            "description": "",
            "description_tooltip": null,
            "layout": "IPY_MODEL_a1544a5e5e19406b8eeaa318f32f4860",
            "max": 10102,
            "min": 0,
            "orientation": "horizontal",
            "style": "IPY_MODEL_e91b81898fb84cccb48ce7707c57d100",
            "value": 10102
          }
        },
        "8c2d326206394d1aa08a5b077525038b": {
          "model_module": "@jupyter-widgets/controls",
          "model_name": "HTMLModel",
          "model_module_version": "1.5.0",
          "state": {
            "_dom_classes": [],
            "_model_module": "@jupyter-widgets/controls",
            "_model_module_version": "1.5.0",
            "_model_name": "HTMLModel",
            "_view_count": null,
            "_view_module": "@jupyter-widgets/controls",
            "_view_module_version": "1.5.0",
            "_view_name": "HTMLView",
            "description": "",
            "description_tooltip": null,
            "layout": "IPY_MODEL_f44a1b4d68104b8a9c5302744489b713",
            "placeholder": "​",
            "style": "IPY_MODEL_4bdd7ac7114645b284a91609f9e4a044",
            "value": " 10100/10102 [00:07&lt;00:00, 2975.56 examples/s]"
          }
        },
        "9097c9234a804c708e585d1b3179167c": {
          "model_module": "@jupyter-widgets/base",
          "model_name": "LayoutModel",
          "model_module_version": "1.2.0",
          "state": {
            "_model_module": "@jupyter-widgets/base",
            "_model_module_version": "1.2.0",
            "_model_name": "LayoutModel",
            "_view_count": null,
            "_view_module": "@jupyter-widgets/base",
            "_view_module_version": "1.2.0",
            "_view_name": "LayoutView",
            "align_content": null,
            "align_items": null,
            "align_self": null,
            "border": null,
            "bottom": null,
            "display": null,
            "flex": null,
            "flex_flow": null,
            "grid_area": null,
            "grid_auto_columns": null,
            "grid_auto_flow": null,
            "grid_auto_rows": null,
            "grid_column": null,
            "grid_gap": null,
            "grid_row": null,
            "grid_template_areas": null,
            "grid_template_columns": null,
            "grid_template_rows": null,
            "height": null,
            "justify_content": null,
            "justify_items": null,
            "left": null,
            "margin": null,
            "max_height": null,
            "max_width": null,
            "min_height": null,
            "min_width": null,
            "object_fit": null,
            "object_position": null,
            "order": null,
            "overflow": null,
            "overflow_x": null,
            "overflow_y": null,
            "padding": null,
            "right": null,
            "top": null,
            "visibility": "hidden",
            "width": null
          }
        },
        "eb1043bf7fa74506bf3d268dda4687ce": {
          "model_module": "@jupyter-widgets/base",
          "model_name": "LayoutModel",
          "model_module_version": "1.2.0",
          "state": {
            "_model_module": "@jupyter-widgets/base",
            "_model_module_version": "1.2.0",
            "_model_name": "LayoutModel",
            "_view_count": null,
            "_view_module": "@jupyter-widgets/base",
            "_view_module_version": "1.2.0",
            "_view_name": "LayoutView",
            "align_content": null,
            "align_items": null,
            "align_self": null,
            "border": null,
            "bottom": null,
            "display": null,
            "flex": null,
            "flex_flow": null,
            "grid_area": null,
            "grid_auto_columns": null,
            "grid_auto_flow": null,
            "grid_auto_rows": null,
            "grid_column": null,
            "grid_gap": null,
            "grid_row": null,
            "grid_template_areas": null,
            "grid_template_columns": null,
            "grid_template_rows": null,
            "height": null,
            "justify_content": null,
            "justify_items": null,
            "left": null,
            "margin": null,
            "max_height": null,
            "max_width": null,
            "min_height": null,
            "min_width": null,
            "object_fit": null,
            "object_position": null,
            "order": null,
            "overflow": null,
            "overflow_x": null,
            "overflow_y": null,
            "padding": null,
            "right": null,
            "top": null,
            "visibility": null,
            "width": null
          }
        },
        "f6357f8fe8da40cf9a131ac3865c94bb": {
          "model_module": "@jupyter-widgets/controls",
          "model_name": "DescriptionStyleModel",
          "model_module_version": "1.5.0",
          "state": {
            "_model_module": "@jupyter-widgets/controls",
            "_model_module_version": "1.5.0",
            "_model_name": "DescriptionStyleModel",
            "_view_count": null,
            "_view_module": "@jupyter-widgets/base",
            "_view_module_version": "1.2.0",
            "_view_name": "StyleView",
            "description_width": ""
          }
        },
        "a1544a5e5e19406b8eeaa318f32f4860": {
          "model_module": "@jupyter-widgets/base",
          "model_name": "LayoutModel",
          "model_module_version": "1.2.0",
          "state": {
            "_model_module": "@jupyter-widgets/base",
            "_model_module_version": "1.2.0",
            "_model_name": "LayoutModel",
            "_view_count": null,
            "_view_module": "@jupyter-widgets/base",
            "_view_module_version": "1.2.0",
            "_view_name": "LayoutView",
            "align_content": null,
            "align_items": null,
            "align_self": null,
            "border": null,
            "bottom": null,
            "display": null,
            "flex": null,
            "flex_flow": null,
            "grid_area": null,
            "grid_auto_columns": null,
            "grid_auto_flow": null,
            "grid_auto_rows": null,
            "grid_column": null,
            "grid_gap": null,
            "grid_row": null,
            "grid_template_areas": null,
            "grid_template_columns": null,
            "grid_template_rows": null,
            "height": null,
            "justify_content": null,
            "justify_items": null,
            "left": null,
            "margin": null,
            "max_height": null,
            "max_width": null,
            "min_height": null,
            "min_width": null,
            "object_fit": null,
            "object_position": null,
            "order": null,
            "overflow": null,
            "overflow_x": null,
            "overflow_y": null,
            "padding": null,
            "right": null,
            "top": null,
            "visibility": null,
            "width": null
          }
        },
        "e91b81898fb84cccb48ce7707c57d100": {
          "model_module": "@jupyter-widgets/controls",
          "model_name": "ProgressStyleModel",
          "model_module_version": "1.5.0",
          "state": {
            "_model_module": "@jupyter-widgets/controls",
            "_model_module_version": "1.5.0",
            "_model_name": "ProgressStyleModel",
            "_view_count": null,
            "_view_module": "@jupyter-widgets/base",
            "_view_module_version": "1.2.0",
            "_view_name": "StyleView",
            "bar_color": null,
            "description_width": ""
          }
        },
        "f44a1b4d68104b8a9c5302744489b713": {
          "model_module": "@jupyter-widgets/base",
          "model_name": "LayoutModel",
          "model_module_version": "1.2.0",
          "state": {
            "_model_module": "@jupyter-widgets/base",
            "_model_module_version": "1.2.0",
            "_model_name": "LayoutModel",
            "_view_count": null,
            "_view_module": "@jupyter-widgets/base",
            "_view_module_version": "1.2.0",
            "_view_name": "LayoutView",
            "align_content": null,
            "align_items": null,
            "align_self": null,
            "border": null,
            "bottom": null,
            "display": null,
            "flex": null,
            "flex_flow": null,
            "grid_area": null,
            "grid_auto_columns": null,
            "grid_auto_flow": null,
            "grid_auto_rows": null,
            "grid_column": null,
            "grid_gap": null,
            "grid_row": null,
            "grid_template_areas": null,
            "grid_template_columns": null,
            "grid_template_rows": null,
            "height": null,
            "justify_content": null,
            "justify_items": null,
            "left": null,
            "margin": null,
            "max_height": null,
            "max_width": null,
            "min_height": null,
            "min_width": null,
            "object_fit": null,
            "object_position": null,
            "order": null,
            "overflow": null,
            "overflow_x": null,
            "overflow_y": null,
            "padding": null,
            "right": null,
            "top": null,
            "visibility": null,
            "width": null
          }
        },
        "4bdd7ac7114645b284a91609f9e4a044": {
          "model_module": "@jupyter-widgets/controls",
          "model_name": "DescriptionStyleModel",
          "model_module_version": "1.5.0",
          "state": {
            "_model_module": "@jupyter-widgets/controls",
            "_model_module_version": "1.5.0",
            "_model_name": "DescriptionStyleModel",
            "_view_count": null,
            "_view_module": "@jupyter-widgets/base",
            "_view_module_version": "1.2.0",
            "_view_name": "StyleView",
            "description_width": ""
          }
        },
        "273efa49aba047a9a3805f4865ad90c1": {
          "model_module": "@jupyter-widgets/controls",
          "model_name": "HBoxModel",
          "model_module_version": "1.5.0",
          "state": {
            "_dom_classes": [],
            "_model_module": "@jupyter-widgets/controls",
            "_model_module_version": "1.5.0",
            "_model_name": "HBoxModel",
            "_view_count": null,
            "_view_module": "@jupyter-widgets/controls",
            "_view_module_version": "1.5.0",
            "_view_name": "HBoxView",
            "box_style": "",
            "children": [
              "IPY_MODEL_ee7d54b58fca490aa3d88dae9648592c",
              "IPY_MODEL_9cb1abc23a3e4b04988fdce2e76e53d1",
              "IPY_MODEL_76ec46eaa64c4916aedbd582545c8026"
            ],
            "layout": "IPY_MODEL_4c20dd9b1b594de5a25b600c0afa3874"
          }
        },
        "ee7d54b58fca490aa3d88dae9648592c": {
          "model_module": "@jupyter-widgets/controls",
          "model_name": "HTMLModel",
          "model_module_version": "1.5.0",
          "state": {
            "_dom_classes": [],
            "_model_module": "@jupyter-widgets/controls",
            "_model_module_version": "1.5.0",
            "_model_name": "HTMLModel",
            "_view_count": null,
            "_view_module": "@jupyter-widgets/controls",
            "_view_module_version": "1.5.0",
            "_view_name": "HTMLView",
            "description": "",
            "description_tooltip": null,
            "layout": "IPY_MODEL_b870d593d6e240e788edb4433fbad1de",
            "placeholder": "​",
            "style": "IPY_MODEL_e594b3df957a4e53a6451aedecff29ef",
            "value": "Generating test examples...: 100%"
          }
        },
        "9cb1abc23a3e4b04988fdce2e76e53d1": {
          "model_module": "@jupyter-widgets/controls",
          "model_name": "FloatProgressModel",
          "model_module_version": "1.5.0",
          "state": {
            "_dom_classes": [],
            "_model_module": "@jupyter-widgets/controls",
            "_model_module_version": "1.5.0",
            "_model_name": "FloatProgressModel",
            "_view_count": null,
            "_view_module": "@jupyter-widgets/controls",
            "_view_module_version": "1.5.0",
            "_view_name": "ProgressView",
            "bar_style": "",
            "description": "",
            "description_tooltip": null,
            "layout": "IPY_MODEL_de32d937e4cd48a58530957f88b8af23",
            "max": 4890,
            "min": 0,
            "orientation": "horizontal",
            "style": "IPY_MODEL_84fd55b7335f4fe8b407e94c51746988",
            "value": 4890
          }
        },
        "76ec46eaa64c4916aedbd582545c8026": {
          "model_module": "@jupyter-widgets/controls",
          "model_name": "HTMLModel",
          "model_module_version": "1.5.0",
          "state": {
            "_dom_classes": [],
            "_model_module": "@jupyter-widgets/controls",
            "_model_module_version": "1.5.0",
            "_model_name": "HTMLModel",
            "_view_count": null,
            "_view_module": "@jupyter-widgets/controls",
            "_view_module_version": "1.5.0",
            "_view_name": "HTMLView",
            "description": "",
            "description_tooltip": null,
            "layout": "IPY_MODEL_675ac0e46fa34e0a9f4aa9e5ab7f7d67",
            "placeholder": "​",
            "style": "IPY_MODEL_cdb5715cfe3946a39f1ecf42550decac",
            "value": " 4872/4890 [00:28&lt;00:00, 194.34 examples/s]"
          }
        },
        "4c20dd9b1b594de5a25b600c0afa3874": {
          "model_module": "@jupyter-widgets/base",
          "model_name": "LayoutModel",
          "model_module_version": "1.2.0",
          "state": {
            "_model_module": "@jupyter-widgets/base",
            "_model_module_version": "1.2.0",
            "_model_name": "LayoutModel",
            "_view_count": null,
            "_view_module": "@jupyter-widgets/base",
            "_view_module_version": "1.2.0",
            "_view_name": "LayoutView",
            "align_content": null,
            "align_items": null,
            "align_self": null,
            "border": null,
            "bottom": null,
            "display": null,
            "flex": null,
            "flex_flow": null,
            "grid_area": null,
            "grid_auto_columns": null,
            "grid_auto_flow": null,
            "grid_auto_rows": null,
            "grid_column": null,
            "grid_gap": null,
            "grid_row": null,
            "grid_template_areas": null,
            "grid_template_columns": null,
            "grid_template_rows": null,
            "height": null,
            "justify_content": null,
            "justify_items": null,
            "left": null,
            "margin": null,
            "max_height": null,
            "max_width": null,
            "min_height": null,
            "min_width": null,
            "object_fit": null,
            "object_position": null,
            "order": null,
            "overflow": null,
            "overflow_x": null,
            "overflow_y": null,
            "padding": null,
            "right": null,
            "top": null,
            "visibility": "hidden",
            "width": null
          }
        },
        "b870d593d6e240e788edb4433fbad1de": {
          "model_module": "@jupyter-widgets/base",
          "model_name": "LayoutModel",
          "model_module_version": "1.2.0",
          "state": {
            "_model_module": "@jupyter-widgets/base",
            "_model_module_version": "1.2.0",
            "_model_name": "LayoutModel",
            "_view_count": null,
            "_view_module": "@jupyter-widgets/base",
            "_view_module_version": "1.2.0",
            "_view_name": "LayoutView",
            "align_content": null,
            "align_items": null,
            "align_self": null,
            "border": null,
            "bottom": null,
            "display": null,
            "flex": null,
            "flex_flow": null,
            "grid_area": null,
            "grid_auto_columns": null,
            "grid_auto_flow": null,
            "grid_auto_rows": null,
            "grid_column": null,
            "grid_gap": null,
            "grid_row": null,
            "grid_template_areas": null,
            "grid_template_columns": null,
            "grid_template_rows": null,
            "height": null,
            "justify_content": null,
            "justify_items": null,
            "left": null,
            "margin": null,
            "max_height": null,
            "max_width": null,
            "min_height": null,
            "min_width": null,
            "object_fit": null,
            "object_position": null,
            "order": null,
            "overflow": null,
            "overflow_x": null,
            "overflow_y": null,
            "padding": null,
            "right": null,
            "top": null,
            "visibility": null,
            "width": null
          }
        },
        "e594b3df957a4e53a6451aedecff29ef": {
          "model_module": "@jupyter-widgets/controls",
          "model_name": "DescriptionStyleModel",
          "model_module_version": "1.5.0",
          "state": {
            "_model_module": "@jupyter-widgets/controls",
            "_model_module_version": "1.5.0",
            "_model_name": "DescriptionStyleModel",
            "_view_count": null,
            "_view_module": "@jupyter-widgets/base",
            "_view_module_version": "1.2.0",
            "_view_name": "StyleView",
            "description_width": ""
          }
        },
        "de32d937e4cd48a58530957f88b8af23": {
          "model_module": "@jupyter-widgets/base",
          "model_name": "LayoutModel",
          "model_module_version": "1.2.0",
          "state": {
            "_model_module": "@jupyter-widgets/base",
            "_model_module_version": "1.2.0",
            "_model_name": "LayoutModel",
            "_view_count": null,
            "_view_module": "@jupyter-widgets/base",
            "_view_module_version": "1.2.0",
            "_view_name": "LayoutView",
            "align_content": null,
            "align_items": null,
            "align_self": null,
            "border": null,
            "bottom": null,
            "display": null,
            "flex": null,
            "flex_flow": null,
            "grid_area": null,
            "grid_auto_columns": null,
            "grid_auto_flow": null,
            "grid_auto_rows": null,
            "grid_column": null,
            "grid_gap": null,
            "grid_row": null,
            "grid_template_areas": null,
            "grid_template_columns": null,
            "grid_template_rows": null,
            "height": null,
            "justify_content": null,
            "justify_items": null,
            "left": null,
            "margin": null,
            "max_height": null,
            "max_width": null,
            "min_height": null,
            "min_width": null,
            "object_fit": null,
            "object_position": null,
            "order": null,
            "overflow": null,
            "overflow_x": null,
            "overflow_y": null,
            "padding": null,
            "right": null,
            "top": null,
            "visibility": null,
            "width": null
          }
        },
        "84fd55b7335f4fe8b407e94c51746988": {
          "model_module": "@jupyter-widgets/controls",
          "model_name": "ProgressStyleModel",
          "model_module_version": "1.5.0",
          "state": {
            "_model_module": "@jupyter-widgets/controls",
            "_model_module_version": "1.5.0",
            "_model_name": "ProgressStyleModel",
            "_view_count": null,
            "_view_module": "@jupyter-widgets/base",
            "_view_module_version": "1.2.0",
            "_view_name": "StyleView",
            "bar_color": null,
            "description_width": ""
          }
        },
        "675ac0e46fa34e0a9f4aa9e5ab7f7d67": {
          "model_module": "@jupyter-widgets/base",
          "model_name": "LayoutModel",
          "model_module_version": "1.2.0",
          "state": {
            "_model_module": "@jupyter-widgets/base",
            "_model_module_version": "1.2.0",
            "_model_name": "LayoutModel",
            "_view_count": null,
            "_view_module": "@jupyter-widgets/base",
            "_view_module_version": "1.2.0",
            "_view_name": "LayoutView",
            "align_content": null,
            "align_items": null,
            "align_self": null,
            "border": null,
            "bottom": null,
            "display": null,
            "flex": null,
            "flex_flow": null,
            "grid_area": null,
            "grid_auto_columns": null,
            "grid_auto_flow": null,
            "grid_auto_rows": null,
            "grid_column": null,
            "grid_gap": null,
            "grid_row": null,
            "grid_template_areas": null,
            "grid_template_columns": null,
            "grid_template_rows": null,
            "height": null,
            "justify_content": null,
            "justify_items": null,
            "left": null,
            "margin": null,
            "max_height": null,
            "max_width": null,
            "min_height": null,
            "min_width": null,
            "object_fit": null,
            "object_position": null,
            "order": null,
            "overflow": null,
            "overflow_x": null,
            "overflow_y": null,
            "padding": null,
            "right": null,
            "top": null,
            "visibility": null,
            "width": null
          }
        },
        "cdb5715cfe3946a39f1ecf42550decac": {
          "model_module": "@jupyter-widgets/controls",
          "model_name": "DescriptionStyleModel",
          "model_module_version": "1.5.0",
          "state": {
            "_model_module": "@jupyter-widgets/controls",
            "_model_module_version": "1.5.0",
            "_model_name": "DescriptionStyleModel",
            "_view_count": null,
            "_view_module": "@jupyter-widgets/base",
            "_view_module_version": "1.2.0",
            "_view_name": "StyleView",
            "description_width": ""
          }
        },
        "fc1d0bf3c96e45339f901188f917dd52": {
          "model_module": "@jupyter-widgets/controls",
          "model_name": "HBoxModel",
          "model_module_version": "1.5.0",
          "state": {
            "_dom_classes": [],
            "_model_module": "@jupyter-widgets/controls",
            "_model_module_version": "1.5.0",
            "_model_name": "HBoxModel",
            "_view_count": null,
            "_view_module": "@jupyter-widgets/controls",
            "_view_module_version": "1.5.0",
            "_view_name": "HBoxView",
            "box_style": "",
            "children": [
              "IPY_MODEL_d238c655426547518a0df7da966c0337",
              "IPY_MODEL_72b88e0a3dc64fc390f40ea7cd174446",
              "IPY_MODEL_3acae410e8dd41e4b36448a0ace11bdc"
            ],
            "layout": "IPY_MODEL_e2917b86c12f47c1aff973cd452c2df7"
          }
        },
        "d238c655426547518a0df7da966c0337": {
          "model_module": "@jupyter-widgets/controls",
          "model_name": "HTMLModel",
          "model_module_version": "1.5.0",
          "state": {
            "_dom_classes": [],
            "_model_module": "@jupyter-widgets/controls",
            "_model_module_version": "1.5.0",
            "_model_name": "HTMLModel",
            "_view_count": null,
            "_view_module": "@jupyter-widgets/controls",
            "_view_module_version": "1.5.0",
            "_view_name": "HTMLView",
            "description": "",
            "description_tooltip": null,
            "layout": "IPY_MODEL_5dc3364741df418a96a08659630980bc",
            "placeholder": "​",
            "style": "IPY_MODEL_5ca39275362c418394cb4dcc55f1b689",
            "value": "Shuffling dataset/speech_commands/0.0.3.incompleteMNXDIZ/speech_commands-test.tfrecord*...:  97%"
          }
        },
        "72b88e0a3dc64fc390f40ea7cd174446": {
          "model_module": "@jupyter-widgets/controls",
          "model_name": "FloatProgressModel",
          "model_module_version": "1.5.0",
          "state": {
            "_dom_classes": [],
            "_model_module": "@jupyter-widgets/controls",
            "_model_module_version": "1.5.0",
            "_model_name": "FloatProgressModel",
            "_view_count": null,
            "_view_module": "@jupyter-widgets/controls",
            "_view_module_version": "1.5.0",
            "_view_name": "ProgressView",
            "bar_style": "",
            "description": "",
            "description_tooltip": null,
            "layout": "IPY_MODEL_714d352a0d144bf49f3887b9db406442",
            "max": 4890,
            "min": 0,
            "orientation": "horizontal",
            "style": "IPY_MODEL_356dc237a9474825950eff0460190e8b",
            "value": 4890
          }
        },
        "3acae410e8dd41e4b36448a0ace11bdc": {
          "model_module": "@jupyter-widgets/controls",
          "model_name": "HTMLModel",
          "model_module_version": "1.5.0",
          "state": {
            "_dom_classes": [],
            "_model_module": "@jupyter-widgets/controls",
            "_model_module_version": "1.5.0",
            "_model_name": "HTMLModel",
            "_view_count": null,
            "_view_module": "@jupyter-widgets/controls",
            "_view_module_version": "1.5.0",
            "_view_name": "HTMLView",
            "description": "",
            "description_tooltip": null,
            "layout": "IPY_MODEL_0ace41d0ad004ad79df66bbc327f3488",
            "placeholder": "​",
            "style": "IPY_MODEL_ff34ec459bb84a6ea68c6dcd9b4491a9",
            "value": " 4738/4890 [00:01&lt;00:00, 3439.33 examples/s]"
          }
        },
        "e2917b86c12f47c1aff973cd452c2df7": {
          "model_module": "@jupyter-widgets/base",
          "model_name": "LayoutModel",
          "model_module_version": "1.2.0",
          "state": {
            "_model_module": "@jupyter-widgets/base",
            "_model_module_version": "1.2.0",
            "_model_name": "LayoutModel",
            "_view_count": null,
            "_view_module": "@jupyter-widgets/base",
            "_view_module_version": "1.2.0",
            "_view_name": "LayoutView",
            "align_content": null,
            "align_items": null,
            "align_self": null,
            "border": null,
            "bottom": null,
            "display": null,
            "flex": null,
            "flex_flow": null,
            "grid_area": null,
            "grid_auto_columns": null,
            "grid_auto_flow": null,
            "grid_auto_rows": null,
            "grid_column": null,
            "grid_gap": null,
            "grid_row": null,
            "grid_template_areas": null,
            "grid_template_columns": null,
            "grid_template_rows": null,
            "height": null,
            "justify_content": null,
            "justify_items": null,
            "left": null,
            "margin": null,
            "max_height": null,
            "max_width": null,
            "min_height": null,
            "min_width": null,
            "object_fit": null,
            "object_position": null,
            "order": null,
            "overflow": null,
            "overflow_x": null,
            "overflow_y": null,
            "padding": null,
            "right": null,
            "top": null,
            "visibility": "hidden",
            "width": null
          }
        },
        "5dc3364741df418a96a08659630980bc": {
          "model_module": "@jupyter-widgets/base",
          "model_name": "LayoutModel",
          "model_module_version": "1.2.0",
          "state": {
            "_model_module": "@jupyter-widgets/base",
            "_model_module_version": "1.2.0",
            "_model_name": "LayoutModel",
            "_view_count": null,
            "_view_module": "@jupyter-widgets/base",
            "_view_module_version": "1.2.0",
            "_view_name": "LayoutView",
            "align_content": null,
            "align_items": null,
            "align_self": null,
            "border": null,
            "bottom": null,
            "display": null,
            "flex": null,
            "flex_flow": null,
            "grid_area": null,
            "grid_auto_columns": null,
            "grid_auto_flow": null,
            "grid_auto_rows": null,
            "grid_column": null,
            "grid_gap": null,
            "grid_row": null,
            "grid_template_areas": null,
            "grid_template_columns": null,
            "grid_template_rows": null,
            "height": null,
            "justify_content": null,
            "justify_items": null,
            "left": null,
            "margin": null,
            "max_height": null,
            "max_width": null,
            "min_height": null,
            "min_width": null,
            "object_fit": null,
            "object_position": null,
            "order": null,
            "overflow": null,
            "overflow_x": null,
            "overflow_y": null,
            "padding": null,
            "right": null,
            "top": null,
            "visibility": null,
            "width": null
          }
        },
        "5ca39275362c418394cb4dcc55f1b689": {
          "model_module": "@jupyter-widgets/controls",
          "model_name": "DescriptionStyleModel",
          "model_module_version": "1.5.0",
          "state": {
            "_model_module": "@jupyter-widgets/controls",
            "_model_module_version": "1.5.0",
            "_model_name": "DescriptionStyleModel",
            "_view_count": null,
            "_view_module": "@jupyter-widgets/base",
            "_view_module_version": "1.2.0",
            "_view_name": "StyleView",
            "description_width": ""
          }
        },
        "714d352a0d144bf49f3887b9db406442": {
          "model_module": "@jupyter-widgets/base",
          "model_name": "LayoutModel",
          "model_module_version": "1.2.0",
          "state": {
            "_model_module": "@jupyter-widgets/base",
            "_model_module_version": "1.2.0",
            "_model_name": "LayoutModel",
            "_view_count": null,
            "_view_module": "@jupyter-widgets/base",
            "_view_module_version": "1.2.0",
            "_view_name": "LayoutView",
            "align_content": null,
            "align_items": null,
            "align_self": null,
            "border": null,
            "bottom": null,
            "display": null,
            "flex": null,
            "flex_flow": null,
            "grid_area": null,
            "grid_auto_columns": null,
            "grid_auto_flow": null,
            "grid_auto_rows": null,
            "grid_column": null,
            "grid_gap": null,
            "grid_row": null,
            "grid_template_areas": null,
            "grid_template_columns": null,
            "grid_template_rows": null,
            "height": null,
            "justify_content": null,
            "justify_items": null,
            "left": null,
            "margin": null,
            "max_height": null,
            "max_width": null,
            "min_height": null,
            "min_width": null,
            "object_fit": null,
            "object_position": null,
            "order": null,
            "overflow": null,
            "overflow_x": null,
            "overflow_y": null,
            "padding": null,
            "right": null,
            "top": null,
            "visibility": null,
            "width": null
          }
        },
        "356dc237a9474825950eff0460190e8b": {
          "model_module": "@jupyter-widgets/controls",
          "model_name": "ProgressStyleModel",
          "model_module_version": "1.5.0",
          "state": {
            "_model_module": "@jupyter-widgets/controls",
            "_model_module_version": "1.5.0",
            "_model_name": "ProgressStyleModel",
            "_view_count": null,
            "_view_module": "@jupyter-widgets/base",
            "_view_module_version": "1.2.0",
            "_view_name": "StyleView",
            "bar_color": null,
            "description_width": ""
          }
        },
        "0ace41d0ad004ad79df66bbc327f3488": {
          "model_module": "@jupyter-widgets/base",
          "model_name": "LayoutModel",
          "model_module_version": "1.2.0",
          "state": {
            "_model_module": "@jupyter-widgets/base",
            "_model_module_version": "1.2.0",
            "_model_name": "LayoutModel",
            "_view_count": null,
            "_view_module": "@jupyter-widgets/base",
            "_view_module_version": "1.2.0",
            "_view_name": "LayoutView",
            "align_content": null,
            "align_items": null,
            "align_self": null,
            "border": null,
            "bottom": null,
            "display": null,
            "flex": null,
            "flex_flow": null,
            "grid_area": null,
            "grid_auto_columns": null,
            "grid_auto_flow": null,
            "grid_auto_rows": null,
            "grid_column": null,
            "grid_gap": null,
            "grid_row": null,
            "grid_template_areas": null,
            "grid_template_columns": null,
            "grid_template_rows": null,
            "height": null,
            "justify_content": null,
            "justify_items": null,
            "left": null,
            "margin": null,
            "max_height": null,
            "max_width": null,
            "min_height": null,
            "min_width": null,
            "object_fit": null,
            "object_position": null,
            "order": null,
            "overflow": null,
            "overflow_x": null,
            "overflow_y": null,
            "padding": null,
            "right": null,
            "top": null,
            "visibility": null,
            "width": null
          }
        },
        "ff34ec459bb84a6ea68c6dcd9b4491a9": {
          "model_module": "@jupyter-widgets/controls",
          "model_name": "DescriptionStyleModel",
          "model_module_version": "1.5.0",
          "state": {
            "_model_module": "@jupyter-widgets/controls",
            "_model_module_version": "1.5.0",
            "_model_name": "DescriptionStyleModel",
            "_view_count": null,
            "_view_module": "@jupyter-widgets/base",
            "_view_module_version": "1.2.0",
            "_view_name": "StyleView",
            "description_width": ""
          }
        }
      }
    }
  },
  "cells": [
    {
      "cell_type": "code",
      "execution_count": null,
      "metadata": {
        "id": "lTVIc9H9-XcM",
        "colab": {
          "base_uri": "https://localhost:8080/"
        },
        "outputId": "78358aa4-7580-42c3-e529-88b360bf4432"
      },
      "outputs": [
        {
          "output_type": "stream",
          "name": "stdout",
          "text": [
            "Collecting pydub\n",
            "  Downloading pydub-0.25.1-py2.py3-none-any.whl (32 kB)\n",
            "Installing collected packages: pydub\n",
            "Successfully installed pydub-0.25.1\n"
          ]
        }
      ],
      "source": [
        "!pip install pydub"
      ]
    },
    {
      "cell_type": "code",
      "source": [
        "import os\n",
        "from os import listdir\n",
        "from pathlib import Path\n",
        "\n",
        "import tensorflow as tf\n",
        "import numpy as np\n",
        "import matplotlib.pyplot as plt\n",
        "import seaborn as sns\n",
        "\n",
        "import itertools\n",
        "import glob\n",
        "import random\n",
        "\n",
        "from IPython.display import Audio, Image\n",
        "from scipy.io import wavfile\n",
        "from os.path import isdir, join\n",
        "\n",
        "import librosa\n",
        "import random\n",
        "import numpy as np\n",
        "import matplotlib.pyplot as plt\n",
        "import seaborn as sbn\n",
        "\n",
        "from tqdm import tqdm\n",
        "\n",
        "import tensorflow_datasets as tfds\n",
        "\n",
        "from pydub import AudioSegment\n",
        "from pydub.playback import play\n",
        "import soundfile as sf\n",
        "\n",
        "import typing as T\n",
        "\n",
        "from sklearn.model_selection import StratifiedKFold\n",
        "from sklearn.model_selection import StratifiedShuffleSplit\n",
        "\n",
        "print(f\"TensorFlow Version: {tf.__version__}\")"
      ],
      "metadata": {
        "id": "WIHhcW6WFcfd",
        "colab": {
          "base_uri": "https://localhost:8080/"
        },
        "outputId": "8553f677-cc8b-4d49-a127-b0473fef4aa3"
      },
      "execution_count": null,
      "outputs": [
        {
          "output_type": "stream",
          "name": "stdout",
          "text": [
            "TensorFlow Version: 2.15.0\n"
          ]
        }
      ]
    },
    {
      "cell_type": "code",
      "source": [
        "ds, info = tfds.load('speech_commands',\n",
        "                     split=['train', 'validation'],\n",
        "                     data_dir='dataset',\n",
        "                     with_info=True)"
      ],
      "metadata": {
        "id": "RsHb5fnfFhO0",
        "colab": {
          "base_uri": "https://localhost:8080/",
          "height": 170,
          "referenced_widgets": [
            "e112b1ccd614423fb44dffe3aedfecdb",
            "44b55f06cad747739215d2dfea94fb38",
            "7e8b83f8cd024950947e6631cc909f27",
            "f6635f3c84f84ed689728e5aacc168d0",
            "cd3ab030f05a42949cfce1b9b1f29232",
            "19444a45f84e4e248b4154a1d1fd85f6",
            "1ada4ca1a6cb40cba9188d9f308cb690",
            "36eccba299334fd49461b9593f37eda1",
            "7d8e25039f064c9981890cb9c1519fa7",
            "1073c75c8fc447548e5e4f20ce06046d",
            "e6624ee14ea44e52b7c4a9c53ad5a195",
            "1172f01fe2f646718efbeba0c80da4f0",
            "0086c6f57bd646a693148459997b412c",
            "a08e2bbacb0b4b34b307a350d633f11f",
            "0e212d0e2e5d40868fc8a1c3cdbcbb49",
            "e8be6dd291254df99a69718f981334c9",
            "f34ad19ec78c4ca0aba3f91f9cbfbbf9",
            "66ef8dd7bc42408888b22a749391be2e",
            "0f347ec2427d481cb4fd0d355f1b3498",
            "5c165e533167442ab71e90ed381de462",
            "938534e8a8c7463ca5247ccb5efce89c",
            "d3bec535c2f84c8f9452020e0f095a08",
            "a88ab25bf56e470084cb3c999cefeeb6",
            "13d562a0ff694a6f8dbd47d10630be0c",
            "ec59400132f44122857c7633e1b045c1",
            "0bbc19391d0a4070a0a6f4c19ca9e084",
            "984dc546d4b74d95a8b26f8fd4a3ef7d",
            "f1cce1971eeb4d079dd2eac3ea60ec00",
            "3174420411304d618a1560a77cfda3e7",
            "7a9e80897a04402393c46ffecc2ea0af",
            "5765a5c25ae448208bf0d2c663a7f540",
            "4c4d7b42079c46d8b8b1e1e1dce0a7d7",
            "fc4d32f32c674086b9532aa3b5f58e8d",
            "61e55835557a40cca5d7c6779a4524af",
            "cf00bf441faa4de19948d12a4a6747ed",
            "5d34b94263d549e5a9b52a0b85657321",
            "f7a02afde9904dd7bcf5bcdcf97b3250",
            "8b7aa16d44f84135996a952f5034f3f4",
            "fb72d7a484954fa19e2c4e7d604e939f",
            "8945118b09194b3b97a56782fde6c582",
            "a4612dfe28a846b7ae92dc6373d24fcd",
            "16ec3147da614e86a56591e9dbaaf012",
            "29c0c251c03745e38ffd55e4544d2fe7",
            "fbd3900bce4544ac87e2383e7b344241",
            "9f6aa6e3e8384229b069e0a0b0db9913",
            "73cf2e8475aa4494a2689dbd76c04316",
            "d3068c9e786d4b998d59646a76e3aab9",
            "3956bcff254b43cea02f3e17ccba7f13",
            "622f2168e59d4df79e2cb86d94d9abdb",
            "a1bedf4860f74f7ca8ec92b85d70dd13",
            "29c1175a81ca4143b7839e600e1a87a9",
            "8de8a3f3935047919d8f80f0220b2d08",
            "4ca0c42b71604dcb91706a40a3bd913a",
            "2ce68ca88b88431bb80ceed308a8d54b",
            "386f07b904a745f786bc8899bbcf277a",
            "49e59e463966428281753e19bf6413c3",
            "802b4edfe3ac4a4cbf8fc1f98a91c83a",
            "8d5e3f8a6d6e44bfad55d6f737592fb7",
            "9c6148ffe555402ea234dbd9066e6801",
            "6a49a85661534bd0b71b1aa79209a9c7",
            "dc97bf715b6b463e83a3d0e1ad8be801",
            "1fe57bb53eb84c89935d006d48168fdd",
            "7bd7a7bcc3c9445aafcfb1259496d613",
            "89af0870b0ee4f74b9e7f66d62af8d16",
            "08ad50f7a6dc4108abaf1b150378d64f",
            "acec9284d61b4185a55d03565d94ea0a",
            "ee00d7cbc03d4b259e4e4c200131a6dc",
            "17f5cecdb8444c7d8c40a319d45e8d38",
            "5505ed8850744926b309598839fa73f3",
            "8c2d326206394d1aa08a5b077525038b",
            "9097c9234a804c708e585d1b3179167c",
            "eb1043bf7fa74506bf3d268dda4687ce",
            "f6357f8fe8da40cf9a131ac3865c94bb",
            "a1544a5e5e19406b8eeaa318f32f4860",
            "e91b81898fb84cccb48ce7707c57d100",
            "f44a1b4d68104b8a9c5302744489b713",
            "4bdd7ac7114645b284a91609f9e4a044",
            "273efa49aba047a9a3805f4865ad90c1",
            "ee7d54b58fca490aa3d88dae9648592c",
            "9cb1abc23a3e4b04988fdce2e76e53d1",
            "76ec46eaa64c4916aedbd582545c8026",
            "4c20dd9b1b594de5a25b600c0afa3874",
            "b870d593d6e240e788edb4433fbad1de",
            "e594b3df957a4e53a6451aedecff29ef",
            "de32d937e4cd48a58530957f88b8af23",
            "84fd55b7335f4fe8b407e94c51746988",
            "675ac0e46fa34e0a9f4aa9e5ab7f7d67",
            "cdb5715cfe3946a39f1ecf42550decac",
            "fc1d0bf3c96e45339f901188f917dd52",
            "d238c655426547518a0df7da966c0337",
            "72b88e0a3dc64fc390f40ea7cd174446",
            "3acae410e8dd41e4b36448a0ace11bdc",
            "e2917b86c12f47c1aff973cd452c2df7",
            "5dc3364741df418a96a08659630980bc",
            "5ca39275362c418394cb4dcc55f1b689",
            "714d352a0d144bf49f3887b9db406442",
            "356dc237a9474825950eff0460190e8b",
            "0ace41d0ad004ad79df66bbc327f3488",
            "ff34ec459bb84a6ea68c6dcd9b4491a9"
          ]
        },
        "outputId": "bf4cb40e-34cb-48d1-bd14-2525f08fca9a"
      },
      "execution_count": null,
      "outputs": [
        {
          "output_type": "stream",
          "name": "stdout",
          "text": [
            "Downloading and preparing dataset 2.37 GiB (download: 2.37 GiB, generated: 8.17 GiB, total: 10.53 GiB) to dataset/speech_commands/0.0.3...\n"
          ]
        },
        {
          "output_type": "display_data",
          "data": {
            "text/plain": [
              "Dl Completed...: 0 url [00:00, ? url/s]"
            ],
            "application/vnd.jupyter.widget-view+json": {
              "version_major": 2,
              "version_minor": 0,
              "model_id": "e112b1ccd614423fb44dffe3aedfecdb"
            }
          },
          "metadata": {}
        },
        {
          "output_type": "display_data",
          "data": {
            "text/plain": [
              "Dl Size...: 0 MiB [00:00, ? MiB/s]"
            ],
            "application/vnd.jupyter.widget-view+json": {
              "version_major": 2,
              "version_minor": 0,
              "model_id": "1172f01fe2f646718efbeba0c80da4f0"
            }
          },
          "metadata": {}
        },
        {
          "output_type": "display_data",
          "data": {
            "text/plain": [
              "Generating splits...:   0%|          | 0/3 [00:00<?, ? splits/s]"
            ],
            "application/vnd.jupyter.widget-view+json": {
              "version_major": 2,
              "version_minor": 0,
              "model_id": "a88ab25bf56e470084cb3c999cefeeb6"
            }
          },
          "metadata": {}
        },
        {
          "output_type": "display_data",
          "data": {
            "text/plain": [
              "Generating train examples...:   0%|          | 0/85511 [00:00<?, ? examples/s]"
            ],
            "application/vnd.jupyter.widget-view+json": {
              "version_major": 2,
              "version_minor": 0,
              "model_id": "61e55835557a40cca5d7c6779a4524af"
            }
          },
          "metadata": {}
        },
        {
          "output_type": "display_data",
          "data": {
            "text/plain": [
              "Shuffling dataset/speech_commands/0.0.3.incompleteMNXDIZ/speech_commands-train.tfrecord*...:   0%|          | …"
            ],
            "application/vnd.jupyter.widget-view+json": {
              "version_major": 2,
              "version_minor": 0,
              "model_id": "9f6aa6e3e8384229b069e0a0b0db9913"
            }
          },
          "metadata": {}
        },
        {
          "output_type": "display_data",
          "data": {
            "text/plain": [
              "Generating validation examples...:   0%|          | 0/10102 [00:00<?, ? examples/s]"
            ],
            "application/vnd.jupyter.widget-view+json": {
              "version_major": 2,
              "version_minor": 0,
              "model_id": "49e59e463966428281753e19bf6413c3"
            }
          },
          "metadata": {}
        },
        {
          "output_type": "display_data",
          "data": {
            "text/plain": [
              "Shuffling dataset/speech_commands/0.0.3.incompleteMNXDIZ/speech_commands-validation.tfrecord*...:   0%|       …"
            ],
            "application/vnd.jupyter.widget-view+json": {
              "version_major": 2,
              "version_minor": 0,
              "model_id": "ee00d7cbc03d4b259e4e4c200131a6dc"
            }
          },
          "metadata": {}
        },
        {
          "output_type": "display_data",
          "data": {
            "text/plain": [
              "Generating test examples...:   0%|          | 0/4890 [00:00<?, ? examples/s]"
            ],
            "application/vnd.jupyter.widget-view+json": {
              "version_major": 2,
              "version_minor": 0,
              "model_id": "273efa49aba047a9a3805f4865ad90c1"
            }
          },
          "metadata": {}
        },
        {
          "output_type": "display_data",
          "data": {
            "text/plain": [
              "Shuffling dataset/speech_commands/0.0.3.incompleteMNXDIZ/speech_commands-test.tfrecord*...:   0%|          | 0…"
            ],
            "application/vnd.jupyter.widget-view+json": {
              "version_major": 2,
              "version_minor": 0,
              "model_id": "fc1d0bf3c96e45339f901188f917dd52"
            }
          },
          "metadata": {}
        },
        {
          "output_type": "stream",
          "name": "stderr",
          "text": [
            "WARNING:absl:`FeatureConnector.dtype` is deprecated. Please change your code to use NumPy with the field `FeatureConnector.np_dtype` or use TensorFlow with the field `FeatureConnector.tf_dtype`.\n",
            "WARNING:absl:You use TensorFlow DType <dtype: 'int16'> in tfds.features This will soon be deprecated in favor of NumPy DTypes. In the meantime it was converted to int16.\n"
          ]
        },
        {
          "output_type": "stream",
          "name": "stdout",
          "text": [
            "Dataset speech_commands downloaded and prepared to dataset/speech_commands/0.0.3. Subsequent calls will reuse this data.\n"
          ]
        }
      ]
    },
    {
      "cell_type": "code",
      "source": [
        "!tar -xzf \"/content/dataset/downloads/down.tens.org_spee_comm_test_set_v0.2zCoAwRR8IlTpvj-g93nYwXQh3DSbhjZlZ6jt-prNUd8.tar.gz\" -C \"/content/dataset/downloads/extracted\"\n",
        "!tar -xzf \"/content/dataset/downloads/down.tens.org_spee_comm_test_set_v0.2zCoAwRR8IlTpvj-g93nYwXQh3DSbhjZlZ6jt-prNUd8.tar.gz.INFO\" -C \"/content/dataset/downloads/extracted\"\n",
        "!tar -xzf \"/content/dataset/downloads/downloa.tensorf.org_speech_command_v0.2rxRznufcMRRx3pj1-dLJGRsYrt_pV_Sm_3kccJho_1g.tar.gz\" -C \"/content/dataset/downloads/extracted\"\n",
        "!tar -xzf \"/content/dataset/downloads/downloa.tensorf.org_speech_command_v0.2rxRznufcMRRx3pj1-dLJGRsYrt_pV_Sm_3kccJho_1g.tar.gz.INFO\" -C \"/content/dataset/downloads/extracted\"\n"
      ],
      "metadata": {
        "colab": {
          "base_uri": "https://localhost:8080/"
        },
        "id": "Ey4ov88KANrJ",
        "outputId": "66ad466d-d9eb-48dc-fbf9-02f0df34bff8"
      },
      "execution_count": null,
      "outputs": [
        {
          "output_type": "stream",
          "name": "stdout",
          "text": [
            "\n",
            "gzip: stdin: not in gzip format\n",
            "tar: Child returned status 1\n",
            "tar: Error is not recoverable: exiting now\n",
            "\n",
            "gzip: stdin: not in gzip format\n",
            "tar: Child returned status 1\n",
            "tar: Error is not recoverable: exiting now\n"
          ]
        }
      ]
    },
    {
      "cell_type": "code",
      "source": [
        "background_noise_base_dir = \"/content/dataset/downloads/extracted/_background_noise_\"\n",
        "background_noise_path = Path(background_noise_base_dir).rglob(\"*.wav\")\n",
        "\n",
        "for background_noise_audio in background_noise_path:\n",
        "  # Load the file\n",
        "\n",
        "  file_name = background_noise_audio.stem\n",
        "  audio, sr = librosa.load(background_noise_audio, sr=None)\n",
        "\n",
        "  # Split the file by second\n",
        "\n",
        "  for i in range(int(len(audio)/sr)):\n",
        "    sf.write(f\"{background_noise_base_dir}/{file_name}_{i}.wav\", audio[(i*sr):(i+1)*sr], sr)\n",
        "\n",
        "  # Remove the original file since it is not useful anymore\n",
        "\n",
        "  os.system(f\"rm {background_noise_audio}\")"
      ],
      "metadata": {
        "id": "djxkmnT5uBzl"
      },
      "execution_count": null,
      "outputs": []
    },
    {
      "cell_type": "code",
      "source": [
        "dataset_path = '/content/dataset/downloads/extracted'"
      ],
      "metadata": {
        "id": "sHvQgrrtASJT"
      },
      "execution_count": null,
      "outputs": []
    },
    {
      "cell_type": "code",
      "source": [
        "# Create an all targets list\n",
        "all_targets = [name for name in listdir(dataset_path) if isdir(join(dataset_path, name))]\n",
        "\n",
        "# Sort the files because `listdir` always changes the order of listed files\n",
        "\n",
        "all_targets.sort()\n",
        "\n",
        "print(all_targets)"
      ],
      "metadata": {
        "colab": {
          "base_uri": "https://localhost:8080/"
        },
        "id": "n8mPjibjBPyf",
        "outputId": "1203a984-43bb-42b7-bb7e-f9f2346b79cc"
      },
      "execution_count": null,
      "outputs": [
        {
          "output_type": "stream",
          "name": "stdout",
          "text": [
            "['_background_noise_', '_silence_', '_unknown_', 'backward', 'bed', 'bird', 'cat', 'dog', 'down', 'eight', 'five', 'follow', 'forward', 'four', 'go', 'happy', 'house', 'learn', 'left', 'marvin', 'nine', 'no', 'off', 'on', 'one', 'right', 'seven', 'sheila', 'six', 'stop', 'three', 'tree', 'two', 'up', 'visual', 'wow', 'yes', 'zero']\n"
          ]
        }
      ]
    },
    {
      "cell_type": "code",
      "source": [
        "# Settings\n",
        "target_list = all_targets\n",
        "feature_sets_file = 'all_targets_mfcc_sets.npz'\n",
        "sample_rate = 16000 # Hz\n",
        "num_mfcc = 16\n",
        "\n",
        "# number of frames\n",
        "len_mfcc = 28"
      ],
      "metadata": {
        "id": "-d8kURmhERLE"
      },
      "execution_count": null,
      "outputs": []
    },
    {
      "cell_type": "code",
      "source": [
        "# Check the total number of files\n",
        "\n",
        "num_samples = 0\n",
        "for target in all_targets:\n",
        "    num_samples += len(listdir(join(dataset_path, target)))\n",
        "print('Total samples:', num_samples)"
      ],
      "metadata": {
        "colab": {
          "base_uri": "https://localhost:8080/"
        },
        "id": "ggz8-ZFZm9RA",
        "outputId": "fceae1ee-0e22-4338-d528-1a6f9ef27adc"
      },
      "execution_count": null,
      "outputs": [
        {
          "output_type": "stream",
          "name": "stdout",
          "text": [
            "Total samples: 107044\n"
          ]
        }
      ]
    },
    {
      "cell_type": "code",
      "source": [
        "# Create list of filenames along with ground truth vector (y)\n",
        "\n",
        "filenames = []\n",
        "y = []\n",
        "\n",
        "for index, target in enumerate(target_list):\n",
        "    print(join(dataset_path, target), \", index \", index)\n",
        "    filenames.append(listdir(join(dataset_path, target)))\n",
        "    y.append(np.ones(len(filenames[index])) * index)"
      ],
      "metadata": {
        "id": "BM7D6c8i8ZGC",
        "colab": {
          "base_uri": "https://localhost:8080/"
        },
        "outputId": "76684d3c-58f9-4832-868a-021dc9274ab7"
      },
      "execution_count": null,
      "outputs": [
        {
          "output_type": "stream",
          "name": "stdout",
          "text": [
            "/content/dataset/downloads/extracted/_background_noise_ , index  0\n",
            "/content/dataset/downloads/extracted/_silence_ , index  1\n",
            "/content/dataset/downloads/extracted/_unknown_ , index  2\n",
            "/content/dataset/downloads/extracted/backward , index  3\n",
            "/content/dataset/downloads/extracted/bed , index  4\n",
            "/content/dataset/downloads/extracted/bird , index  5\n",
            "/content/dataset/downloads/extracted/cat , index  6\n",
            "/content/dataset/downloads/extracted/dog , index  7\n",
            "/content/dataset/downloads/extracted/down , index  8\n",
            "/content/dataset/downloads/extracted/eight , index  9\n",
            "/content/dataset/downloads/extracted/five , index  10\n",
            "/content/dataset/downloads/extracted/follow , index  11\n",
            "/content/dataset/downloads/extracted/forward , index  12\n",
            "/content/dataset/downloads/extracted/four , index  13\n",
            "/content/dataset/downloads/extracted/go , index  14\n",
            "/content/dataset/downloads/extracted/happy , index  15\n",
            "/content/dataset/downloads/extracted/house , index  16\n",
            "/content/dataset/downloads/extracted/learn , index  17\n",
            "/content/dataset/downloads/extracted/left , index  18\n",
            "/content/dataset/downloads/extracted/marvin , index  19\n",
            "/content/dataset/downloads/extracted/nine , index  20\n",
            "/content/dataset/downloads/extracted/no , index  21\n",
            "/content/dataset/downloads/extracted/off , index  22\n",
            "/content/dataset/downloads/extracted/on , index  23\n",
            "/content/dataset/downloads/extracted/one , index  24\n",
            "/content/dataset/downloads/extracted/right , index  25\n",
            "/content/dataset/downloads/extracted/seven , index  26\n",
            "/content/dataset/downloads/extracted/sheila , index  27\n",
            "/content/dataset/downloads/extracted/six , index  28\n",
            "/content/dataset/downloads/extracted/stop , index  29\n",
            "/content/dataset/downloads/extracted/three , index  30\n",
            "/content/dataset/downloads/extracted/tree , index  31\n",
            "/content/dataset/downloads/extracted/two , index  32\n",
            "/content/dataset/downloads/extracted/up , index  33\n",
            "/content/dataset/downloads/extracted/visual , index  34\n",
            "/content/dataset/downloads/extracted/wow , index  35\n",
            "/content/dataset/downloads/extracted/yes , index  36\n",
            "/content/dataset/downloads/extracted/zero , index  37\n"
          ]
        }
      ]
    },
    {
      "cell_type": "code",
      "source": [
        "# Check how filenames are stored\n",
        "\n",
        "print(filenames[0:5])"
      ],
      "metadata": {
        "colab": {
          "base_uri": "https://localhost:8080/"
        },
        "id": "CNW66Gf-nWH2",
        "outputId": "baa67f46-02b6-4faa-f07f-f337827c3042"
      },
      "execution_count": null,
      "outputs": [
        {
          "output_type": "stream",
          "name": "stdout",
          "text": [
            "[['pink_noise_42.wav', 'pink_noise_15.wav', 'running_tap_54.wav', 'white_noise_27.wav', 'exercise_bike_37.wav', 'white_noise_41.wav', 'doing_the_dishes_11.wav', 'exercise_bike_6.wav', 'pink_noise_57.wav', 'dude_miaowing_28.wav', 'running_tap_57.wav', 'exercise_bike_23.wav', 'doing_the_dishes_77.wav', 'doing_the_dishes_12.wav', 'exercise_bike_44.wav', 'white_noise_53.wav', 'exercise_bike_51.wav', 'dude_miaowing_44.wav', 'running_tap_51.wav', 'dude_miaowing_47.wav', 'doing_the_dishes_72.wav', 'white_noise_58.wav', 'exercise_bike_36.wav', 'running_tap_53.wav', 'white_noise_32.wav', 'running_tap_49.wav', 'doing_the_dishes_60.wav', 'dude_miaowing_43.wav', 'doing_the_dishes_50.wav', 'white_noise_10.wav', 'doing_the_dishes_4.wav', 'running_tap_26.wav', 'exercise_bike_59.wav', 'doing_the_dishes_87.wav', 'pink_noise_38.wav', 'pink_noise_28.wav', 'white_noise_15.wav', 'dude_miaowing_19.wav', 'white_noise_48.wav', 'pink_noise_39.wav', 'running_tap_19.wav', 'dude_miaowing_59.wav', 'pink_noise_30.wav', 'white_noise_50.wav', 'pink_noise_19.wav', 'white_noise_38.wav', 'doing_the_dishes_68.wav', 'pink_noise_24.wav', 'running_tap_14.wav', 'white_noise_9.wav', 'white_noise_49.wav', 'dude_miaowing_5.wav', 'dude_miaowing_13.wav', 'white_noise_35.wav', 'running_tap_22.wav', 'dude_miaowing_58.wav', 'white_noise_1.wav', 'pink_noise_47.wav', 'running_tap_23.wav', 'running_tap_7.wav', 'exercise_bike_43.wav', 'doing_the_dishes_90.wav', 'doing_the_dishes_71.wav', 'dude_miaowing_0.wav', 'exercise_bike_13.wav', 'white_noise_14.wav', 'pink_noise_52.wav', 'running_tap_29.wav', 'running_tap_31.wav', 'white_noise_43.wav', 'doing_the_dishes_51.wav', 'running_tap_60.wav', 'dude_miaowing_49.wav', 'exercise_bike_40.wav', 'dude_miaowing_46.wav', 'pink_noise_58.wav', 'white_noise_54.wav', 'running_tap_2.wav', 'white_noise_55.wav', 'dude_miaowing_4.wav', 'running_tap_59.wav', 'pink_noise_23.wav', 'pink_noise_11.wav', 'white_noise_31.wav', 'dude_miaowing_45.wav', 'exercise_bike_14.wav', 'doing_the_dishes_33.wav', 'pink_noise_13.wav', 'exercise_bike_24.wav', 'doing_the_dishes_38.wav', 'exercise_bike_41.wav', 'doing_the_dishes_39.wav', 'running_tap_16.wav', 'white_noise_18.wav', 'doing_the_dishes_69.wav', 'white_noise_21.wav', 'doing_the_dishes_35.wav', 'dude_miaowing_20.wav', 'dude_miaowing_24.wav', 'white_noise_44.wav', 'white_noise_6.wav', 'doing_the_dishes_73.wav', 'dude_miaowing_38.wav', 'doing_the_dishes_85.wav', 'white_noise_5.wav', 'running_tap_10.wav', 'doing_the_dishes_56.wav', 'running_tap_55.wav', 'white_noise_28.wav', 'dude_miaowing_57.wav', 'pink_noise_32.wav', 'dude_miaowing_33.wav', 'dude_miaowing_17.wav', 'dude_miaowing_7.wav', 'white_noise_23.wav', 'pink_noise_36.wav', 'exercise_bike_25.wav', 'dude_miaowing_32.wav', 'dude_miaowing_55.wav', 'dude_miaowing_30.wav', 'pink_noise_56.wav', 'pink_noise_16.wav', 'doing_the_dishes_6.wav', 'pink_noise_10.wav', 'doing_the_dishes_82.wav', 'doing_the_dishes_93.wav', 'white_noise_19.wav', 'dude_miaowing_50.wav', 'white_noise_47.wav', 'dude_miaowing_29.wav', 'exercise_bike_56.wav', 'doing_the_dishes_1.wav', 'doing_the_dishes_52.wav', 'doing_the_dishes_54.wav', 'running_tap_46.wav', 'pink_noise_54.wav', 'doing_the_dishes_63.wav', 'pink_noise_4.wav', 'pink_noise_44.wav', 'doing_the_dishes_25.wav', 'white_noise_40.wav', 'exercise_bike_58.wav', 'exercise_bike_27.wav', 'pink_noise_29.wav', 'running_tap_37.wav', 'doing_the_dishes_14.wav', 'exercise_bike_18.wav', 'pink_noise_35.wav', 'dude_miaowing_21.wav', 'doing_the_dishes_13.wav', 'doing_the_dishes_66.wav', 'white_noise_17.wav', 'running_tap_24.wav', 'exercise_bike_55.wav', 'dude_miaowing_31.wav', 'white_noise_25.wav', 'white_noise_56.wav', 'running_tap_4.wav', 'exercise_bike_39.wav', 'doing_the_dishes_74.wav', 'doing_the_dishes_5.wav', 'running_tap_45.wav', 'doing_the_dishes_76.wav', 'running_tap_3.wav', 'doing_the_dishes_19.wav', 'running_tap_56.wav', 'pink_noise_2.wav', 'pink_noise_9.wav', 'doing_the_dishes_47.wav', 'exercise_bike_26.wav', 'running_tap_50.wav', 'running_tap_34.wav', 'doing_the_dishes_79.wav', 'dude_miaowing_48.wav', 'exercise_bike_16.wav', 'pink_noise_51.wav', 'running_tap_41.wav', 'dude_miaowing_3.wav', 'white_noise_39.wav', 'running_tap_0.wav', 'pink_noise_18.wav', 'exercise_bike_11.wav', 'white_noise_36.wav', 'exercise_bike_15.wav', 'doing_the_dishes_65.wav', 'dude_miaowing_51.wav', 'doing_the_dishes_21.wav', 'exercise_bike_46.wav', 'exercise_bike_22.wav', 'exercise_bike_2.wav', 'dude_miaowing_14.wav', 'dude_miaowing_35.wav', 'doing_the_dishes_22.wav', 'doing_the_dishes_34.wav', 'pink_noise_26.wav', 'doing_the_dishes_86.wav', 'pink_noise_49.wav', 'exercise_bike_19.wav', 'running_tap_27.wav', 'doing_the_dishes_15.wav', 'exercise_bike_3.wav', 'doing_the_dishes_91.wav', 'pink_noise_5.wav', 'running_tap_52.wav', 'exercise_bike_1.wav', 'README.md', 'white_noise_29.wav', 'white_noise_3.wav', 'exercise_bike_4.wav', 'running_tap_13.wav', 'pink_noise_43.wav', 'doing_the_dishes_10.wav', 'doing_the_dishes_16.wav', 'exercise_bike_10.wav', 'pink_noise_59.wav', 'doing_the_dishes_78.wav', 'dude_miaowing_12.wav', 'running_tap_36.wav', 'running_tap_44.wav', 'doing_the_dishes_7.wav', 'white_noise_4.wav', 'dude_miaowing_18.wav', 'dude_miaowing_39.wav', 'running_tap_18.wav', 'running_tap_30.wav', 'pink_noise_34.wav', 'exercise_bike_29.wav', 'white_noise_2.wav', 'running_tap_12.wav', 'pink_noise_1.wav', 'pink_noise_40.wav', 'white_noise_46.wav', 'doing_the_dishes_46.wav', 'exercise_bike_33.wav', 'dude_miaowing_40.wav', 'exercise_bike_21.wav', 'white_noise_37.wav', 'running_tap_58.wav', 'exercise_bike_48.wav', 'doing_the_dishes_29.wav', 'dude_miaowing_36.wav', 'running_tap_28.wav', 'doing_the_dishes_53.wav', 'exercise_bike_52.wav', 'dude_miaowing_9.wav', 'doing_the_dishes_26.wav', 'dude_miaowing_2.wav', 'dude_miaowing_42.wav', 'doing_the_dishes_42.wav', 'exercise_bike_57.wav', 'pink_noise_27.wav', 'doing_the_dishes_58.wav', 'running_tap_33.wav', 'doing_the_dishes_8.wav', 'doing_the_dishes_41.wav', 'dude_miaowing_6.wav', 'doing_the_dishes_62.wav', 'dude_miaowing_1.wav', 'exercise_bike_20.wav', 'white_noise_51.wav', 'running_tap_1.wav', 'running_tap_47.wav', 'running_tap_40.wav', 'running_tap_6.wav', 'doing_the_dishes_3.wav', 'doing_the_dishes_88.wav', 'doing_the_dishes_17.wav', 'pink_noise_53.wav', 'running_tap_42.wav', 'doing_the_dishes_48.wav', 'dude_miaowing_41.wav', 'exercise_bike_31.wav', 'exercise_bike_32.wav', 'doing_the_dishes_81.wav', 'exercise_bike_7.wav', 'pink_noise_21.wav', 'white_noise_12.wav', 'doing_the_dishes_28.wav', 'pink_noise_7.wav', 'doing_the_dishes_31.wav', 'white_noise_7.wav', 'dude_miaowing_22.wav', 'pink_noise_41.wav', 'doing_the_dishes_44.wav', 'pink_noise_25.wav', 'exercise_bike_60.wav', 'doing_the_dishes_27.wav', 'pink_noise_55.wav', 'exercise_bike_47.wav', 'exercise_bike_17.wav', 'pink_noise_37.wav', 'dude_miaowing_23.wav', 'running_tap_48.wav', 'dude_miaowing_16.wav', 'exercise_bike_50.wav', 'running_tap_20.wav', 'white_noise_11.wav', 'running_tap_8.wav', 'pink_noise_46.wav', 'dude_miaowing_54.wav', 'dude_miaowing_25.wav', 'exercise_bike_0.wav', 'white_noise_45.wav', 'exercise_bike_49.wav', 'doing_the_dishes_94.wav', 'pink_noise_22.wav', 'doing_the_dishes_75.wav', 'pink_noise_45.wav', 'doing_the_dishes_30.wav', 'doing_the_dishes_37.wav', 'pink_noise_17.wav', 'doing_the_dishes_43.wav', 'pink_noise_0.wav', 'running_tap_43.wav', 'exercise_bike_5.wav', 'white_noise_57.wav', 'running_tap_35.wav', 'white_noise_20.wav', 'dude_miaowing_34.wav', 'dude_miaowing_10.wav', 'exercise_bike_45.wav', 'running_tap_9.wav', 'dude_miaowing_27.wav', 'doing_the_dishes_9.wav', 'dude_miaowing_60.wav', 'doing_the_dishes_67.wav', 'doing_the_dishes_80.wav', 'doing_the_dishes_45.wav', 'dude_miaowing_37.wav', 'doing_the_dishes_61.wav', 'dude_miaowing_56.wav', 'exercise_bike_30.wav', 'pink_noise_3.wav', 'doing_the_dishes_55.wav', 'pink_noise_14.wav', 'pink_noise_33.wav', 'running_tap_15.wav', 'doing_the_dishes_70.wav', 'white_noise_52.wav', 'running_tap_39.wav', 'doing_the_dishes_18.wav', 'doing_the_dishes_32.wav', 'running_tap_21.wav', 'dude_miaowing_8.wav', 'exercise_bike_28.wav', 'white_noise_8.wav', 'pink_noise_48.wav', 'white_noise_34.wav', 'white_noise_30.wav', 'white_noise_0.wav', 'doing_the_dishes_59.wav', 'doing_the_dishes_64.wav', 'pink_noise_8.wav', 'dude_miaowing_11.wav', 'dude_miaowing_53.wav', 'dude_miaowing_15.wav', 'pink_noise_12.wav', 'doing_the_dishes_57.wav', 'white_noise_16.wav', 'running_tap_5.wav', 'doing_the_dishes_2.wav', 'exercise_bike_9.wav', 'doing_the_dishes_83.wav', 'doing_the_dishes_40.wav', 'running_tap_32.wav', 'running_tap_11.wav', 'doing_the_dishes_20.wav', 'dude_miaowing_52.wav', 'running_tap_25.wav', 'white_noise_24.wav', 'white_noise_59.wav', 'exercise_bike_8.wav', 'pink_noise_6.wav', 'doing_the_dishes_24.wav', 'exercise_bike_12.wav', 'doing_the_dishes_49.wav', 'doing_the_dishes_89.wav', 'pink_noise_20.wav', 'doing_the_dishes_36.wav', 'pink_noise_31.wav', 'exercise_bike_54.wav', 'white_noise_42.wav', 'pink_noise_50.wav', 'doing_the_dishes_84.wav', 'white_noise_26.wav', 'white_noise_33.wav', 'exercise_bike_53.wav', 'running_tap_17.wav', 'exercise_bike_35.wav', 'doing_the_dishes_92.wav', 'exercise_bike_38.wav', 'doing_the_dishes_0.wav', 'exercise_bike_42.wav', 'running_tap_38.wav', 'white_noise_13.wav', 'dude_miaowing_26.wav', 'exercise_bike_34.wav', 'white_noise_22.wav', 'doing_the_dishes_23.wav'], ['2583.wav', '3535.wav', '3956.wav', '445.wav', '89.wav', '4196.wav', '3831.wav', '4029.wav', '1295.wav', '73.wav', '2291.wav', '3595.wav', '6.wav', '895.wav', '352.wav', '1156.wav', '2927.wav', '3269.wav', '35.wav', '2467.wav', '4568.wav', '3767.wav', '4157.wav', '3043.wav', '1615.wav', '1894.wav', '716.wav', '3826.wav', '466.wav', '1357.wav', '3709.wav', '3498.wav', '252.wav', '2995.wav', '3469.wav', '1941.wav', '1791.wav', '4609.wav', '1845.wav', '167.wav', '4149.wav', '3558.wav', '561.wav', '2554.wav', '2980.wav', '1366.wav', '1427.wav', '2193.wav', '2349.wav', '3947.wav', '3507.wav', '2833.wav', '747.wav', '4748.wav', '4466.wav', '2555.wav', '3616.wav', '3446.wav', '4344.wav', '3373.wav', '1836.wav', '4066.wav', '1746.wav', '172.wav', '835.wav', '1245.wav', '1037.wav', '2321.wav', '4537.wav', '2368.wav', '4825.wav', '1043.wav', '2711.wav', '2482.wav', '1050.wav', '1753.wav', '3347.wav', '2905.wav', '3.wav', '700.wav', '3571.wav', '4597.wav', '2170.wav', '4383.wav', '2689.wav', '335.wav', '3420.wav', '4583.wav', '216.wav', '2254.wav', '1389.wav', '3025.wav', '1642.wav', '1685.wav', '1105.wav', '4775.wav', '3915.wav', '522.wav', '3665.wav', '2794.wav', '319.wav', '3542.wav', '3219.wav', '282.wav', '1420.wav', '2575.wav', '1682.wav', '2281.wav', '4123.wav', '301.wav', '3589.wav', '1127.wav', '3867.wav', '3685.wav', '623.wav', '1816.wav', '1775.wav', '2941.wav', '580.wav', '946.wav', '2792.wav', '2810.wav', '4173.wav', '4888.wav', '1115.wav', '3131.wav', '1181.wav', '4698.wav', '2009.wav', '1057.wav', '474.wav', '720.wav', '1561.wav', '856.wav', '3471.wav', '1097.wav', '3911.wav', '740.wav', '3885.wav', '93.wav', '267.wav', '2.wav', '3942.wav', '4.wav', '2388.wav', '3622.wav', '1131.wav', '1904.wav', '3441.wav', '3183.wav', '3084.wav', '1136.wav', '1818.wav', '127.wav', '1837.wav', '4498.wav', '3246.wav', '2824.wav', '2197.wav', '2320.wav', '4691.wav', '33.wav', '3659.wav', '579.wav', '443.wav', '3258.wav', '41.wav', '2682.wav', '909.wav', '1370.wav', '1254.wav', '1605.wav', '3176.wav', '1835.wav', '3725.wav', '2612.wav', '1442.wav', '4600.wav', '3879.wav', '971.wav', '158.wav', '4197.wav', '660.wav', '2262.wav', '2390.wav', '2962.wav', '781.wav', '3932.wav', '4010.wav', '2865.wav', '1177.wav', '4541.wav', '4214.wav', '92.wav', '4804.wav', '1477.wav', '1060.wav', '3228.wav', '4529.wav', '3941.wav', '2744.wav', '3434.wav', '2641.wav', '3101.wav', '4860.wav', '4243.wav', '2870.wav', '3083.wav', '737.wav', '4776.wav', '796.wav', '2872.wav', '2105.wav', '4472.wav', '4352.wav', '3661.wav', '2340.wav', '4683.wav', '4534.wav', '4300.wav', '811.wav', '521.wav', '4848.wav', '2655.wav', '3774.wav', '834.wav', '3697.wav', '4811.wav', '4742.wav', '251.wav', '1520.wav', '4431.wav', '2025.wav', '2750.wav', '706.wav', '4023.wav', '1708.wav', '4424.wav', '1695.wav', '3123.wav', '1953.wav', '4518.wav', '3474.wav', '2700.wav', '3081.wav', '1257.wav', '788.wav', '2942.wav', '189.wav', '2982.wav', '2724.wav', '861.wav', '2609.wav', '4042.wav', '1250.wav', '973.wav', '2778.wav', '3231.wav', '2239.wav', '727.wav', '4487.wav', '947.wav', '1676.wav', '4256.wav', '1749.wav', '2506.wav', '1540.wav', '4767.wav', '2014.wav', '58.wav', '2874.wav', '2559.wav', '3746.wav', '98.wav', '2301.wav', '1766.wav', '2486.wav', '3040.wav', '3839.wav', '3820.wav', '3331.wav', '2603.wav', '1936.wav', '3519.wav', '3634.wav', '704.wav', '842.wav', '325.wav', '2924.wav', '4865.wav', '1849.wav', '1901.wav', '4223.wav', '926.wav', '3314.wav', '4664.wav', '424.wav', '2117.wav', '1328.wav', '2935.wav', '2647.wav', '651.wav', '4771.wav', '1270.wav', '3120.wav', '3333.wav', '2847.wav', '3329.wav', '617.wav', '4374.wav', '1292.wav', '2203.wav', '406.wav', '4490.wav', '2240.wav', '2604.wav', '27.wav', '4072.wav', '3136.wav', '836.wav', '1336.wav', '4496.wav', '1952.wav', '3657.wav', '599.wav', '1680.wav', '4427.wav', '1421.wav', '4126.wav', '381.wav', '2894.wav', '4458.wav', '2968.wav', '4100.wav', '2345.wav', '4719.wav', '2443.wav', '1428.wav', '1656.wav', '2843.wav', '1769.wav', '3282.wav', '884.wav', '2428.wav', '4759.wav', '2015.wav', '2367.wav', '1287.wav', '2221.wav', '924.wav', '2582.wav', '3442.wav', '3181.wav', '1141.wav', '778.wav', '3125.wav', '3591.wav', '2752.wav', '960.wav', '3858.wav', '3059.wav', '2224.wav', '2878.wav', '3853.wav', '799.wav', '4467.wav', '3551.wav', '2846.wav', '4038.wav', '2523.wav', '1024.wav', '1516.wav', '4102.wav', '2613.wav', '1212.wav', '1083.wav', '1951.wav', '3859.wav', '1929.wav', '1342.wav', '1099.wav', '1443.wav', '3513.wav', '3391.wav', '4815.wav', '1922.wav', '2576.wav', '4024.wav', '2741.wav', '463.wav', '4435.wav', '3534.wav', '4669.wav', '1114.wav', '266.wav', '1041.wav', '2419.wav', '3211.wav', '2265.wav', '4881.wav', '3861.wav', '1915.wav', '1649.wav', '1926.wav', '906.wav', '3838.wav', '4834.wav', '3967.wav'], ['three_b1f8326d_nohash_0.wav.wav', 'wow_d7467392_nohash_0.wav.wav', 'forward_a7216980_nohash_2.wav.wav', 'nine_4f8ef132_nohash_1.wav.wav', 'five_c7124b73_nohash_0.wav.wav', 'wow_a2473d62_nohash_1.wav.wav', 'eight_893705bb_nohash_0.wav.wav', 'zero_bfd26d6b_nohash_2.wav.wav', 'zero_5170b77f_nohash_1.wav.wav', 'one_4fd1443e_nohash_2.wav.wav', 'sheila_5b1db3ee_nohash_1.wav.wav', 'forward_d5b963aa_nohash_3.wav.wav', 'zero_81dc4a94_nohash_1.wav.wav', 'happy_5828dfa2_nohash_1.wav.wav', 'one_d5ca80c6_nohash_0.wav.wav', 'forward_f9643d42_nohash_2.wav.wav', 'house_412c675c_nohash_0.wav.wav', 'six_d5b963aa_nohash_3.wav.wav', 'eight_4fd1443e_nohash_2.wav.wav', 'nine_24ad3ebe_nohash_0.wav.wav', 'learn_0cb74144_nohash_1.wav.wav', 'zero_db24628d_nohash_3.wav.wav', 'eight_cd85758f_nohash_0.wav.wav', 'seven_d1bf406b_nohash_1.wav.wav', 'three_a80f9f53_nohash_0.wav.wav', 'four_0c40e715_nohash_0.wav.wav', 'seven_b83c1acf_nohash_3.wav.wav', 'bird_e71b4ce6_nohash_0.wav.wav', 'happy_d91a159e_nohash_0.wav.wav', 'seven_8a325749_nohash_0.wav.wav', 'zero_9d171fee_nohash_1.wav.wav', 'learn_964c7c9e_nohash_0.wav.wav', 'wow_a591c2ea_nohash_0.wav.wav', 'nine_563aa4e6_nohash_4.wav.wav', 'follow_bfd26d6b_nohash_4.wav.wav', 'marvin_0c40e715_nohash_0.wav.wav', 'happy_b1f8326d_nohash_1.wav.wav', 'wow_dc75148d_nohash_0.wav.wav', 'eight_8a325749_nohash_1.wav.wav', 'bird_0fa1e7a9_nohash_0.wav.wav', 'six_b97c9f77_nohash_3.wav.wav', 'five_a6f2fd71_nohash_0.wav.wav', 'zero_5170b77f_nohash_4.wav.wav', 'nine_d0faf7e4_nohash_2.wav.wav', 'happy_f17d21b5_nohash_0.wav.wav', 'eight_c7dc7278_nohash_3.wav.wav', 'follow_b7e9f841_nohash_0.wav.wav', 'three_370844f7_nohash_1.wav.wav', 'wow_6e916de8_nohash_3.wav.wav', 'nine_fb7eb481_nohash_0.wav.wav', 'five_964e8cfd_nohash_4.wav.wav', 'four_8ec6dab6_nohash_1.wav.wav', 'five_7dc95912_nohash_1.wav.wav', 'seven_bfd26d6b_nohash_1.wav.wav', 'three_27c30960_nohash_0.wav.wav', 'eight_fe1916ba_nohash_0.wav.wav', 'nine_26b28ea7_nohash_0.wav.wav', 'tree_ffb86d3c_nohash_0.wav.wav', 'one_692a88e6_nohash_1.wav.wav', 'learn_220ee1ef_nohash_0.wav.wav', 'two_d5ca80c6_nohash_3.wav.wav', 'cat_105a0eea_nohash_0.wav.wav', 'visual_ea37ca08_nohash_0.wav.wav', 'tree_4620dc14_nohash_0.wav.wav', 'house_2aa787cf_nohash_1.wav.wav', 'zero_44260689_nohash_1.wav.wav', 'two_e49428d9_nohash_1.wav.wav', 'visual_91b03183_nohash_4.wav.wav', 'visual_8769c34c_nohash_0.wav.wav', 'three_7192fddc_nohash_0.wav.wav', 'nine_f9643d42_nohash_4.wav.wav', 'two_91b03183_nohash_1.wav.wav', 'zero_d0faf7e4_nohash_4.wav.wav', 'one_d0faf7e4_nohash_1.wav.wav', 'dog_43fc47a7_nohash_0.wav.wav', 'follow_b7e9f841_nohash_2.wav.wav', 'eight_cfbedff9_nohash_0.wav.wav', 'forward_f2e59fea_nohash_1.wav.wav', 'cat_8fe67225_nohash_0.wav.wav', 'six_8fe67225_nohash_4.wav.wav', 'five_c9b5ff26_nohash_1.wav.wav', 'cat_c518d1b1_nohash_0.wav.wav', 'eight_9d4bab4f_nohash_1.wav.wav', 'three_fa446c16_nohash_0.wav.wav', 'two_964e8cfd_nohash_2.wav.wav', 'one_9a69672b_nohash_0.wav.wav', 'sheila_d9e9f554_nohash_0.wav.wav', 'eight_f292725f_nohash_0.wav.wav', 'sheila_370844f7_nohash_0.wav.wav', 'eight_2d82a556_nohash_1.wav.wav', 'marvin_3b4f8f24_nohash_0.wav.wav', 'bed_bed06fac_nohash_0.wav.wav', 'six_9dc1889e_nohash_1.wav.wav', 'marvin_f297e878_nohash_0.wav.wav', 'happy_8494fba8_nohash_0.wav.wav', 'happy_d1a4fb3f_nohash_0.wav.wav', 'eight_67961766_nohash_0.wav.wav', 'marvin_105a0eea_nohash_0.wav.wav', 'happy_a8e25ebb_nohash_0.wav.wav', 'follow_63f7a489_nohash_1.wav.wav', 'sheila_cfde27ba_nohash_0.wav.wav', 'backward_87070229_nohash_2.wav.wav', 'zero_563aa4e6_nohash_2.wav.wav', 'six_3efef882_nohash_0.wav.wav', 'dog_4c6167ca_nohash_1.wav.wav', 'forward_cfbedff9_nohash_0.wav.wav', 'happy_7bae88ed_nohash_0.wav.wav', 'seven_7e1054e7_nohash_0.wav.wav', 'six_a7216980_nohash_3.wav.wav', 'four_a591c2ea_nohash_1.wav.wav', 'cat_d5ca80c6_nohash_0.wav.wav', 'visual_8769c34c_nohash_2.wav.wav', 'one_27c30960_nohash_1.wav.wav', 'two_e0c782d5_nohash_1.wav.wav', 'wow_af405b69_nohash_0.wav.wav', 'six_3659fc1c_nohash_0.wav.wav', 'bird_b97c9f77_nohash_0.wav.wav', 'nine_4fd1443e_nohash_0.wav.wav', 'eight_18f8afd5_nohash_3.wav.wav', 'bed_28497c5b_nohash_0.wav.wav', 'forward_893705bb_nohash_4.wav.wav', 'tree_aef8dcf5_nohash_0.wav.wav', 'eight_fb7eb481_nohash_0.wav.wav', 'tree_7add4c5f_nohash_0.wav.wav', 'seven_e49428d9_nohash_3.wav.wav', 'seven_91b03183_nohash_3.wav.wav', 'six_692a88e6_nohash_0.wav.wav', 'happy_24ad3ebe_nohash_0.wav.wav', 'sheila_af405b69_nohash_1.wav.wav', 'wow_4f8ef132_nohash_0.wav.wav', 'sheila_4f8ef132_nohash_0.wav.wav', 'zero_cfbedff9_nohash_0.wav.wav', 'sheila_8fe52b97_nohash_0.wav.wav', 'six_63f7a489_nohash_0.wav.wav', 'six_d9e9f554_nohash_0.wav.wav', 'eight_7257420c_nohash_1.wav.wav', 'four_4c6167ca_nohash_4.wav.wav', 'one_0cb74144_nohash_1.wav.wav', 'nine_b97c9f77_nohash_0.wav.wav', 'happy_3df9a3d4_nohash_0.wav.wav', 'five_798f702a_nohash_0.wav.wav', 'zero_c22d3f18_nohash_2.wav.wav', 'zero_1b4c9b89_nohash_3.wav.wav', 'forward_8fe67225_nohash_3.wav.wav', 'three_e41a903b_nohash_0.wav.wav', 'forward_fb7eb481_nohash_3.wav.wav', 'eight_80c45ed6_nohash_1.wav.wav', 'cat_6f2f57c1_nohash_0.wav.wav', 'five_0cb74144_nohash_2.wav.wav', 'seven_cd85758f_nohash_3.wav.wav', 'marvin_587f3271_nohash_0.wav.wav', 'nine_a591c2ea_nohash_3.wav.wav', 'five_fb7eb481_nohash_0.wav.wav', 'zero_bfd26d6b_nohash_1.wav.wav', 'bed_0ea0e2f4_nohash_1.wav.wav', 'three_f428ca69_nohash_0.wav.wav', 'eight_f2e59fea_nohash_2.wav.wav', 'nine_fb7eb481_nohash_1.wav.wav', 'learn_475b61f1_nohash_0.wav.wav', 'tree_0c40e715_nohash_2.wav.wav', 'one_1f3bece8_nohash_1.wav.wav', 'six_27c30960_nohash_1.wav.wav', 'four_8769c34c_nohash_2.wav.wav', 'five_0d53e045_nohash_0.wav.wav', 'happy_8fe67225_nohash_0.wav.wav', 'three_692a88e6_nohash_1.wav.wav', 'six_a6f2fd71_nohash_4.wav.wav', 'two_aa80f517_nohash_3.wav.wav', 'zero_af7a8296_nohash_0.wav.wav', 'four_bfd26d6b_nohash_1.wav.wav', 'wow_81dc4a94_nohash_0.wav.wav', 'one_42beb5eb_nohash_1.wav.wav', 'backward_5170b77f_nohash_4.wav.wav', 'zero_893705bb_nohash_3.wav.wav', 'six_db24628d_nohash_0.wav.wav', 'zero_af8b2f2c_nohash_0.wav.wav', 'nine_7257420c_nohash_0.wav.wav', 'four_b49caed3_nohash_0.wav.wav', 'six_f428ca69_nohash_0.wav.wav', 'eight_837a0f64_nohash_4.wav.wav', 'happy_f6af2457_nohash_0.wav.wav', 'four_c7dc7278_nohash_0.wav.wav', 'visual_ca4d5368_nohash_5.wav.wav', 'sheila_6021f08b_nohash_0.wav.wav', 'six_a80f9f53_nohash_0.wav.wav', 'seven_cd85758f_nohash_0.wav.wav', 'six_5c8af87a_nohash_0.wav.wav', 'three_8c0e5970_nohash_0.wav.wav', 'four_18f8afd5_nohash_0.wav.wav', 'zero_d962e5ac_nohash_4.wav.wav', 'four_db24628d_nohash_1.wav.wav', 'three_87070229_nohash_1.wav.wav', 'six_1acc97de_nohash_2.wav.wav', 'dog_d1a4fb3f_nohash_0.wav.wav', 'one_3b4f8f24_nohash_0.wav.wav', 'two_8769c34c_nohash_1.wav.wav', 'one_2796ac50_nohash_0.wav.wav', 'nine_b1f8326d_nohash_1.wav.wav', 'backward_0cb74144_nohash_2.wav.wav', 'one_837a0f64_nohash_3.wav.wav', 'forward_4c6167ca_nohash_5.wav.wav', 'sheila_44260689_nohash_0.wav.wav', 'sheila_283d7a53_nohash_0.wav.wav', 'six_9a69672b_nohash_1.wav.wav', 'five_c7dc7278_nohash_0.wav.wav', 'sheila_ca48dc76_nohash_1.wav.wav', 'backward_f9643d42_nohash_3.wav.wav', 'marvin_d1bf406b_nohash_0.wav.wav', 'six_4c6167ca_nohash_5.wav.wav', 'one_b97c9f77_nohash_3.wav.wav', 'eight_b83c1acf_nohash_0.wav.wav', 'nine_964e8cfd_nohash_1.wav.wav', 'marvin_7add4c5f_nohash_1.wav.wav', 'bird_cfde27ba_nohash_0.wav.wav', 'backward_f2e59fea_nohash_4.wav.wav', 'wow_a4383927_nohash_0.wav.wav', 'happy_893705bb_nohash_1.wav.wav', 'zero_44260689_nohash_0.wav.wav', 'eight_bb05582b_nohash_3.wav.wav', 'marvin_6379c6a2_nohash_0.wav.wav', 'backward_a6f2fd71_nohash_3.wav.wav', 'forward_3b4f8f24_nohash_2.wav.wav', 'three_c7dc7278_nohash_1.wav.wav', 'wow_aa80f517_nohash_0.wav.wav', 'wow_90b94017_nohash_0.wav.wav', 'three_4c7c95de_nohash_0.wav.wav', 'five_42beb5eb_nohash_0.wav.wav', 'cat_7192fddc_nohash_0.wav.wav', 'one_4845bb10_nohash_0.wav.wav', 'dog_2c6d3924_nohash_2.wav.wav', 'forward_4fd1443e_nohash_1.wav.wav', 'nine_b1f8326d_nohash_0.wav.wav', 'follow_4c6167ca_nohash_3.wav.wav', 'cat_105a0eea_nohash_1.wav.wav', 'sheila_bed06fac_nohash_0.wav.wav', 'two_a4e8a997_nohash_0.wav.wav', 'bed_5e3dde6b_nohash_0.wav.wav', 'nine_e49428d9_nohash_0.wav.wav', 'visual_e49428d9_nohash_4.wav.wav', 'tree_a4e8a997_nohash_1.wav.wav', 'nine_3df9a3d4_nohash_0.wav.wav', 'three_91b03183_nohash_3.wav.wav', 'dog_b97c9f77_nohash_0.wav.wav', 'sheila_881583a6_nohash_0.wav.wav', 'one_dfdabe19_nohash_1.wav.wav', 'sheila_af130f12_nohash_3.wav.wav', 'bed_cfbedff9_nohash_0.wav.wav', 'two_4fd1443e_nohash_3.wav.wav', 'three_9a69672b_nohash_1.wav.wav', 'backward_0c540988_nohash_0.wav.wav', 'two_87070229_nohash_1.wav.wav', 'two_84d1e469_nohash_0.wav.wav', 'bird_653a48f5_nohash_0.wav.wav', 'zero_3b4f8f24_nohash_1.wav.wav', 'cat_4620dc14_nohash_0.wav.wav', 'sheila_4c6167ca_nohash_1.wav.wav', 'two_5e3dde6b_nohash_1.wav.wav', 'five_aa80f517_nohash_1.wav.wav', 'house_cd85758f_nohash_0.wav.wav', 'wow_653a48f5_nohash_0.wav.wav', 'seven_9b3ea809_nohash_0.wav.wav', 'two_8769c34c_nohash_4.wav.wav', 'six_c9b5ff26_nohash_0.wav.wav', 'three_8fe67225_nohash_3.wav.wav', 'house_6e916de8_nohash_0.wav.wav', 'happy_1fe4c891_nohash_1.wav.wav', 'seven_fb7eb481_nohash_1.wav.wav', 'wow_3b4f8f24_nohash_0.wav.wav', 'four_c9b5ff26_nohash_3.wav.wav', 'six_653a48f5_nohash_0.wav.wav', 'one_8769c34c_nohash_0.wav.wav', 'three_ca4d5368_nohash_2.wav.wav', 'five_d962e5ac_nohash_0.wav.wav', 'happy_a7216980_nohash_0.wav.wav', 'follow_aa80f517_nohash_0.wav.wav', 'seven_a1533da4_nohash_0.wav.wav', 'six_0cb74144_nohash_1.wav.wav', 'three_c9b5ff26_nohash_0.wav.wav', 'seven_5f814c23_nohash_0.wav.wav', 'nine_8769c34c_nohash_0.wav.wav', 'house_8c7f81df_nohash_1.wav.wav', 'four_63f7a489_nohash_1.wav.wav', 'seven_563aa4e6_nohash_1.wav.wav', 'tree_8ea6dec6_nohash_0.wav.wav', 'forward_c7dc7278_nohash_2.wav.wav', 'bed_837a0f64_nohash_0.wav.wav', 'bird_2c6d3924_nohash_0.wav.wav', 'three_d962e5ac_nohash_0.wav.wav', 'marvin_4f8ef132_nohash_0.wav.wav', 'one_d962e5ac_nohash_3.wav.wav', 'house_b11a05d2_nohash_0.wav.wav', 'marvin_af130f12_nohash_0.wav.wav', 'eight_97f4c236_nohash_1.wav.wav', 'eight_a7216980_nohash_1.wav.wav', 'one_8fe52b97_nohash_0.wav.wav', 'bed_fe1916ba_nohash_0.wav.wav', 'four_5170b77f_nohash_2.wav.wav', 'one_7257420c_nohash_0.wav.wav', 'zero_c7dc7278_nohash_1.wav.wav', 'five_837a0f64_nohash_4.wav.wav', 'nine_ca48dc76_nohash_0.wav.wav', 'cat_83957201_nohash_0.wav.wav', 'three_87070229_nohash_4.wav.wav', 'two_e1469561_nohash_3.wav.wav', 'bird_a4383927_nohash_0.wav.wav', 'sheila_4c841771_nohash_1.wav.wav', 'one_d5b963aa_nohash_0.wav.wav', 'house_e1469561_nohash_0.wav.wav', 'two_e49428d9_nohash_0.wav.wav', 'two_18f8afd5_nohash_2.wav.wav', 'one_37dca74f_nohash_2.wav.wav', 'three_ef2a3cfb_nohash_0.wav.wav', 'five_893705bb_nohash_8.wav.wav', 'five_c22d3f18_nohash_4.wav.wav', 'zero_5e3dde6b_nohash_2.wav.wav', 'one_cfbedff9_nohash_0.wav.wav', 'bed_ca4d5368_nohash_0.wav.wav', 'learn_1acc97de_nohash_0.wav.wav', 'zero_0fa1e7a9_nohash_2.wav.wav', 'eight_82b99576_nohash_0.wav.wav', 'eight_f292725f_nohash_1.wav.wav', 'two_4fd1443e_nohash_1.wav.wav', 'house_7e1054e7_nohash_1.wav.wav', 'happy_4fd1443e_nohash_0.wav.wav', 'tree_0fa1e7a9_nohash_1.wav.wav', 'bird_5c8af87a_nohash_0.wav.wav', 'eight_893705bb_nohash_9.wav.wav', 'nine_af405b69_nohash_0.wav.wav', 'six_1acc97de_nohash_0.wav.wav', 'zero_837a0f64_nohash_3.wav.wav', 'two_893705bb_nohash_0.wav.wav', 'house_84d1e469_nohash_0.wav.wav', 'tree_4a0e2c16_nohash_0.wav.wav', 'seven_e0c782d5_nohash_2.wav.wav', 'eight_c0e0f834_nohash_0.wav.wav', 'follow_e49428d9_nohash_2.wav.wav', 'five_3b4f8f24_nohash_0.wav.wav', 'five_a80f9f53_nohash_0.wav.wav', 'learn_ca4d5368_nohash_0.wav.wav', 'six_964e8cfd_nohash_2.wav.wav', 'eight_94de6a6a_nohash_3.wav.wav', 'happy_6b889021_nohash_2.wav.wav', 'forward_4c6167ca_nohash_4.wav.wav', 'four_a8e25ebb_nohash_2.wav.wav', 'tree_f428ca69_nohash_0.wav.wav', 'five_97f4c236_nohash_3.wav.wav', 'three_e9901cf0_nohash_1.wav.wav', 'eight_798f702a_nohash_2.wav.wav', 'bed_893705bb_nohash_2.wav.wav', 'one_a6f2fd71_nohash_0.wav.wav', 'house_ca48dc76_nohash_0.wav.wav', 'six_b1f8326d_nohash_0.wav.wav', 'five_4c841771_nohash_0.wav.wav', 'zero_bb05582b_nohash_0.wav.wav', 'wow_5744b6a7_nohash_1.wav.wav', 'nine_964e8cfd_nohash_2.wav.wav', 'cat_2d82a556_nohash_0.wav.wav', 'bird_c7124b73_nohash_0.wav.wav', 'happy_e49428d9_nohash_0.wav.wav', 'five_2aa787cf_nohash_1.wav.wav', 'bed_4c7c95de_nohash_0.wav.wav', 'learn_1acc97de_nohash_3.wav.wav', 'six_dfdabe19_nohash_0.wav.wav', 'follow_e0c782d5_nohash_0.wav.wav', 'five_9d4bab4f_nohash_1.wav.wav', 'seven_9d4bab4f_nohash_0.wav.wav', 'dog_85d2ac4b_nohash_2.wav.wav', 'learn_b7e9f841_nohash_0.wav.wav', 'seven_563aa4e6_nohash_2.wav.wav', 'two_fce96bac_nohash_1.wav.wav', 'happy_e0c782d5_nohash_0.wav.wav', 'happy_37fc5d97_nohash_1.wav.wav', 'eight_964e8cfd_nohash_2.wav.wav', 'one_82d0d3ba_nohash_0.wav.wav', 'learn_0cb74144_nohash_0.wav.wav', 'three_692a88e6_nohash_3.wav.wav', 'eight_f9643d42_nohash_2.wav.wav', 'backward_bfd26d6b_nohash_2.wav.wav', 'one_692a88e6_nohash_5.wav.wav', 'wow_4290ca61_nohash_1.wav.wav', 'three_6736bc64_nohash_2.wav.wav', 'dog_bed06fac_nohash_2.wav.wav', 'nine_6b889021_nohash_0.wav.wav', 'follow_893705bb_nohash_9.wav.wav', 'four_d1bf406b_nohash_0.wav.wav', 'six_b49caed3_nohash_0.wav.wav', 'nine_893705bb_nohash_0.wav.wav', 'nine_1b4c9b89_nohash_2.wav.wav', 'four_cfbedff9_nohash_0.wav.wav', 'eight_db24628d_nohash_2.wav.wav', 'eight_e49428d9_nohash_1.wav.wav', 'learn_e49428d9_nohash_4.wav.wav', 'sheila_a1533da4_nohash_1.wav.wav', 'happy_1f653d27_nohash_1.wav.wav', 'backward_8fe67225_nohash_4.wav.wav', 'bird_d5b963aa_nohash_0.wav.wav', 'five_4fd1443e_nohash_1.wav.wav', 'two_0ea0e2f4_nohash_2.wav.wav', 'eight_0c40e715_nohash_0.wav.wav', 'three_b97c9f77_nohash_4.wav.wav', 'four_caedb73a_nohash_1.wav.wav', 'eight_7257420c_nohash_0.wav.wav', 'seven_964e8cfd_nohash_1.wav.wav', 'marvin_b2e2773a_nohash_0.wav.wav', 'six_43fc47a7_nohash_0.wav.wav', 'three_fb7eb481_nohash_2.wav.wav', 'four_bfd26d6b_nohash_0.wav.wav', 'eight_97f4c236_nohash_3.wav.wav'], ['2aca1e72_nohash_2.wav', 'e3e0f145_nohash_4.wav', '5a98d407_nohash_4.wav', '211b928a_nohash_2.wav', '1a994c9f_nohash_1.wav', '244cc3a5_nohash_0.wav', 'd0745d72_nohash_1.wav', '1dc86f91_nohash_0.wav', '472b8045_nohash_2.wav', 'b528edb3_nohash_3.wav', '8e523821_nohash_3.wav', 'bb6d4301_nohash_3.wav', '7f9eb952_nohash_1.wav', 'f5626af6_nohash_2.wav', '0d6d7360_nohash_4.wav', 'e11fbc6e_nohash_2.wav', '02ade946_nohash_0.wav', '3c4aa5ef_nohash_4.wav', '4cee0c60_nohash_1.wav', '5769c5ab_nohash_2.wav', '88b7c5fa_nohash_0.wav', 'e882abb2_nohash_4.wav', '3bb68054_nohash_0.wav', '2927c601_nohash_3.wav', 'f5341341_nohash_0.wav', '0b7ee1a0_nohash_4.wav', '3c4aa5ef_nohash_0.wav', '0e8ec1cb_nohash_0.wav', '72e382bd_nohash_0.wav', 'dae01802_nohash_1.wav', '6ef407da_nohash_3.wav', '234d6a48_nohash_1.wav', '042a8dde_nohash_0.wav', '837a0f64_nohash_0.wav', '85851131_nohash_4.wav', '42a99aec_nohash_2.wav', 'a929f9b9_nohash_0.wav', 'f822b9bf_nohash_3.wav', '460209ac_nohash_2.wav', '1a994c9f_nohash_4.wav', '893b3c11_nohash_0.wav', 'a16013b7_nohash_0.wav', 'b5cf6ea8_nohash_6.wav', '67bdbf56_nohash_0.wav', 'e9bc5cc2_nohash_0.wav', '98ea0818_nohash_3.wav', '1ed0b13d_nohash_2.wav', '7622d95b_nohash_1.wav', '23add12a_nohash_0.wav', '9448c397_nohash_0.wav', 'ccca5655_nohash_2.wav', 'b76f6088_nohash_2.wav', 'e9abfe31_nohash_1.wav', '365908bd_nohash_2.wav', 'b69fe0e2_nohash_1.wav', '4c6944d6_nohash_1.wav', '368bedd4_nohash_0.wav', '525eaa62_nohash_3.wav', 'a7200079_nohash_0.wav', '88e730cd_nohash_1.wav', 'f0522ff4_nohash_4.wav', 'ee1d8d49_nohash_1.wav', '2aca1e72_nohash_9.wav', 'ff4ed4f3_nohash_1.wav', 'b91b718c_nohash_2.wav', '195c120a_nohash_1.wav', 'e6327279_nohash_1.wav', 'fb7008b0_nohash_0.wav', 'ca4912b6_nohash_0.wav', 'db24628d_nohash_2.wav', '3b3d2f59_nohash_4.wav', '559bc36a_nohash_0.wav', '113b3fbc_nohash_2.wav', '0f7266cf_nohash_2.wav', 'beb458a4_nohash_0.wav', '9a2e5b3c_nohash_0.wav', 'acb9db68_nohash_1.wav', '15dd287d_nohash_2.wav', 'b69002d4_nohash_2.wav', '3291330e_nohash_3.wav', '90e72357_nohash_3.wav', 'b5cf6ea8_nohash_1.wav', 'fc3ba625_nohash_1.wav', 'f822b9bf_nohash_2.wav', 'cb62dbf1_nohash_2.wav', 'd4dddb92_nohash_0.wav', '54ad8f22_nohash_1.wav', 'a9ca1818_nohash_0.wav', 'bbf38549_nohash_1.wav', '5d4e3bb8_nohash_0.wav', 'ca4d5368_nohash_2.wav', 'cd671b5f_nohash_2.wav', 'b69002d4_nohash_4.wav', '42a99aec_nohash_0.wav', 'f2e59fea_nohash_2.wav', '7f208e83_nohash_0.wav', '226537ab_nohash_2.wav', '7fb8d703_nohash_2.wav', 'a1cf7fd8_nohash_0.wav', 'ef3367d9_nohash_4.wav', '0a2b400e_nohash_2.wav', '3d9bbe2d_nohash_1.wav', '6969e51a_nohash_1.wav', '9fac5701_nohash_2.wav', '2927c601_nohash_0.wav', '9a76f8c3_nohash_4.wav', '4c3cddb8_nohash_1.wav', '88d009d2_nohash_1.wav', '57152045_nohash_3.wav', '4c6944d6_nohash_0.wav', 'da040491_nohash_4.wav', '2fcb6397_nohash_3.wav', '9be15e93_nohash_0.wav', '879a2b38_nohash_4.wav', 'f568162b_nohash_0.wav', 'ce0cb033_nohash_2.wav', '39833acb_nohash_4.wav', '15dd287d_nohash_1.wav', '1a994c9f_nohash_2.wav', 'f5626af6_nohash_0.wav', '51c5601d_nohash_3.wav', 'd070ea86_nohash_4.wav', '98ea0818_nohash_5.wav', '4e6902d0_nohash_3.wav', '24cab2cb_nohash_0.wav', 'a7200079_nohash_3.wav', '978240e1_nohash_2.wav', '9fac5701_nohash_3.wav', 'c50f55b8_nohash_12.wav', '131e738d_nohash_4.wav', 'e9abfe31_nohash_4.wav', 'c1cc6e95_nohash_0.wav', '234d6a48_nohash_0.wav', 'f8ba7c0e_nohash_1.wav', 'f0659908_nohash_2.wav', '9e92ef0c_nohash_0.wav', 'd264f7b6_nohash_3.wav', 'b8874962_nohash_1.wav', 'dae01802_nohash_2.wav', '3b3d2f59_nohash_3.wav', 'acfd5b5e_nohash_1.wav', 'e4be0cf6_nohash_2.wav', '18f8afd5_nohash_3.wav', '85c60942_nohash_0.wav', 'b91b718c_nohash_0.wav', '131e738d_nohash_1.wav', 'c9b5ff26_nohash_4.wav', '95fd5a0f_nohash_1.wav', 'fd5ccd39_nohash_1.wav', '893705bb_nohash_3.wav', '1b18600d_nohash_0.wav', '3b195250_nohash_0.wav', '322d17d3_nohash_0.wav', 'b91b718c_nohash_1.wav', '82951cf0_nohash_0.wav', '29dce108_nohash_2.wav', '312b96ec_nohash_0.wav', '3c4aa5ef_nohash_2.wav', 'ca4912b6_nohash_4.wav', '3ce4910e_nohash_0.wav', 'fc3ba625_nohash_4.wav', 'bbf38549_nohash_4.wav', '676f8138_nohash_2.wav', 'c4e00ee9_nohash_1.wav', '5f9cd2eb_nohash_5.wav', '3108acca_nohash_0.wav', 'bbf38549_nohash_2.wav', 'cc8b3228_nohash_3.wav', '6969e51a_nohash_0.wav', '211b928a_nohash_3.wav', 'f68160c0_nohash_1.wav', '856eb138_nohash_2.wav', 'ec9b830b_nohash_0.wav', 'c50f55b8_nohash_0.wav', '821b64cc_nohash_4.wav', 'a2cc5444_nohash_0.wav', '6bf5baf3_nohash_0.wav', 'f0522ff4_nohash_3.wav', 'a293e285_nohash_0.wav', '95fd5a0f_nohash_0.wav', '31db232b_nohash_1.wav', '067f61e2_nohash_4.wav', '94d370bf_nohash_3.wav', 'ef3367d9_nohash_1.wav', '3a69f765_nohash_2.wav', '90735d8b_nohash_0.wav', 'ec989d6d_nohash_3.wav', '39833acb_nohash_2.wav', '333d7ddb_nohash_3.wav', 'c50f55b8_nohash_19.wav', '29229c21_nohash_3.wav', 'b44007bc_nohash_0.wav', 'fd5ccd39_nohash_4.wav', '5a98d407_nohash_1.wav', '7464b22e_nohash_0.wav', '050170cb_nohash_3.wav', '513aeddf_nohash_3.wav', '3bb68054_nohash_3.wav', 'a73be046_nohash_1.wav', '30276d03_nohash_2.wav', '773e26f7_nohash_3.wav', '0f46028a_nohash_0.wav', 'b4ea0d9a_nohash_1.wav', '91b03183_nohash_1.wav', 'd0fb9ff4_nohash_0.wav', '2356b88d_nohash_0.wav', '7213ed54_nohash_2.wav', 'cb72dfb6_nohash_1.wav', 'ff2b842e_nohash_3.wav', '773e26f7_nohash_0.wav', '616420be_nohash_3.wav', '645ed69d_nohash_0.wav', '0a2b400e_nohash_4.wav', '1c84a139_nohash_0.wav', 'f30285c8_nohash_3.wav', '333d7ddb_nohash_1.wav', 'bdd22e4d_nohash_3.wav', '3291330e_nohash_0.wav', '676f8138_nohash_4.wav', 'acfd5b5e_nohash_4.wav', '87d5e978_nohash_3.wav', '54ad8f22_nohash_2.wav', '513aeddf_nohash_0.wav', 'c50f55b8_nohash_8.wav', '435695e3_nohash_3.wav', '7a49163e_nohash_0.wav', 'cdee383b_nohash_4.wav', '3a929277_nohash_3.wav', 'a045368c_nohash_3.wav', '5f01c798_nohash_0.wav', '1e02ffc5_nohash_0.wav', '333d7ddb_nohash_4.wav', 'ce0cb033_nohash_3.wav', '2f0ce4d9_nohash_2.wav', '4d763ca4_nohash_0.wav', '773e26f7_nohash_2.wav', '15dd287d_nohash_0.wav', '4c6167ca_nohash_1.wav', 'f0659908_nohash_1.wav', 'fd9c7413_nohash_0.wav', 'b308773d_nohash_3.wav', 'bd76a7fd_nohash_6.wav', '472b8045_nohash_1.wav', '131e738d_nohash_0.wav', '51c5601d_nohash_2.wav', '322d17d3_nohash_1.wav', 'bb05582b_nohash_4.wav', '0d85a428_nohash_0.wav', 'c7dc7278_nohash_2.wav', '8e523821_nohash_0.wav', '7fb8d703_nohash_3.wav', '7e7ca854_nohash_1.wav', '40738a2d_nohash_1.wav', '837a0f64_nohash_2.wav', '195c120a_nohash_2.wav', '31f01a8d_nohash_2.wav', 'de3fe344_nohash_1.wav', '63ae15e4_nohash_0.wav', '2748cce7_nohash_0.wav', '90e72357_nohash_1.wav', '3a53b856_nohash_1.wav', 'fc3ba625_nohash_3.wav', 'fbb2f6cc_nohash_1.wav', '1f3e4139_nohash_0.wav', '95fd5a0f_nohash_4.wav', 'ce0cb033_nohash_0.wav', '332d33b1_nohash_1.wav', 'f01a0d63_nohash_0.wav', '5f9cd2eb_nohash_1.wav', '5769c5ab_nohash_4.wav', '890cc926_nohash_0.wav', '7e7ca854_nohash_3.wav', 'c50f55b8_nohash_15.wav', '2fcb6397_nohash_0.wav', '2b5e346d_nohash_0.wav', 'f0659908_nohash_4.wav', '9151f184_nohash_2.wav', 'a6f2fd71_nohash_0.wav', '845f8553_nohash_0.wav', 'e7bcee8a_nohash_0.wav', 'f2f0d244_nohash_1.wav', 'a7216980_nohash_2.wav', '3f45a0cf_nohash_1.wav', '3ce4910e_nohash_2.wav', '1496195a_nohash_0.wav', '0585b66d_nohash_1.wav', '80768fa5_nohash_0.wav', '3d794813_nohash_2.wav', 'a77fbcfd_nohash_4.wav', 'b528edb3_nohash_4.wav', 'f30285c8_nohash_2.wav', '57152045_nohash_2.wav', '14c7b073_nohash_0.wav', '2a1f4853_nohash_1.wav', '3102f006_nohash_2.wav', '06f6c194_nohash_2.wav', '62ccd358_nohash_1.wav', '42f81601_nohash_1.wav', '18f8afd5_nohash_1.wav', '2aca1e72_nohash_6.wav', '57152045_nohash_0.wav', '017c4098_nohash_2.wav', '85851131_nohash_2.wav', '1474273a_nohash_0.wav', 'e6327279_nohash_2.wav', 'e71a9381_nohash_0.wav', '70880cc6_nohash_1.wav', 'bc999754_nohash_0.wav', 'b5cf6ea8_nohash_9.wav', '3b3d2f59_nohash_2.wav', '5769c5ab_nohash_1.wav', 'e4be0cf6_nohash_4.wav', 'f8ba7c0e_nohash_3.wav', 'a55105d0_nohash_4.wav', '559bc36a_nohash_2.wav', '837a0f64_nohash_1.wav', 'd21fd169_nohash_3.wav', '1ed0b13d_nohash_4.wav', '7f581e94_nohash_0.wav', '94d370bf_nohash_0.wav', 'b5cf6ea8_nohash_4.wav', '70b0ccf4_nohash_0.wav', '0ea9c8ce_nohash_1.wav', 'da040491_nohash_1.wav', '645ed69d_nohash_1.wav', '0ea9c8ce_nohash_2.wav', '4e6902d0_nohash_0.wav', 'f798ac78_nohash_1.wav', 'f2e9b610_nohash_4.wav', '821b64cc_nohash_0.wav', '856eb138_nohash_0.wav', 'c50f55b8_nohash_3.wav', '2927c601_nohash_1.wav', 'fbb56351_nohash_1.wav', 'e4be0cf6_nohash_3.wav', 'ef3367d9_nohash_2.wav', 'b69fe0e2_nohash_0.wav', '31f01a8d_nohash_1.wav', 'f2e9b610_nohash_2.wav', '779de043_nohash_0.wav', '80be36a2_nohash_0.wav', '88d009d2_nohash_0.wav', '779de043_nohash_4.wav', '5ebc1cda_nohash_6.wav', 'bde0f20a_nohash_2.wav', '27c24504_nohash_2.wav', 'f035e2ea_nohash_4.wav', '2fee065a_nohash_0.wav', '13dce503_nohash_2.wav', 'ac9dee0e_nohash_1.wav', 'b414c653_nohash_0.wav', '54aecbd5_nohash_2.wav', '042a8dde_nohash_2.wav', '211b928a_nohash_0.wav', 'ef3367d9_nohash_5.wav', '7a49163e_nohash_1.wav', 'd264f7b6_nohash_2.wav', 'f798ac78_nohash_0.wav', '3a69f765_nohash_4.wav', '171edea9_nohash_4.wav', '050170cb_nohash_4.wav', '3b4f8f24_nohash_1.wav', '2fcb6397_nohash_1.wav', 'e3e0f145_nohash_0.wav', 'cb62dbf1_nohash_0.wav', '113b3fbc_nohash_4.wav', '72242187_nohash_0.wav', '55feffd5_nohash_0.wav', '8dc18a75_nohash_4.wav', 'bcf614a2_nohash_2.wav', 'c41d9052_nohash_0.wav', '893705bb_nohash_0.wav', '616420be_nohash_4.wav', '6565a81d_nohash_1.wav', '2aca1e72_nohash_10.wav', 'a1e71565_nohash_2.wav', '61e2f74f_nohash_1.wav', '4fd1443e_nohash_1.wav', 'e9abfe31_nohash_0.wav', '2fee065a_nohash_1.wav', 'c4e00ee9_nohash_2.wav', 'ffea4a57_nohash_0.wav', 'f2e9b610_nohash_3.wav', 'bd76a7fd_nohash_5.wav', 'c0e3ff37_nohash_1.wav', '0cb74144_nohash_0.wav', 'bde0f20a_nohash_1.wav', 'b5cf6ea8_nohash_8.wav', 'ceef6d96_nohash_3.wav', '9b8a7439_nohash_2.wav', '7d6b4b10_nohash_2.wav', 'd21fd169_nohash_2.wav', 'e3e0f145_nohash_3.wav', '9fac5701_nohash_4.wav', '2f0ce4d9_nohash_1.wav', '5cf1ecce_nohash_2.wav', '890cc926_nohash_1.wav', '9fa86a74_nohash_0.wav', '90e72357_nohash_0.wav', '62f05757_nohash_1.wav', '8769c34c_nohash_1.wav', '0cb74144_nohash_3.wav', 'b2ae3928_nohash_0.wav', '878befa7_nohash_1.wav', 'de89e2ca_nohash_2.wav', '81332c92_nohash_1.wav', 'a77fbcfd_nohash_2.wav', '513aeddf_nohash_1.wav', '7ce8df21_nohash_0.wav', '45692b02_nohash_0.wav', 'c9b5ff26_nohash_3.wav', 'b308773d_nohash_0.wav', 'ca4912b6_nohash_2.wav', 'bcf614a2_nohash_1.wav', 'a489191a_nohash_1.wav', '0f46028a_nohash_1.wav', 'eeaf97c3_nohash_3.wav', 'e71a9381_nohash_2.wav', '9b02d503_nohash_3.wav', 'bb6d4301_nohash_0.wav', '9fac5701_nohash_1.wav', 'b089169d_nohash_0.wav', 'cfbedff9_nohash_0.wav', 'e9abfe31_nohash_2.wav', 'fbb2f6cc_nohash_3.wav', 'cdee383b_nohash_2.wav', '81332c92_nohash_2.wav', '1acc97de_nohash_0.wav', '2e75d37a_nohash_2.wav', 'ef3367d9_nohash_7.wav', '3b3d2f59_nohash_5.wav', '1474273a_nohash_1.wav', 'a045368c_nohash_1.wav', '0cb74144_nohash_2.wav', 'cb62dbf1_nohash_3.wav', '833d9f56_nohash_0.wav', 'bd76a7fd_nohash_2.wav', '833d9f56_nohash_2.wav', 'a2d61879_nohash_0.wav', 'ccca5655_nohash_4.wav', '95fd5a0f_nohash_5.wav', '63f7a489_nohash_2.wav', 'a7216980_nohash_3.wav', '02ade946_nohash_1.wav', 'b29f8b23_nohash_0.wav', 'fbb56351_nohash_3.wav', 'e9abfe31_nohash_3.wav', '4e6902d0_nohash_1.wav', '8f447c3e_nohash_0.wav', '96d8bb6f_nohash_1.wav', 'a77fbcfd_nohash_1.wav', 'a04817c2_nohash_2.wav', 'a16013b7_nohash_3.wav', 'c0e3ff37_nohash_0.wav', 'cc4f9250_nohash_4.wav', 'de89e2ca_nohash_3.wav', '0585b66d_nohash_3.wav', '6969e51a_nohash_2.wav', 'aa80f517_nohash_2.wav', 'bb05582b_nohash_0.wav', '1b42b551_nohash_0.wav', '27c24504_nohash_0.wav', 'f798ac78_nohash_2.wav', 'f30285c8_nohash_4.wav', '617aeb6c_nohash_3.wav', '87d5e978_nohash_1.wav', 'fa52ddf6_nohash_4.wav', '9b8a7439_nohash_4.wav', '51f7a034_nohash_0.wav', '42f81601_nohash_4.wav', 'd070ea86_nohash_2.wav', '64e48f55_nohash_1.wav', '2a1f4853_nohash_0.wav', '0e6e36c9_nohash_4.wav', 'b44007bc_nohash_1.wav', '87d5e978_nohash_2.wav', '508e30ee_nohash_4.wav', 'a1cf7fd8_nohash_1.wav', '73f20b00_nohash_4.wav', 'db24628d_nohash_1.wav', '1dc86f91_nohash_2.wav', 'ef77b778_nohash_2.wav', '9a76f8c3_nohash_1.wav', 'f2e9b610_nohash_1.wav', 'bbf38549_nohash_3.wav', 'e9bc5cc2_nohash_2.wav', '067f61e2_nohash_0.wav', '131e738d_nohash_2.wav', 'cc8b3228_nohash_2.wav', 'c50f55b8_nohash_17.wav', '1e9e6bdd_nohash_3.wav', 'a2cc5444_nohash_1.wav', '5170b77f_nohash_2.wav', 'cc8b3228_nohash_1.wav', '617aeb6c_nohash_4.wav', '7fb8d703_nohash_1.wav', 'ee1d8d49_nohash_0.wav', 'f2e59fea_nohash_4.wav', '66e8a4ec_nohash_0.wav', 'c50f55b8_nohash_4.wav', 'a6f2fd71_nohash_2.wav', 'be0f2293_nohash_0.wav', '9151f184_nohash_0.wav', '0585b66d_nohash_4.wav', '6aa8def4_nohash_2.wav', 'd962e5ac_nohash_4.wav', 'a55105d0_nohash_0.wav', '6124b431_nohash_1.wav', 'b76f6088_nohash_1.wav', 'a9ca1818_nohash_2.wav', '833d9f56_nohash_3.wav', '7d6b4b10_nohash_0.wav', 'f01a0d63_nohash_2.wav', '61e2f74f_nohash_3.wav', 'd5b963aa_nohash_1.wav', '4340d369_nohash_0.wav', 'ed032775_nohash_2.wav', '7f208e83_nohash_1.wav', '0b7ee1a0_nohash_0.wav', 'af54ec46_nohash_0.wav', 'ec989d6d_nohash_4.wav', '0a396ff2_nohash_0.wav', '2aca1e72_nohash_8.wav', '54aecbd5_nohash_0.wav', '24a3e589_nohash_0.wav', '03401e93_nohash_0.wav', 'ee1d8d49_nohash_2.wav', '29229c21_nohash_0.wav', '234d6a48_nohash_3.wav', 'bcf614a2_nohash_3.wav', 'c50f55b8_nohash_9.wav', '6124b431_nohash_0.wav', '87070229_nohash_1.wav', '8dc18a75_nohash_0.wav', '878befa7_nohash_3.wav', '236b6113_nohash_0.wav', 'fa52ddf6_nohash_1.wav', 'cdee383b_nohash_1.wav', '39833acb_nohash_3.wav', '5d4e3bb8_nohash_1.wav', '578d3efb_nohash_2.wav', '4fce7686_nohash_0.wav', 'ef77b778_nohash_4.wav', 'ef77b778_nohash_1.wav', '2e75d37a_nohash_1.wav', '5170b77f_nohash_4.wav', '51f7a034_nohash_4.wav', 'c5a1e46c_nohash_2.wav', '1b42b551_nohash_4.wav', '4c3cddb8_nohash_3.wav', '1589451d_nohash_0.wav', '0d6d7360_nohash_3.wav', 'bde0f20a_nohash_0.wav', '08ab231c_nohash_0.wav', 'f0659908_nohash_0.wav', '2005ca25_nohash_0.wav', 'c50f55b8_nohash_6.wav', 'f2e59fea_nohash_0.wav', 'd1526c4e_nohash_0.wav', 'b69002d4_nohash_3.wav', 'acfd5b5e_nohash_2.wav', '79b37d3a_nohash_0.wav', '23add12a_nohash_1.wav', 'ab9b93e4_nohash_1.wav', '61ab8fbc_nohash_0.wav', 'd962e5ac_nohash_3.wav', '9448c397_nohash_4.wav', '8dc18a75_nohash_1.wav', 'f798ac78_nohash_4.wav', '8b25410a_nohash_4.wav', 'f250345e_nohash_0.wav', 'fb8c31a9_nohash_0.wav', '6bf5baf3_nohash_4.wav', '5a98d407_nohash_0.wav', 'cd671b5f_nohash_1.wav', '8ea6dec6_nohash_0.wav', '1970b130_nohash_0.wav', '0d90d8e1_nohash_1.wav', 'ca4912b6_nohash_3.wav', '8b25410a_nohash_0.wav', '94d370bf_nohash_1.wav', '7213ed54_nohash_4.wav', '017c4098_nohash_3.wav', '2e75d37a_nohash_0.wav', '3f45a0cf_nohash_0.wav', '0b7ee1a0_nohash_2.wav', '332d33b1_nohash_3.wav', '0f46028a_nohash_4.wav', '2b5e346d_nohash_1.wav', '856eb138_nohash_3.wav', '578d3efb_nohash_0.wav', '1e9e6bdd_nohash_4.wav', 'd1526c4e_nohash_1.wav', '0ea9c8ce_nohash_3.wav', '8769c34c_nohash_0.wav', 'f035e2ea_nohash_3.wav', '9151f184_nohash_4.wav', 'a929f9b9_nohash_3.wav', 'c2dccf38_nohash_0.wav', 'fa57ab3b_nohash_3.wav', '821b64cc_nohash_1.wav', 'e11fbc6e_nohash_0.wav', '61e2f74f_nohash_2.wav', 'ad526ada_nohash_0.wav', '211b928a_nohash_4.wav', 'bd76a7fd_nohash_0.wav', 'ab46af55_nohash_3.wav', 'c5a1e46c_nohash_0.wav', 'b0f5b16d_nohash_3.wav', 'a7216980_nohash_0.wav', 'a55105d0_nohash_3.wav', '578d3efb_nohash_3.wav', 'bfd26d6b_nohash_2.wav', 'e4be0cf6_nohash_1.wav', 'f01a0d63_nohash_3.wav', '4fd1443e_nohash_4.wav', 'cb62dbf1_nohash_4.wav', '0a2b400e_nohash_3.wav', 'af790082_nohash_1.wav', '893705bb_nohash_2.wav', 'ceef6d96_nohash_1.wav', 'f5626af6_nohash_3.wav', '616420be_nohash_2.wav', 'cb72dfb6_nohash_3.wav', 'a6f2fd71_nohash_4.wav', '7622d95b_nohash_2.wav', 'ace072ba_nohash_3.wav', 'a7acbbeb_nohash_1.wav', 'bbc30633_nohash_2.wav', '322d17d3_nohash_3.wav', '042a8dde_nohash_3.wav', '64a80906_nohash_1.wav', 'de3fe344_nohash_0.wav', '3d794813_nohash_0.wav', 'b2ae3928_nohash_1.wav', 'd4dddb92_nohash_1.wav', 'ccca5655_nohash_1.wav', '42398aab_nohash_0.wav', '1b42b551_nohash_1.wav', 'e2633cf5_nohash_0.wav', '0f7266cf_nohash_1.wav', 'fd9c7413_nohash_1.wav', '5c43ac9f_nohash_0.wav', 'cc4f9250_nohash_3.wav', '674ca5ea_nohash_2.wav', '42f81601_nohash_3.wav', 'b528edb3_nohash_1.wav', '29229c21_nohash_1.wav', 'bbf38549_nohash_0.wav', '72e382bd_nohash_3.wav', '54ad8f22_nohash_3.wav', 'a9ca1818_nohash_3.wav', 'ab46af55_nohash_1.wav', '4e61bf96_nohash_0.wav', 'f30285c8_nohash_0.wav', 'c9b5ff26_nohash_0.wav', 'a7acbbeb_nohash_2.wav', '1a994c9f_nohash_3.wav', '1589451d_nohash_1.wav', '879a2b38_nohash_0.wav', '0f46028a_nohash_2.wav', 'a05a90c1_nohash_3.wav', '525eaa62_nohash_1.wav', '2aca1e72_nohash_1.wav', '24a3e589_nohash_2.wav', 'f01a0d63_nohash_4.wav', 'bd76a7fd_nohash_1.wav', 'c50f55b8_nohash_5.wav', 'f9643d42_nohash_3.wav', 'c50f55b8_nohash_1.wav', '2927c601_nohash_2.wav', '3a69f765_nohash_0.wav', '81332c92_nohash_0.wav', 'b69002d4_nohash_1.wav', '6379c6a2_nohash_0.wav', '3d86b69a_nohash_0.wav', '6565a81d_nohash_3.wav', 'd21fd169_nohash_4.wav', 'ff4ed4f3_nohash_3.wav', 'f2e9b610_nohash_0.wav', 'fbb56351_nohash_4.wav', 'cc4f9250_nohash_0.wav', '4e6902d0_nohash_4.wav', '779de043_nohash_2.wav', 'fa57ab3b_nohash_4.wav', 'da040491_nohash_2.wav', 'bfd26d6b_nohash_0.wav', 'a929f9b9_nohash_2.wav', '3bb68054_nohash_1.wav', '31f01a8d_nohash_0.wav', 'd9aa8c90_nohash_3.wav', 'ebdd0f59_nohash_1.wav', '8e523821_nohash_1.wav', 'a6f2fd71_nohash_1.wav', '617aeb6c_nohash_0.wav', '1c84a139_nohash_2.wav', '61ab8fbc_nohash_2.wav', 'ab46af55_nohash_4.wav', '06f6c194_nohash_0.wav', 'ac9dee0e_nohash_0.wav', '3108acca_nohash_3.wav', 'ef77b778_nohash_0.wav', '9f93e408_nohash_1.wav', '9f93e408_nohash_0.wav', '0e6e36c9_nohash_1.wav', 'f9643d42_nohash_4.wav', '9307154f_nohash_0.wav', '6124b431_nohash_2.wav', '39833acb_nohash_0.wav', '18e910f4_nohash_2.wav', '3a929277_nohash_0.wav', '74241b28_nohash_3.wav', '2fcb6397_nohash_2.wav', '64df20d8_nohash_1.wav', '64e48f55_nohash_2.wav', '1e02ffc5_nohash_1.wav', '1c76f5f3_nohash_0.wav', '1acc97de_nohash_2.wav', 'b308773d_nohash_1.wav', 'e882abb2_nohash_1.wav', 'ec9b830b_nohash_1.wav', 'a04817c2_nohash_3.wav', 'a7acbbeb_nohash_0.wav', '30060aba_nohash_1.wav', 'ddedba85_nohash_2.wav', '879a2b38_nohash_1.wav', '6bf5baf3_nohash_3.wav', 'bbc30633_nohash_1.wav', 'c2657ba5_nohash_0.wav', 'c2dccf38_nohash_2.wav', '74241b28_nohash_1.wav', '92521ccc_nohash_0.wav', '8e080ece_nohash_0.wav', 'ec989d6d_nohash_0.wav', '98ea0818_nohash_1.wav', 'c351e611_nohash_4.wav', 'd21fd169_nohash_0.wav', 'beb458a4_nohash_4.wav', '9448c397_nohash_3.wav', '8fe67225_nohash_1.wav', 'ff0e27c3_nohash_1.wav', 'e6327279_nohash_3.wav', '0d90d8e1_nohash_0.wav', '87d5e978_nohash_0.wav', 'b4ea0d9a_nohash_3.wav', '978240e1_nohash_4.wav', '0d6d7360_nohash_2.wav', 'ca4912b6_nohash_1.wav', '2aca1e72_nohash_7.wav', '9b02d503_nohash_0.wav', 'a9ca1818_nohash_1.wav', '9be15e93_nohash_3.wav', '7e7ca854_nohash_4.wav', 'b76f6088_nohash_0.wav', '226537ab_nohash_1.wav', '9a76f8c3_nohash_3.wav', '85ac0c1b_nohash_0.wav', '4c3cddb8_nohash_0.wav', '256c0a05_nohash_2.wav', 'da93deb7_nohash_0.wav', 'de89e2ca_nohash_0.wav', 'd1dd03ed_nohash_1.wav', 'f822b9bf_nohash_0.wav', 'ee1d8d49_nohash_3.wav', '235b444f_nohash_2.wav', '18e910f4_nohash_0.wav', '8dc18a75_nohash_2.wav', '45692b02_nohash_2.wav', 'eeaf97c3_nohash_1.wav', '542f38a2_nohash_0.wav', '067f61e2_nohash_1.wav', 'bde0f20a_nohash_4.wav', '8769c34c_nohash_3.wav', '72e382bd_nohash_1.wav', '08ab231c_nohash_4.wav', 'fd5ccd39_nohash_3.wav', '676f8138_nohash_3.wav', 'a04817c2_nohash_0.wav', 'a7216980_nohash_1.wav', '878befa7_nohash_0.wav', 'ccca5655_nohash_0.wav', '63f7a489_nohash_3.wav', 'd1dd03ed_nohash_2.wav', '85851131_nohash_0.wav', 'f798ac78_nohash_3.wav', '0585b66d_nohash_0.wav', 'ee23b031_nohash_0.wav', 'a05a90c1_nohash_1.wav', '5f5eef60_nohash_3.wav', '5769c5ab_nohash_3.wav', '3c4aa5ef_nohash_1.wav', '5a5721f8_nohash_1.wav', 'a1e71565_nohash_3.wav', 'ff2b842e_nohash_1.wav', '5ebc1cda_nohash_0.wav', 'fa57ab3b_nohash_1.wav', '8769c34c_nohash_2.wav', '29dce108_nohash_3.wav', 'd4dddb92_nohash_3.wav', '29229c21_nohash_2.wav', '9b02d503_nohash_1.wav', 'db24628d_nohash_4.wav', 'f9643d42_nohash_1.wav', '87d5e978_nohash_4.wav', 'b2ae3928_nohash_2.wav', 'da040491_nohash_3.wav', '51f7a034_nohash_3.wav', '51c5601d_nohash_0.wav', '51c5601d_nohash_1.wav', 'a9ca1818_nohash_4.wav', '6ef407da_nohash_4.wav', '7d6b4b10_nohash_4.wav', '54aecbd5_nohash_3.wav', '3cc595de_nohash_1.wav', '88e730cd_nohash_0.wav', '7c83c5f6_nohash_0.wav', 'd394ef8e_nohash_2.wav', '5170b77f_nohash_3.wav', '18f8afd5_nohash_0.wav', 'd962e5ac_nohash_0.wav', '6124b431_nohash_3.wav', 'fd5ccd39_nohash_0.wav', '435695e3_nohash_1.wav', '3cc595de_nohash_3.wav', '1a73dcd1_nohash_0.wav', '1e9e6bdd_nohash_1.wav', '189cbabe_nohash_0.wav', 'e49428d9_nohash_0.wav', '6ef407da_nohash_1.wav', '3cc595de_nohash_0.wav', 'bd76a7fd_nohash_3.wav', '821b64cc_nohash_3.wav', '8e523821_nohash_2.wav', '4e99c1b7_nohash_0.wav', '674ca5ea_nohash_3.wav', 'ceef6d96_nohash_4.wav', '559bc36a_nohash_1.wav', 'b528edb3_nohash_0.wav', '13dce503_nohash_1.wav', '017c4098_nohash_4.wav', '79903546_nohash_1.wav', '513aeddf_nohash_2.wav', 'bb05582b_nohash_3.wav', 'd9aa8c90_nohash_0.wav', 'f736ab63_nohash_4.wav', 'b0f5b16d_nohash_0.wav', '72242187_nohash_1.wav', '1e02ffc5_nohash_2.wav', 'cc3b5b62_nohash_3.wav', 'd5b963aa_nohash_0.wav', 'ace072ba_nohash_0.wav', '679463fc_nohash_1.wav', '5170b77f_nohash_0.wav', '18f8afd5_nohash_4.wav', 'f5626af6_nohash_1.wav', 'ace072ba_nohash_2.wav', 'd3d8fcd0_nohash_1.wav', '3b3d2f59_nohash_1.wav', '679463fc_nohash_3.wav', 'b414c653_nohash_3.wav', 'eda072b5_nohash_0.wav', 'c50f55b8_nohash_7.wav', 'bfd26d6b_nohash_1.wav', '779de043_nohash_3.wav', '542f38a2_nohash_1.wav', 'bcf614a2_nohash_0.wav', '5bf1f1cb_nohash_0.wav', 'a4383927_nohash_0.wav', '85851131_nohash_1.wav', 'beb458a4_nohash_2.wav', '5f5eef60_nohash_2.wav', 'a1e71565_nohash_0.wav', '0e6e36c9_nohash_0.wav', 'f2898d06_nohash_1.wav', 'e882abb2_nohash_0.wav', 'a55105d0_nohash_1.wav', 'f68160c0_nohash_4.wav', 'bdd22e4d_nohash_0.wav', '5087f68b_nohash_0.wav', 'cb62dbf1_nohash_1.wav', '0e6e36c9_nohash_3.wav', '95fd5a0f_nohash_2.wav', '4e6902d0_nohash_2.wav', '1acc97de_nohash_1.wav', '70880cc6_nohash_0.wav', '02ade946_nohash_2.wav', '91ffb786_nohash_1.wav', 'f1d8a638_nohash_1.wav', '7213ed54_nohash_0.wav', '893705bb_nohash_1.wav', '508e30ee_nohash_0.wav', '4c6944d6_nohash_4.wav', '89947bd7_nohash_0.wav', 'b0f5b16d_nohash_4.wav', 'fb7eb481_nohash_3.wav', '5ebc1cda_nohash_4.wav', '6565a81d_nohash_4.wav', '98ea0818_nohash_0.wav', '2fcb6397_nohash_4.wav', '3e6e5b0f_nohash_0.wav', '14c7b073_nohash_2.wav', 'f68160c0_nohash_2.wav', '8e523821_nohash_4.wav', 'b414c653_nohash_1.wav', '4c3cddb8_nohash_2.wav', '674ca5ea_nohash_0.wav', '1a994c9f_nohash_0.wav', 'cfbedff9_nohash_2.wav', 'c5a1e46c_nohash_3.wav', '61ab8fbc_nohash_4.wav', '13a93b33_nohash_0.wav', 'a56859ea_nohash_1.wav', '69a1a79f_nohash_0.wav', 'fa52ddf6_nohash_2.wav', '0585b66d_nohash_2.wav', 'a928cc5b_nohash_0.wav', 'b4ea0d9a_nohash_2.wav', '15dd287d_nohash_3.wav', 'a489191a_nohash_0.wav', '017c4098_nohash_0.wav', 'cc4f9250_nohash_1.wav', '24a3e589_nohash_1.wav', 'e3e0f145_nohash_1.wav', '1ed0b13d_nohash_1.wav', 'ebdd0f59_nohash_0.wav', 'b5cf6ea8_nohash_7.wav', 'ff2b842e_nohash_0.wav', 'f1eaff75_nohash_0.wav', 'af6fbbf5_nohash_1.wav', 'e49428d9_nohash_1.wav', '645ed69d_nohash_3.wav', '94d370bf_nohash_2.wav', '893705bb_nohash_8.wav', '14c7b073_nohash_3.wav', 'fa52ddf6_nohash_3.wav', '03401e93_nohash_1.wav', 'c50f55b8_nohash_16.wav', '3291330e_nohash_1.wav', '42f81601_nohash_2.wav', '2aca1e72_nohash_11.wav', '96d8bb6f_nohash_0.wav', '0d82fd99_nohash_1.wav', '6640fdc0_nohash_0.wav', '3102f006_nohash_1.wav', '3102f006_nohash_0.wav', 'ec989d6d_nohash_2.wav', 'beb458a4_nohash_3.wav', 'f30285c8_nohash_1.wav', '1b18600d_nohash_1.wav', 'a489191a_nohash_2.wav', 'd070ea86_nohash_3.wav', '6fb3d5a7_nohash_4.wav', '3b4f8f24_nohash_3.wav', '1a0f9c63_nohash_0.wav', '63ae15e4_nohash_1.wav', 'aa80f517_nohash_1.wav', '234d6a48_nohash_2.wav', '6fb3d5a7_nohash_3.wav', '1acc97de_nohash_3.wav', '5a5721f8_nohash_2.wav', 'cc8b3228_nohash_0.wav', 'a05a90c1_nohash_4.wav', '08ab231c_nohash_1.wav', '365908bd_nohash_1.wav', 'd4dddb92_nohash_2.wav', 'a04817c2_nohash_1.wav', '1e9e6bdd_nohash_0.wav', '89947bd7_nohash_2.wav', 'ceef6d96_nohash_2.wav', 'eaa83485_nohash_1.wav', 'f2898d06_nohash_2.wav', 'd394ef8e_nohash_3.wav', 'a55105d0_nohash_2.wav', '3b4f8f24_nohash_2.wav', '57152045_nohash_4.wav', 'ab46af55_nohash_2.wav', '2f0ce4d9_nohash_0.wav', '32ad5b65_nohash_0.wav', '195c120a_nohash_0.wav', 'b528edb3_nohash_2.wav', '0d82fd99_nohash_3.wav', '5769c5ab_nohash_0.wav', '1c84a139_nohash_4.wav', '460209ac_nohash_1.wav', 'f603e3f9_nohash_0.wav', '472b8045_nohash_4.wav', '0ea9c8ce_nohash_4.wav', 'beb458a4_nohash_1.wav', '460209ac_nohash_0.wav', 'd394ef8e_nohash_1.wav', 'e882abb2_nohash_3.wav', '8fe67225_nohash_3.wav', '1ed0b13d_nohash_3.wav', '9f93e408_nohash_2.wav', '5f9cd2eb_nohash_2.wav', 'f8ba7c0e_nohash_2.wav', 'a7200079_nohash_4.wav', 'fbb2f6cc_nohash_2.wav', 'bbc30633_nohash_0.wav', 'f568162b_nohash_1.wav', '6ef407da_nohash_2.wav', '9b8a7439_nohash_3.wav', '51f7a034_nohash_2.wav', 'bdd22e4d_nohash_2.wav', '2aca1e72_nohash_4.wav', 'd9aa8c90_nohash_1.wav', '256c0a05_nohash_0.wav', '050170cb_nohash_2.wav', '54aecbd5_nohash_1.wav', 'e71a9381_nohash_1.wav', '728be664_nohash_0.wav', '86f3558f_nohash_0.wav', '0d6d7360_nohash_0.wav', 'bdd22e4d_nohash_4.wav', '3d794813_nohash_3.wav', 'c50f55b8_nohash_11.wav', '578d3efb_nohash_4.wav', 'fb8c31a9_nohash_3.wav', '3589bc72_nohash_0.wav', 'a045368c_nohash_0.wav', 'd21fd169_nohash_1.wav', 'f0522ff4_nohash_0.wav', '2fee065a_nohash_4.wav', '131e738d_nohash_3.wav', 'cfbedff9_nohash_1.wav', 'b8874962_nohash_2.wav', '676f8138_nohash_1.wav', '878befa7_nohash_2.wav', 'fa57ab3b_nohash_2.wav', 'f9643d42_nohash_2.wav', 'b8874962_nohash_4.wav', 'ac9dee0e_nohash_3.wav', '845f8553_nohash_2.wav', 'b5eb4f9b_nohash_0.wav', '4c6944d6_nohash_3.wav', 'cd671b5f_nohash_4.wav', '6fb3d5a7_nohash_0.wav', 'e0c782d5_nohash_2.wav', '8d5e1dc0_nohash_0.wav', 'af6fbbf5_nohash_2.wav', '679463fc_nohash_0.wav', '18d84076_nohash_0.wav', '3c4aa5ef_nohash_3.wav', 'b414c653_nohash_2.wav', '256c0a05_nohash_3.wav', '18ffa72d_nohash_0.wav', '333d7ddb_nohash_0.wav', 'f2898d06_nohash_3.wav', '42398aab_nohash_1.wav', 'ab9b93e4_nohash_2.wav', 'fb7008b0_nohash_1.wav', 'acfd5b5e_nohash_0.wav', '0a5636ca_nohash_0.wav', '2fee065a_nohash_3.wav', '0d90d8e1_nohash_2.wav', '87070229_nohash_2.wav', 'f68160c0_nohash_3.wav', '5170b77f_nohash_1.wav', 'ae5578f4_nohash_0.wav', '5a5721f8_nohash_3.wav', 'cfbedff9_nohash_3.wav', '8dc18a75_nohash_3.wav', 'f035e2ea_nohash_5.wav', 'a16013b7_nohash_1.wav', 'af6fbbf5_nohash_0.wav', '9448c397_nohash_2.wav', '42a99aec_nohash_1.wav', '9b8a7439_nohash_1.wav', '32ad5b65_nohash_4.wav', '435695e3_nohash_0.wav', '72242187_nohash_3.wav', '1e02ffc5_nohash_3.wav', 'd962e5ac_nohash_1.wav', '0cb74144_nohash_1.wav', '14c7b073_nohash_1.wav', '7fb8d703_nohash_4.wav', '06f6c194_nohash_1.wav', 'a929f9b9_nohash_1.wav', '64e48f55_nohash_3.wav', '5cf1ecce_nohash_3.wav', 'a4383927_nohash_1.wav', 'ae32324a_nohash_0.wav', '25e95412_nohash_0.wav', 'f035e2ea_nohash_2.wav', 'b69fe0e2_nohash_3.wav', '3d9bbe2d_nohash_0.wav', '5f9cd2eb_nohash_0.wav', '18f8afd5_nohash_2.wav', '2748cce7_nohash_2.wav', '2fee065a_nohash_2.wav', '73f20b00_nohash_2.wav', '3589bc72_nohash_1.wav', 'e882abb2_nohash_2.wav', '211b928a_nohash_1.wav', '7c86c03e_nohash_1.wav', '525eaa62_nohash_2.wav', '1b627376_nohash_0.wav', 'f2e59fea_nohash_3.wav', 'd394ef8e_nohash_4.wav', 'c351e611_nohash_3.wav', 'e9bc5cc2_nohash_1.wav', 'bb05582b_nohash_2.wav', '525eaa62_nohash_0.wav', '7e7ca854_nohash_0.wav', 'c98bbbd3_nohash_2.wav', 'fb7eb481_nohash_4.wav', '967ad5ef_nohash_0.wav', '4cee0c60_nohash_0.wav', 'ec32860c_nohash_0.wav', 'a045368c_nohash_2.wav', '978240e1_nohash_0.wav', '1c84a139_nohash_1.wav', '189cbabe_nohash_4.wav', '3b3d2f59_nohash_0.wav', 'cc4f9250_nohash_2.wav', '14c7b073_nohash_4.wav', 'b308773d_nohash_2.wav', '893705bb_nohash_7.wav', '890cc926_nohash_4.wav', '5ebc1cda_nohash_3.wav', 'c50f55b8_nohash_10.wav', '32ad5b65_nohash_3.wav', '1dc86f91_nohash_4.wav', '3a3ee7ed_nohash_3.wav', '2a1f4853_nohash_4.wav', '74241b28_nohash_4.wav', 'ca4d5368_nohash_0.wav', 'f1d8a638_nohash_0.wav', 'ddedba85_nohash_0.wav', '1970b130_nohash_1.wav', '171edea9_nohash_1.wav', '0ba018fc_nohash_0.wav', '06f6c194_nohash_4.wav', 'ff2b842e_nohash_2.wav', '893705bb_nohash_6.wav', 'f8ba7c0e_nohash_0.wav', 'a045368c_nohash_4.wav', '322d17d3_nohash_2.wav', 'ec989d6d_nohash_1.wav', '32ad5b65_nohash_1.wav', '96d8bb6f_nohash_3.wav', 'aa80f517_nohash_0.wav', 'd3831f6a_nohash_3.wav', '2748cce7_nohash_1.wav', 'cc3b5b62_nohash_0.wav', 'b76f6088_nohash_3.wav', '0a2b400e_nohash_1.wav', 'a489191a_nohash_3.wav', 'f736ab63_nohash_1.wav', 'f2898d06_nohash_0.wav', '3a3ee7ed_nohash_2.wav', '7c83c5f6_nohash_3.wav', '256c0a05_nohash_4.wav', 'c2657ba5_nohash_1.wav', '96d8bb6f_nohash_4.wav', 'f0659908_nohash_3.wav', '728be664_nohash_1.wav', '89947bd7_nohash_1.wav', 'eeaf97c3_nohash_0.wav', '4d763ca4_nohash_1.wav', '5a5721f8_nohash_4.wav', '171edea9_nohash_3.wav', 'ff4ed4f3_nohash_0.wav', '85d2ac4b_nohash_1.wav', '0f46028a_nohash_3.wav', '0b7ee1a0_nohash_1.wav', 'dd664d92_nohash_0.wav', '9fa86a74_nohash_1.wav', '02ade946_nohash_3.wav', '0ea9c8ce_nohash_0.wav', '5ebc1cda_nohash_1.wav', '23da904f_nohash_2.wav', '3d794813_nohash_1.wav', '0c540988_nohash_0.wav', '3b195250_nohash_1.wav', 'c0cb43d6_nohash_1.wav', '3d86b69a_nohash_1.wav', '6565a81d_nohash_0.wav', 'bb6d4301_nohash_2.wav', '40738a2d_nohash_2.wav', 'da040491_nohash_0.wav', '7d6b4b10_nohash_1.wav', '9151f184_nohash_3.wav', 'f1d8a638_nohash_2.wav', '08ab231c_nohash_2.wav', '3a3ee7ed_nohash_1.wav', '3a3ee7ed_nohash_0.wav', '3291330e_nohash_4.wav', 'cc3b5b62_nohash_2.wav', '0d90d8e1_nohash_3.wav', 'c9b5ff26_nohash_1.wav', '171edea9_nohash_2.wav', '7e7ca854_nohash_2.wav', '435695e3_nohash_2.wav', '39b5fdab_nohash_0.wav', 'bdd22e4d_nohash_1.wav', '113b3fbc_nohash_0.wav', '20a0d54b_nohash_0.wav', '39833acb_nohash_1.wav', '460209ac_nohash_3.wav', 'fb7eb481_nohash_0.wav', '226537ab_nohash_3.wav', 'c50f55b8_nohash_21.wav', '3102f006_nohash_3.wav', '9f93e408_nohash_3.wav', 'bde0f20a_nohash_3.wav', '189cbabe_nohash_3.wav', '0ba018fc_nohash_2.wav', '62f05757_nohash_4.wav', '332d33b1_nohash_2.wav', '9448c397_nohash_1.wav', '050170cb_nohash_0.wav', '95fd5a0f_nohash_3.wav', 'eeaf97c3_nohash_2.wav', 'dae01802_nohash_3.wav', '0a2b400e_nohash_0.wav', 'f5341341_nohash_1.wav', '3659fc1c_nohash_0.wav', '7c83c5f6_nohash_1.wav', 'ca4d5368_nohash_1.wav', '7213ed54_nohash_3.wav', '3ce4910e_nohash_1.wav', '6c9a1ac2_nohash_0.wav', '69a1a79f_nohash_2.wav', 'b69002d4_nohash_0.wav', '64a80906_nohash_0.wav', '617aeb6c_nohash_1.wav', '7c83c5f6_nohash_2.wav', 'd3831f6a_nohash_1.wav', '113b3fbc_nohash_3.wav', '5f01c798_nohash_1.wav', '18e910f4_nohash_1.wav', '7c86c03e_nohash_0.wav', '2aca1e72_nohash_5.wav', '30f6e665_nohash_0.wav', '63f7a489_nohash_0.wav', 'ed032775_nohash_1.wav', 'b6573c88_nohash_0.wav', 'cb72dfb6_nohash_2.wav', 'f2e59fea_nohash_1.wav', '3cc595de_nohash_2.wav', '6640fdc0_nohash_1.wav', '0ba018fc_nohash_1.wav', 'a7216980_nohash_4.wav', 'ace072ba_nohash_1.wav', '3ce4910e_nohash_3.wav', '06f6c194_nohash_3.wav', 'c633a455_nohash_0.wav', 'a6f2fd71_nohash_3.wav', '3b195250_nohash_2.wav', 'ab9b93e4_nohash_0.wav', '508e30ee_nohash_3.wav', '113b3fbc_nohash_1.wav', 'acfd5b5e_nohash_3.wav', '1b42b551_nohash_3.wav', '0165e0e8_nohash_0.wav', 'b29f8b23_nohash_2.wav', 'f2898d06_nohash_4.wav', 'f9643d42_nohash_0.wav', '3d86b69a_nohash_2.wav', '30276d03_nohash_0.wav', 'ef3367d9_nohash_6.wav', '3d9bbe2d_nohash_4.wav', 'de3fe344_nohash_2.wav', '63f7a489_nohash_1.wav', '3589bc72_nohash_3.wav', 'd1dd03ed_nohash_4.wav', '0b7ee1a0_nohash_3.wav', 'd070ea86_nohash_0.wav', 'ac9dee0e_nohash_2.wav', 'fc3ba625_nohash_2.wav', 'd3831f6a_nohash_0.wav', '5cf1ecce_nohash_1.wav', 'ceef6d96_nohash_0.wav', 'af790082_nohash_0.wav', '62f05757_nohash_2.wav', '24cab2cb_nohash_1.wav', '3a69f765_nohash_1.wav', 'c91dbe66_nohash_0.wav', 'f822b9bf_nohash_4.wav', '7f9eb952_nohash_0.wav', '6bf5baf3_nohash_2.wav', 'c50f55b8_nohash_14.wav', '978240e1_nohash_3.wav', 'f5341341_nohash_2.wav', 'f2f0d244_nohash_2.wav', '79903546_nohash_0.wav', '833d9f56_nohash_1.wav', '6aa8def4_nohash_1.wav', 'ef77b778_nohash_3.wav', '5ebc1cda_nohash_5.wav', '7fb8d703_nohash_0.wav', '5f9cd2eb_nohash_4.wav', '57152045_nohash_1.wav', 'd9aa8c90_nohash_4.wav', 'eaa83485_nohash_3.wav', '3a69f765_nohash_3.wav', '845f8553_nohash_1.wav', 'f035e2ea_nohash_1.wav', 'c98bbbd3_nohash_1.wav', 'bb6d4301_nohash_4.wav', 'd0745d72_nohash_0.wav', '1dc86f91_nohash_3.wav', 'b29f8b23_nohash_3.wav', '189cbabe_nohash_1.wav', 'b5cf6ea8_nohash_2.wav', '23da904f_nohash_1.wav', '676f8138_nohash_0.wav', 'db24628d_nohash_3.wav', '617aeb6c_nohash_2.wav', '879a2b38_nohash_3.wav', '61e2f74f_nohash_0.wav', 'd394ef8e_nohash_0.wav', '893705bb_nohash_5.wav', 'fb8c31a9_nohash_2.wav', '879a2b38_nohash_2.wav', '2aca1e72_nohash_12.wav', 'e6327279_nohash_0.wav', '3d86b69a_nohash_3.wav', '256c0a05_nohash_1.wav', '23da904f_nohash_4.wav', 'f68160c0_nohash_0.wav', '856eb138_nohash_1.wav', 'e6327279_nohash_4.wav', 'db24628d_nohash_0.wav', 'ed032775_nohash_4.wav', '508e30ee_nohash_2.wav', '7d4beb11_nohash_0.wav', '40738a2d_nohash_0.wav', '3589bc72_nohash_2.wav', 'c7dc7278_nohash_1.wav', '262d7a03_nohash_0.wav', '2a1f4853_nohash_2.wav', '9bfd6a9d_nohash_0.wav', '61ab8fbc_nohash_1.wav', '1dc86f91_nohash_1.wav', '69a1a79f_nohash_3.wav', '2b5e346d_nohash_2.wav', 'ff2b842e_nohash_4.wav', '4cee0c60_nohash_2.wav', 'ad526ada_nohash_1.wav', '25e95412_nohash_3.wav', '81332c92_nohash_4.wav', '5f1253e9_nohash_0.wav', '3bb68054_nohash_2.wav', '4e99c1b7_nohash_1.wav', 'ff0e27c3_nohash_0.wav', '017c4098_nohash_1.wav', 'de89e2ca_nohash_4.wav', '6bf5baf3_nohash_1.wav', '81332c92_nohash_3.wav', 'bb6d4301_nohash_1.wav', '4fd1443e_nohash_0.wav', '9b02d503_nohash_2.wav', '6ef407da_nohash_0.wav', 'c678e0b3_nohash_0.wav', 'fbb56351_nohash_0.wav', '4e61bf96_nohash_1.wav', 'cd671b5f_nohash_3.wav', '3d9bbe2d_nohash_3.wav', '69a1a79f_nohash_1.wav', '189cbabe_nohash_2.wav', 'c351e611_nohash_1.wav', 'b0f5b16d_nohash_2.wav', '42a99aec_nohash_3.wav', '85851131_nohash_3.wav', 'ff4ed4f3_nohash_2.wav', '64e48f55_nohash_0.wav', 'ab46af55_nohash_0.wav', '1496195a_nohash_2.wav', 'b8874962_nohash_0.wav', '8fe67225_nohash_4.wav', 'cc3b5b62_nohash_1.wav', 'b308773d_nohash_4.wav', '29229c21_nohash_4.wav', '62ccd358_nohash_0.wav', '893705bb_nohash_4.wav', 'e11fbc6e_nohash_3.wav', '4c6944d6_nohash_2.wav', '042a8dde_nohash_1.wav', '5a5721f8_nohash_0.wav', 'c2dccf38_nohash_1.wav', '472b8045_nohash_3.wav', 'f2f0d244_nohash_3.wav', '0f7266cf_nohash_0.wav', '365908bd_nohash_0.wav', '890cc926_nohash_2.wav', '15dd287d_nohash_4.wav', 'de3fe344_nohash_4.wav', 'aa80f517_nohash_3.wav', '5f9cd2eb_nohash_3.wav', '52162b51_nohash_0.wav', '1ed0b13d_nohash_0.wav', '0ba018fc_nohash_3.wav', '3a3ee7ed_nohash_4.wav', '6aa8def4_nohash_3.wav', 'c50f55b8_nohash_13.wav', 'c50f55b8_nohash_18.wav', 'c9b5ff26_nohash_2.wav', 'e3e0f145_nohash_2.wav', 'f736ab63_nohash_0.wav', '57152045_nohash_5.wav', '339f2c5c_nohash_0.wav', '472b8045_nohash_0.wav', '5b32733e_nohash_0.wav', '3b4f8f24_nohash_0.wav', '4995d875_nohash_1.wav', '54ad8f22_nohash_0.wav', '13dce503_nohash_0.wav', '62f05757_nohash_3.wav', '18e910f4_nohash_3.wav', 'aa80f517_nohash_4.wav', '983577be_nohash_0.wav', 'cd671b5f_nohash_0.wav', 'c4e00ee9_nohash_0.wav', '72242187_nohash_4.wav', 'e4be0cf6_nohash_0.wav', 'b4ea0d9a_nohash_0.wav', 'b5cf6ea8_nohash_5.wav', '8b25410a_nohash_2.wav', 'f736ab63_nohash_3.wav', '7213ed54_nohash_1.wav', 'f8ba7c0e_nohash_4.wav', '25e95412_nohash_4.wav', '9fac5701_nohash_0.wav', 'fd5ccd39_nohash_2.wav', 'f2f0d244_nohash_0.wav', '3b4f8f24_nohash_4.wav', 'b5cf6ea8_nohash_0.wav', 'a928cc5b_nohash_1.wav', '8fe67225_nohash_2.wav', 'ce0cb033_nohash_1.wav', 'cb72dfb6_nohash_4.wav', '51c5601d_nohash_4.wav', 'c50f55b8_nohash_22.wav', '02ade946_nohash_4.wav', '91ffb786_nohash_0.wav', '1a0f9c63_nohash_1.wav', 'f822b9bf_nohash_1.wav', '5cf1ecce_nohash_0.wav', 'ef3367d9_nohash_3.wav', 'd3d8fcd0_nohash_0.wav', 'a929f9b9_nohash_4.wav', '64df20d8_nohash_2.wav', '2aca1e72_nohash_0.wav', '5ebc1cda_nohash_2.wav', '73f20b00_nohash_0.wav', '64df20d8_nohash_0.wav', 'a05a90c1_nohash_0.wav', '067f61e2_nohash_3.wav', '30060aba_nohash_0.wav', 'ed032775_nohash_3.wav', 'd5b963aa_nohash_4.wav', '31f01a8d_nohash_3.wav', '9a76f8c3_nohash_0.wav', 'b69fe0e2_nohash_4.wav', 'a7200079_nohash_1.wav', '4fce7686_nohash_1.wav', '6fb3d5a7_nohash_1.wav', 'e0c782d5_nohash_0.wav', '978240e1_nohash_1.wav', '24a3e589_nohash_3.wav', 'eeaf97c3_nohash_4.wav', '8b25410a_nohash_3.wav', 'b69fe0e2_nohash_2.wav', 'bfd26d6b_nohash_3.wav', 'd070ea86_nohash_1.wav', '4995d875_nohash_0.wav', 'c5a1e46c_nohash_1.wav', 'e71a9381_nohash_3.wav', '96d8bb6f_nohash_2.wav', '773e26f7_nohash_4.wav', 'c351e611_nohash_0.wav', '4fd1443e_nohash_3.wav', 'c7dc7278_nohash_3.wav', '4c6944d6_nohash_5.wav', '0e6e36c9_nohash_2.wav', '365908bd_nohash_3.wav', '235b444f_nohash_0.wav', '3a929277_nohash_2.wav', '4c6167ca_nohash_0.wav', 'd9aa8c90_nohash_2.wav', '5a98d407_nohash_3.wav', '72242187_nohash_2.wav', '9be15e93_nohash_2.wav', '9b8a7439_nohash_0.wav', '4fd1443e_nohash_2.wav', 'ddedba85_nohash_1.wav', '69a1a79f_nohash_4.wav', '7d6b4b10_nohash_3.wav', '4f558007_nohash_0.wav', '6fb3d5a7_nohash_2.wav', '32ad5b65_nohash_2.wav', '833d9f56_nohash_4.wav', 'ac9dee0e_nohash_4.wav', 'fb7eb481_nohash_2.wav', '262d7a03_nohash_1.wav', 'dae01802_nohash_0.wav', 'de89e2ca_nohash_1.wav', 'eaa83485_nohash_0.wav', 'eaa83485_nohash_2.wav', '0d82fd99_nohash_0.wav', 'd1dd03ed_nohash_0.wav', 'd3831f6a_nohash_2.wav', 'f0522ff4_nohash_1.wav', 'fa52ddf6_nohash_0.wav', 'de3fe344_nohash_3.wav', '845f8553_nohash_3.wav', '3108acca_nohash_2.wav', 'd5b963aa_nohash_3.wav', '171edea9_nohash_0.wav', 'd1dd03ed_nohash_3.wav', '890cc926_nohash_3.wav', 'b0f5b16d_nohash_1.wav', '773e26f7_nohash_1.wav', '4995d875_nohash_2.wav', '6aa8def4_nohash_0.wav', '74241b28_nohash_2.wav', '87070229_nohash_0.wav', 'f736ab63_nohash_2.wav', 'a77fbcfd_nohash_3.wav', '9151f184_nohash_1.wav', '73f20b00_nohash_3.wav', 'd5b963aa_nohash_2.wav', '226537ab_nohash_0.wav', '8f447c3e_nohash_1.wav', 'ace82a68_nohash_1.wav', 'c98bbbd3_nohash_0.wav', 'a2cc5444_nohash_3.wav', '0d82fd99_nohash_2.wav', '7c83c5f6_nohash_4.wav', '61ab8fbc_nohash_3.wav', '8b367d88_nohash_0.wav', '5f5eef60_nohash_1.wav', 'a05a90c1_nohash_2.wav', '1c84a139_nohash_3.wav', '29dce108_nohash_0.wav', 'b29f8b23_nohash_1.wav', '8fe67225_nohash_0.wav', '62f05757_nohash_0.wav', '72e382bd_nohash_4.wav', 'fc3ba625_nohash_0.wav', '578d3efb_nohash_1.wav', '821b64cc_nohash_2.wav', '19a1e5c7_nohash_0.wav', 'bd76a7fd_nohash_4.wav', '525eaa62_nohash_4.wav', '25e95412_nohash_1.wav', 'f035e2ea_nohash_0.wav', 'acb9db68_nohash_0.wav', 'fb8c31a9_nohash_1.wav', '5f5eef60_nohash_0.wav', '90e72357_nohash_2.wav', '08ab231c_nohash_3.wav', '645ed69d_nohash_4.wav', 'fb8c31a9_nohash_4.wav', '3b195250_nohash_4.wav', '779de043_nohash_1.wav', 'e0c782d5_nohash_1.wav', '1e02ffc5_nohash_4.wav', 'c351e611_nohash_2.wav', '333d7ddb_nohash_2.wav', '0d6d7360_nohash_1.wav', 'c50f55b8_nohash_20.wav', '050170cb_nohash_1.wav', 'a73be046_nohash_0.wav', '235b444f_nohash_1.wav', 'b4ea0d9a_nohash_4.wav', 'c53e1048_nohash_0.wav', '508e30ee_nohash_1.wav', '856eb138_nohash_4.wav', 'a04817c2_nohash_4.wav', 'ea0cf37f_nohash_0.wav', 'cdee383b_nohash_0.wav', '5a98d407_nohash_2.wav', '7622d95b_nohash_0.wav', '608473c9_nohash_1.wav', '2927c601_nohash_4.wav', '91b03183_nohash_2.wav', '645ed69d_nohash_2.wav', 'a16013b7_nohash_4.wav', '30276d03_nohash_1.wav', '51f7a034_nohash_1.wav', '2a1f4853_nohash_3.wav', 'bb05582b_nohash_1.wav', '3291330e_nohash_2.wav', '332d33b1_nohash_0.wav', 'd962e5ac_nohash_2.wav', 'b5cf6ea8_nohash_3.wav', '74241b28_nohash_0.wav', '6565a81d_nohash_2.wav', 'cdee383b_nohash_3.wav', '9be15e93_nohash_1.wav', '1e9e6bdd_nohash_2.wav', '3d9bbe2d_nohash_2.wav', '1496195a_nohash_3.wav', 'ace82a68_nohash_0.wav', 'e11fbc6e_nohash_1.wav', '3108acca_nohash_1.wav', 'a7200079_nohash_2.wav', '42f81601_nohash_0.wav', '2aca1e72_nohash_13.wav', '45692b02_nohash_1.wav', '25e95412_nohash_5.wav', 'e1acea44_nohash_0.wav', '85d2ac4b_nohash_0.wav', '63f7a489_nohash_4.wav', 'd264f7b6_nohash_1.wav', 'bbc30633_nohash_3.wav', 'b6573c88_nohash_1.wav', 'b8874962_nohash_3.wav', '72e382bd_nohash_2.wav', '2e75d37a_nohash_3.wav', 'ed032775_nohash_0.wav', 'c50f55b8_nohash_2.wav', '608473c9_nohash_0.wav', '25e95412_nohash_2.wav', 'b91b718c_nohash_3.wav', '2aca1e72_nohash_3.wav', '29dce108_nohash_1.wav', '27c24504_nohash_1.wav', '3a929277_nohash_1.wav', '9a76f8c3_nohash_2.wav', 'f01a0d63_nohash_1.wav', 'f0522ff4_nohash_2.wav', '31db232b_nohash_0.wav', '73f20b00_nohash_1.wav', '3a53b856_nohash_0.wav', '616420be_nohash_0.wav', 'ef3367d9_nohash_0.wav', '23da904f_nohash_3.wav', '91b03183_nohash_0.wav', 'fbb2f6cc_nohash_0.wav', 'a56859ea_nohash_0.wav', '23da904f_nohash_0.wav', 'a1e71565_nohash_1.wav', '3d794813_nohash_4.wav', 'fa57ab3b_nohash_0.wav', '616420be_nohash_1.wav', '1b42b551_nohash_2.wav', 'c7dc7278_nohash_0.wav', '98ea0818_nohash_2.wav', '1496195a_nohash_1.wav', '235b444f_nohash_3.wav', '0f7266cf_nohash_3.wav', '679463fc_nohash_2.wav', 'fbb56351_nohash_2.wav', '6aa8def4_nohash_4.wav', '674ca5ea_nohash_1.wav', '067f61e2_nohash_2.wav', 'a2cc5444_nohash_2.wav', 'a16013b7_nohash_2.wav', 'd264f7b6_nohash_0.wav', 'c0cb43d6_nohash_0.wav', '87070229_nohash_3.wav', 'cb72dfb6_nohash_0.wav', 'fb7eb481_nohash_1.wav', '98ea0818_nohash_4.wav', '3f45a0cf_nohash_2.wav', '8b25410a_nohash_1.wav', 'a77fbcfd_nohash_0.wav', '3b195250_nohash_3.wav', 'ccca5655_nohash_3.wav', 'bcf614a2_nohash_4.wav'], ['31d31fa0_nohash_0.wav', '499be02e_nohash_0.wav', '244cc3a5_nohash_0.wav', 'd486fb84_nohash_0.wav', '6a203e0e_nohash_1.wav', '9c24bc76_nohash_0.wav', 'ede2f4ee_nohash_0.wav', '1dc86f91_nohash_0.wav', 'ab5b211a_nohash_0.wav', '02ade946_nohash_0.wav', 'fc94edb0_nohash_1.wav', '989a2213_nohash_0.wav', '24b82192_nohash_0.wav', '88b7c5fa_nohash_0.wav', 'a8f45bdc_nohash_1.wav', 'dd086776_nohash_0.wav', '82e7204d_nohash_0.wav', '3bb68054_nohash_0.wav', '825f450d_nohash_1.wav', '93ec8b84_nohash_1.wav', '9190045a_nohash_0.wav', '72e382bd_nohash_0.wav', 'c7aaad67_nohash_0.wav', 'da76aa58_nohash_1.wav', '48463cbc_nohash_1.wav', '042ea76c_nohash_0.wav', '1c45ceb2_nohash_0.wav', '837a0f64_nohash_0.wav', 'c4500713_nohash_0.wav', 'a929f9b9_nohash_0.wav', 'cba7f985_nohash_0.wav', '981e2a16_nohash_1.wav', '9b027ecf_nohash_1.wav', 'a16013b7_nohash_0.wav', 'e9bc5cc2_nohash_0.wav', 'b1df80c0_nohash_1.wav', 'f9bdf10e_nohash_0.wav', 'ce7a8e92_nohash_0.wav', 'b8897f1c_nohash_1.wav', 'c37a72d3_nohash_0.wav', 'cd911ace_nohash_0.wav', '23add12a_nohash_0.wav', '951cac20_nohash_0.wav', '981e2a16_nohash_0.wav', '9a4d12fd_nohash_1.wav', '9448c397_nohash_0.wav', '1a6eca98_nohash_1.wav', '1ed557b9_nohash_0.wav', '7cbf645a_nohash_0.wav', '7d5f87c8_nohash_0.wav', '9b027ecf_nohash_0.wav', 'eb3f7d82_nohash_0.wav', 'f5e5e8b0_nohash_1.wav', 'b80d6c5e_nohash_1.wav', '2aec99ec_nohash_1.wav', 'b12bef84_nohash_0.wav', 'edd8bfe3_nohash_1.wav', '3cdecb0b_nohash_1.wav', 'b2e2773a_nohash_1.wav', 'ca4912b6_nohash_0.wav', 'c7124b73_nohash_2.wav', 'fde2dee7_nohash_0.wav', '72320401_nohash_0.wav', '559bc36a_nohash_0.wav', '171b56dc_nohash_0.wav', '76e53db9_nohash_0.wav', '54b6d355_nohash_0.wav', '3df9a3d4_nohash_0.wav', '2bdbe5f7_nohash_0.wav', 'beb458a4_nohash_0.wav', '9a2e5b3c_nohash_0.wav', '6af4aa07_nohash_0.wav', 'd7529c0c_nohash_0.wav', 'b5cf6ea8_nohash_1.wav', 'd1d3e64d_nohash_1.wav', '2005ca25_nohash_1.wav', '5efb758c_nohash_0.wav', '1b63157b_nohash_0.wav', '014f9f65_nohash_0.wav', 'fa7895de_nohash_0.wav', '220ee1ef_nohash_0.wav', '42a99aec_nohash_0.wav', '627c0bec_nohash_1.wav', 'bed06fac_nohash_0.wav', 'e6db3894_nohash_0.wav', 'aeb99b1c_nohash_0.wav', 'b0c0197e_nohash_1.wav', '7f208e83_nohash_0.wav', 'c38720cb_nohash_1.wav', 'c1d39ce8_nohash_1.wav', 'b1f8326d_nohash_0.wav', '09a7aa2a_nohash_0.wav', '35d1b6ee_nohash_0.wav', 'dca2797e_nohash_0.wav', '01bcfc0c_nohash_0.wav', 'a518d1cf_nohash_2.wav', '84bf12ff_nohash_0.wav', 'b0ae6326_nohash_0.wav', '2927c601_nohash_0.wav', 'af7a8296_nohash_0.wav', '815f0f03_nohash_0.wav', '3a33d3a4_nohash_0.wav', '11321027_nohash_0.wav', '88d009d2_nohash_1.wav', '173ce2be_nohash_0.wav', '4c6944d6_nohash_0.wav', '9be15e93_nohash_0.wav', 'e3e49931_nohash_1.wav', '7c1d8533_nohash_0.wav', 'f568162b_nohash_0.wav', '92b2bf59_nohash_1.wav', 'e55a2b20_nohash_1.wav', '62ef962d_nohash_0.wav', '652b3da7_nohash_3.wav', 'bdb90d38_nohash_1.wav', '3c6d55b3_nohash_0.wav', '31fd5cf5_nohash_0.wav', '620ff0fa_nohash_0.wav', '81dc4a94_nohash_0.wav', '6347b393_nohash_1.wav', 'f5626af6_nohash_0.wav', 'c9e251d2_nohash_0.wav', '6f342826_nohash_2.wav', 'd53e25ba_nohash_0.wav', 'b2fbe484_nohash_0.wav', '9a4d12fd_nohash_0.wav', '9ff1b8b6_nohash_0.wav', 'f21893dc_nohash_1.wav', 'c099668c_nohash_2.wav', '234d6a48_nohash_0.wav', '919d3c0e_nohash_0.wav', '16db1582_nohash_0.wav', 'ef2a3cfb_nohash_0.wav', '037c445a_nohash_0.wav', 'a9f38bae_nohash_0.wav', '587f3271_nohash_2.wav', 'f3cee168_nohash_1.wav', '89f680f3_nohash_1.wav', 'b91b718c_nohash_0.wav', 'b0c0197e_nohash_0.wav', 'd7467392_nohash_0.wav', '2ce7534c_nohash_1.wav', '3ed3e49a_nohash_1.wav', 'ddedba85_nohash_3.wav', 'b7a6f709_nohash_0.wav', 'dd6c6806_nohash_1.wav', 'ffb86d3c_nohash_0.wav', '3b195250_nohash_0.wav', '80c45ed6_nohash_1.wav', '311fde72_nohash_0.wav', '322d17d3_nohash_0.wav', '05d18852_nohash_0.wav', 'da7689f1_nohash_0.wav', '531a5b8a_nohash_1.wav', '6a2fb9a5_nohash_0.wav', '863880b7_nohash_0.wav', '82951cf0_nohash_0.wav', 'db79a764_nohash_0.wav', '66041c69_nohash_1.wav', 'eb67fcbc_nohash_1.wav', 'ee07dcb9_nohash_1.wav', '83f9c4ab_nohash_1.wav', '3aa6f4e2_nohash_0.wav', '3ce4910e_nohash_0.wav', '2da58b32_nohash_0.wav', 'e855b8f1_nohash_0.wav', 'f6617a86_nohash_0.wav', '87014d40_nohash_0.wav', 'f84762e5_nohash_0.wav', 'a60a09cf_nohash_0.wav', '300384f0_nohash_1.wav', '83c9e7e6_nohash_1.wav', '61482e52_nohash_0.wav', '3c257192_nohash_0.wav', '3108acca_nohash_0.wav', '953fe1ad_nohash_0.wav', '61e50f62_nohash_1.wav', 'fb2f3242_nohash_0.wav', '5a0bc987_nohash_0.wav', 'b3849d6e_nohash_0.wav', 'ec9b830b_nohash_0.wav', '9e42ae25_nohash_0.wav', 'c8771f88_nohash_0.wav', 'c50f55b8_nohash_0.wav', '94e6864f_nohash_0.wav', 'dcbfe008_nohash_0.wav', '0c2d2ffa_nohash_0.wav', 'cd7f8c1b_nohash_0.wav', 'f4cae173_nohash_1.wav', '1e4064b8_nohash_0.wav', '6bf5baf3_nohash_0.wav', 'eb6dab4a_nohash_0.wav', '8d5d076d_nohash_0.wav', '4abb2400_nohash_0.wav', 'db7c95b0_nohash_1.wav', '1a4259c3_nohash_0.wav', 'bda605da_nohash_0.wav', '61bcb275_nohash_0.wav', '8aa35b0c_nohash_0.wav', '66276b0e_nohash_0.wav', 'e48a80ed_nohash_0.wav', '1993db46_nohash_0.wav', '5165cf0a_nohash_0.wav', 'e3e49931_nohash_0.wav', '84d1e469_nohash_0.wav', 'fb01a182_nohash_0.wav', '5ef35194_nohash_0.wav', '50d1c8e3_nohash_0.wav', '0f46028a_nohash_0.wav', 'c7124b73_nohash_0.wav', '9712cce0_nohash_0.wav', 'e1469561_nohash_0.wav', 'd0fb9ff4_nohash_0.wav', '1942abd7_nohash_0.wav', '5b1db3ee_nohash_1.wav', '77f185d3_nohash_0.wav', '90804775_nohash_0.wav', '4def68db_nohash_0.wav', '773e26f7_nohash_0.wav', '645ed69d_nohash_0.wav', 'ab71c9a7_nohash_0.wav', 'b66f4f93_nohash_0.wav', 'ec201020_nohash_0.wav', '1c84a139_nohash_0.wav', 'b66f4f93_nohash_1.wav', '54d9ccb5_nohash_0.wav', '3bc21161_nohash_0.wav', '63996b7c_nohash_1.wav', '6f342826_nohash_0.wav', '14872d06_nohash_1.wav', 'eb67fcbc_nohash_0.wav', '3291330e_nohash_0.wav', '84d1e469_nohash_1.wav', '4bc2c2c5_nohash_0.wav', 'ce9410da_nohash_0.wav', '513aeddf_nohash_0.wav', '3eb8764c_nohash_0.wav', '4beff0c5_nohash_0.wav', '692a88e6_nohash_0.wav', '94de6a6a_nohash_0.wav', '5677ec77_nohash_1.wav', '8a28231e_nohash_1.wav', '1e02ffc5_nohash_0.wav', 'da584bc0_nohash_0.wav', 'e4a2cf79_nohash_0.wav', '57de2379_nohash_0.wav', '462e1919_nohash_0.wav', 'f174517e_nohash_1.wav', '1a9afd33_nohash_0.wav', 'a1cff772_nohash_0.wav', '7b301939_nohash_0.wav', 'a8e25ebb_nohash_0.wav', '67961766_nohash_1.wav', 'fd9c7413_nohash_0.wav', '4f8ef132_nohash_0.wav', 'f35eedd7_nohash_0.wav', '533c6564_nohash_0.wav', '118261a9_nohash_1.wav', '131e738d_nohash_0.wav', '2039b9c1_nohash_0.wav', '89f680f3_nohash_2.wav', '01648c51_nohash_1.wav', 'f6af2457_nohash_0.wav', 'f216055e_nohash_0.wav', '8781f4c1_nohash_0.wav', '97e0c576_nohash_2.wav', '78030270_nohash_0.wav', '4c7c95de_nohash_0.wav', 'c7f9ffb5_nohash_0.wav', '8e05039f_nohash_0.wav', '2c727642_nohash_2.wav', 'e4b02540_nohash_0.wav', '7dc95912_nohash_1.wav', '590750e8_nohash_1.wav', '63ae15e4_nohash_0.wav', '3efa7ec4_nohash_0.wav', '2748cce7_nohash_0.wav', 'fb24c826_nohash_0.wav', '6f5b4d3d_nohash_3.wav', 'b43c8f2f_nohash_0.wav', 'dedc7fab_nohash_0.wav', '265bd13a_nohash_0.wav', 'f5e5e8b0_nohash_0.wav', 'c38720cb_nohash_0.wav', '1625acd8_nohash_1.wav', 'c50225fa_nohash_1.wav', '9f63152b_nohash_0.wav', 'ce0cb033_nohash_0.wav', '541120c7_nohash_0.wav', '19f9c115_nohash_2.wav', '7081436f_nohash_0.wav', '6414258b_nohash_0.wav', '71904de3_nohash_0.wav', '446a3161_nohash_0.wav', 'a2b16113_nohash_3.wav', 'c0c701f1_nohash_0.wav', 'f01a0d63_nohash_0.wav', 'fbe51750_nohash_1.wav', '589bce2c_nohash_0.wav', '1706c35f_nohash_2.wav', '2d82a556_nohash_1.wav', '5f9cd2eb_nohash_1.wav', 'cd8b1781_nohash_1.wav', '5b1db3ee_nohash_4.wav', '1a673010_nohash_0.wav', 'f3cee168_nohash_0.wav', '2b5e346d_nohash_0.wav', 'd9e9f554_nohash_0.wav', 'e9901cf0_nohash_0.wav', 'e82914c0_nohash_0.wav', '7c9b43f0_nohash_1.wav', '10c6d873_nohash_0.wav', 'a6f2fd71_nohash_0.wav', '0bde966a_nohash_0.wav', '845f8553_nohash_0.wav', 'c0c701f1_nohash_1.wav', '9d8ac38b_nohash_0.wav', '98447c43_nohash_1.wav', '1496195a_nohash_0.wav', '24ed94ab_nohash_0.wav', '8353fea1_nohash_0.wav', '6b81fead_nohash_1.wav', '129c7d8d_nohash_0.wav', '07089da9_nohash_0.wav', 'c842b5e4_nohash_1.wav', 'e652590d_nohash_0.wav', 'b26343e9_nohash_0.wav', '92e17cc4_nohash_1.wav', 'bed06fac_nohash_1.wav', '16d41d07_nohash_0.wav', '14c7b073_nohash_0.wav', 'f292725f_nohash_0.wav', '66774579_nohash_0.wav', '5705a0f9_nohash_0.wav', '62ccd358_nohash_1.wav', '57152045_nohash_0.wav', '84999496_nohash_0.wav', '682e1687_nohash_0.wav', 'e9b61425_nohash_0.wav', 'e5e54cee_nohash_0.wav', '1474273a_nohash_0.wav', '6094340e_nohash_0.wav', 'e71a9381_nohash_0.wav', 'bc999754_nohash_0.wav', '3a789a0d_nohash_0.wav', '6ceeb9aa_nohash_1.wav', '1657c9fa_nohash_0.wav', 'ed07d5b7_nohash_0.wav', '18c54a68_nohash_0.wav', '9bea2ac7_nohash_0.wav', '28460a60_nohash_0.wav', '3ef0f3ab_nohash_0.wav', '89f3ab7d_nohash_1.wav', 'd4d898d7_nohash_0.wav', '8c4854bc_nohash_0.wav', 'b3bb4dd6_nohash_1.wav', 'a2b16113_nohash_2.wav', '48bdc11c_nohash_0.wav', '6205088b_nohash_3.wav', '90645155_nohash_0.wav', 'd0faf7e4_nohash_0.wav', '15c371c7_nohash_0.wav', '82b99576_nohash_0.wav', '6d818f6c_nohash_0.wav', '370844f7_nohash_0.wav', 'db7c95b0_nohash_0.wav', '4c13fe25_nohash_0.wav', '4e6902d0_nohash_0.wav', 'b2e2773a_nohash_0.wav', 'f9af823e_nohash_0.wav', '06076b6b_nohash_0.wav', '2c6446f7_nohash_0.wav', '46114b4e_nohash_0.wav', 'c0fb6812_nohash_0.wav', '57b38f48_nohash_0.wav', '34e8c726_nohash_1.wav', '821b64cc_nohash_0.wav', 'b0bad4a9_nohash_0.wav', '02746d24_nohash_0.wav', '856eb138_nohash_0.wav', '43fc47a7_nohash_0.wav', 'c50f55b8_nohash_3.wav', '8dd24423_nohash_0.wav', '0135f3f2_nohash_0.wav', '41474817_nohash_0.wav', 'c634a189_nohash_0.wav', '102192fd_nohash_0.wav', 'e8d562ca_nohash_0.wav', '042186b8_nohash_0.wav', '9637f43f_nohash_1.wav', '18c54a68_nohash_1.wav', 'b69fe0e2_nohash_0.wav', 'a331d9cb_nohash_5.wav', '80c17118_nohash_2.wav', 'f575faf3_nohash_0.wav', '9a2e5b3c_nohash_1.wav', '31270cb2_nohash_0.wav', '88d009d2_nohash_0.wav', 'ccea893d_nohash_1.wav', '7910d292_nohash_0.wav', '20fd451f_nohash_0.wav', 'b8897f1c_nohash_0.wav', 'f1eaff75_nohash_1.wav', '2fee065a_nohash_0.wav', '060cd039_nohash_0.wav', '0ea0e2f4_nohash_1.wav', 'c578beb0_nohash_0.wav', '24befdb3_nohash_0.wav', '97ae8b25_nohash_0.wav', '1a892463_nohash_0.wav', '6347b393_nohash_2.wav', '211b928a_nohash_0.wav', 'adc216c5_nohash_0.wav', 'e3411931_nohash_1.wav', '338dacf5_nohash_0.wav', '1706c35f_nohash_3.wav', '54412eae_nohash_0.wav', '65d81c54_nohash_1.wav', 'db9d52d2_nohash_0.wav', 'e2362167_nohash_0.wav', '409c962a_nohash_2.wav', '65f2531f_nohash_0.wav', 'bb31b82b_nohash_0.wav', 'fad7a69a_nohash_0.wav', '5828dfa2_nohash_0.wav', '364c0853_nohash_0.wav', '5ba724a7_nohash_1.wav', 'e6515415_nohash_1.wav', '8ea6dec6_nohash_1.wav', 'e3e0f145_nohash_0.wav', 'cb62dbf1_nohash_0.wav', '6205088b_nohash_1.wav', 'be7fa0a3_nohash_1.wav', 'ead2934a_nohash_2.wav', '72242187_nohash_0.wav', '893705bb_nohash_0.wav', 'b1df80c0_nohash_0.wav', 'a5d485dc_nohash_0.wav', '97e0c576_nohash_0.wav', '3efa7ec4_nohash_1.wav', 'cc71bada_nohash_0.wav', '402e2977_nohash_0.wav', '20a0d54b_nohash_1.wav', '10ace7eb_nohash_0.wav', 'e9abfe31_nohash_0.wav', 'efa16ffd_nohash_1.wav', 'acfd3bc3_nohash_0.wav', '09ddc105_nohash_1.wav', '01648c51_nohash_0.wav', 'c8db14a8_nohash_0.wav', '5236848b_nohash_0.wav', '3ec05c3d_nohash_0.wav', '6846af18_nohash_0.wav', '9db2bfe9_nohash_0.wav', '8c3c4715_nohash_1.wav', 'b6091c84_nohash_0.wav', '75b631ff_nohash_0.wav', '0cb74144_nohash_0.wav', '1995cf9e_nohash_0.wav', '20174140_nohash_0.wav', 'fffcabd1_nohash_0.wav', 'd0f7bef5_nohash_0.wav', '0d393936_nohash_0.wav', 'dc2222d7_nohash_1.wav', '62605293_nohash_1.wav', 'c50225fa_nohash_0.wav', 'da2c5f1b_nohash_1.wav', '4f086393_nohash_0.wav', '611d2b50_nohash_0.wav', 'c678e0b3_nohash_1.wav', '6d7af359_nohash_0.wav', '6f5b4d3d_nohash_1.wav', '8a28231e_nohash_0.wav', 'b087aa0e_nohash_0.wav', '7799c9cd_nohash_0.wav', '9ce7a419_nohash_0.wav', 'f88f97a7_nohash_1.wav', '15f04ff8_nohash_0.wav', '7fc74fbe_nohash_0.wav', '25040e85_nohash_0.wav', '92b2bf59_nohash_2.wav', '9fa86a74_nohash_0.wav', '88e90bc1_nohash_0.wav', 'c9e251d2_nohash_1.wav', '89d6d11e_nohash_0.wav', 'e77d88fc_nohash_0.wav', '3c8dc702_nohash_0.wav', '66276b0e_nohash_1.wav', 'e1f1eadc_nohash_0.wav', 'b00dff7e_nohash_0.wav', 'afb9e62e_nohash_0.wav', 'ecef25ba_nohash_0.wav', '9b402bc2_nohash_1.wav', 'b308773d_nohash_0.wav', 'f953e1af_nohash_0.wav', '7b2e879e_nohash_1.wav', '2e8c59f7_nohash_0.wav', '78622c2b_nohash_0.wav', 'f2a90886_nohash_0.wav', 'b3bb4dd6_nohash_0.wav', '3ed3e49a_nohash_0.wav', '15b0c947_nohash_0.wav', '56eab10e_nohash_3.wav', '6e2ef3d5_nohash_0.wav', 'e269bac0_nohash_0.wav', '305776dd_nohash_0.wav', 'cfbedff9_nohash_0.wav', '518588b6_nohash_2.wav', '5be23def_nohash_0.wav', '300384f0_nohash_0.wav', '14df1e28_nohash_0.wav', '1acc97de_nohash_0.wav', '9e6bb505_nohash_1.wav', '90b0b91a_nohash_0.wav', 'a331d9cb_nohash_2.wav', '1474273a_nohash_1.wav', 'b52bd596_nohash_1.wav', '5e3dde6b_nohash_0.wav', 'a8cb6dda_nohash_0.wav', '833d9f56_nohash_0.wav', '3389305e_nohash_0.wav', 'e53139ad_nohash_0.wav', '42ccb57a_nohash_0.wav', 'b29f8b23_nohash_0.wav', '2510c044_nohash_0.wav', '94403ad3_nohash_0.wav', 'fe11e258_nohash_0.wav', '8f447c3e_nohash_0.wav', 'af30314d_nohash_0.wav', 'b0f24c9b_nohash_0.wav', '1cb788bc_nohash_1.wav', '650daf8e_nohash_1.wav', '0132a06d_nohash_0.wav', '6904f0cb_nohash_0.wav', '4c13fe25_nohash_1.wav', '95299b6c_nohash_0.wav', '83c9e7e6_nohash_2.wav', 'ec545975_nohash_2.wav', '4d9e07cf_nohash_0.wav', 'f852895b_nohash_0.wav', '9f869f70_nohash_0.wav', '4c13fe25_nohash_2.wav', '637c702a_nohash_0.wav', 'c90c0105_nohash_2.wav', 'd1bf406b_nohash_0.wav', '64574a99_nohash_0.wav', '9637f43f_nohash_0.wav', '3b852f6f_nohash_0.wav', '99e6cab8_nohash_0.wav', '23abe1c9_nohash_0.wav', '6a014b29_nohash_0.wav', '988e2f9a_nohash_1.wav', 'c7aa72e6_nohash_0.wav', 'bb05582b_nohash_0.wav', '1b42b551_nohash_0.wav', '27c24504_nohash_0.wav', 'c120e80e_nohash_0.wav', '60472d26_nohash_2.wav', '31583d30_nohash_0.wav', '50a8ef27_nohash_0.wav', '9331d34b_nohash_0.wav', '750e3e75_nohash_0.wav', '7d149b38_nohash_1.wav', '51f7a034_nohash_0.wav', 'ad6a46f1_nohash_1.wav', 'ea9f8e11_nohash_0.wav', '2a1f4853_nohash_0.wav', '91cdef62_nohash_1.wav', '56eb74ae_nohash_0.wav', 'c6ca5d01_nohash_1.wav', '57b38f48_nohash_1.wav', '83c9e7e6_nohash_0.wav', 'e95c70e2_nohash_0.wav', '3f170018_nohash_0.wav', '4a1e736b_nohash_0.wav', '12529547_nohash_0.wav', '6f5b4d3d_nohash_0.wav', '18a1aab9_nohash_0.wav', 'c71e3acc_nohash_0.wav', '067f61e2_nohash_0.wav', '650daf8e_nohash_2.wav', '4c432947_nohash_1.wav', 'ece1a95a_nohash_1.wav', 'b65f6015_nohash_0.wav', '7e783e3f_nohash_0.wav', 'b6ebe225_nohash_0.wav', 'b6091c84_nohash_1.wav', 'b80d6c5e_nohash_0.wav', 'b4604db4_nohash_0.wav', '638548d5_nohash_1.wav', '3de53d23_nohash_0.wav', 'ee1d8d49_nohash_0.wav', 'ab353673_nohash_0.wav', '6f342826_nohash_1.wav', '6205088b_nohash_0.wav', '1365dd89_nohash_1.wav', '3a182c98_nohash_0.wav', 'd78858d9_nohash_1.wav', '51055bda_nohash_0.wav', 'c50f55b8_nohash_4.wav', '1625acd8_nohash_0.wav', 'f804cbb3_nohash_0.wav', '6cc28ce5_nohash_0.wav', 'e20be42a_nohash_1.wav', 'ba676390_nohash_0.wav', '2f0a410b_nohash_0.wav', '7303215d_nohash_0.wav', 'dcbfe008_nohash_1.wav', 'c0e0f834_nohash_2.wav', 'ad1429cf_nohash_0.wav', '46a153d8_nohash_0.wav', 'a55105d0_nohash_0.wav', '57b68383_nohash_0.wav', '060cd039_nohash_1.wav', 'c2aeb59d_nohash_0.wav', 'dfdabe19_nohash_1.wav', '1bb6ed89_nohash_0.wav', '1efdf53f_nohash_0.wav', 'a16b3102_nohash_0.wav', '91cdef62_nohash_2.wav', '305776dd_nohash_2.wav', '4340d369_nohash_0.wav', '7f208e83_nohash_1.wav', '7cf14c54_nohash_0.wav', '5fadb538_nohash_0.wav', '5b09db89_nohash_0.wav', '0b7ee1a0_nohash_0.wav', 'fa44fcf5_nohash_0.wav', 'e6be0830_nohash_1.wav', 'af54ec46_nohash_0.wav', '54aecbd5_nohash_0.wav', '3ca784ec_nohash_0.wav', '11a022ba_nohash_0.wav', '34263ab3_nohash_0.wav', '29229c21_nohash_0.wav', '0c2ca723_nohash_0.wav', '0fc57d61_nohash_0.wav', 'a527cb3c_nohash_1.wav', 'ce49cb60_nohash_0.wav', 'f8f60f59_nohash_0.wav', '1e4064b8_nohash_1.wav', '6ceeb9aa_nohash_0.wav', '9efe5140_nohash_1.wav', '78884794_nohash_2.wav', '17f0e206_nohash_1.wav', '8dc18a75_nohash_0.wav', '62ff07ef_nohash_1.wav', '11b1df78_nohash_0.wav', '682e1687_nohash_1.wav', 'f104f742_nohash_0.wav', 'aa48c94a_nohash_0.wav', '4fce7686_nohash_0.wav', '03c96658_nohash_0.wav', 'c0fb6812_nohash_1.wav', '62ef962d_nohash_1.wav', '8134f43f_nohash_0.wav', '079dfce3_nohash_0.wav', 'e9b61425_nohash_1.wav', 'f19279c4_nohash_0.wav', 'bde0f20a_nohash_0.wav', '08ab231c_nohash_0.wav', '988e2f9a_nohash_0.wav', 'f0659908_nohash_0.wav', '39dce8cc_nohash_0.wav', '2005ca25_nohash_0.wav', '55d3725a_nohash_0.wav', 'f4cae173_nohash_0.wav', '1473be6a_nohash_0.wav', '9acd0254_nohash_0.wav', 'f2e59fea_nohash_0.wav', '7e4fa1d8_nohash_0.wav', '5f8e50a0_nohash_1.wav', '9e075bf1_nohash_0.wav', '1cb788bc_nohash_0.wav', '23add12a_nohash_1.wav', '0c40e715_nohash_0.wav', '61ab8fbc_nohash_0.wav', '9dc1889e_nohash_0.wav', '10467b06_nohash_0.wav', 'b83c1acf_nohash_0.wav', '18a8f03f_nohash_1.wav', 'cf87b736_nohash_0.wav', 'fb8c31a9_nohash_0.wav', '118261a9_nohash_2.wav', 'bfb10243_nohash_0.wav', '5a98d407_nohash_0.wav', '50ed8a7b_nohash_0.wav', 'fb727898_nohash_0.wav', '8ea6dec6_nohash_0.wav', '1970b130_nohash_0.wav', 'd926bb17_nohash_0.wav', '172dc2b0_nohash_0.wav', '99fad6a0_nohash_0.wav', '8b25410a_nohash_0.wav', '2e75d37a_nohash_0.wav', '3f45a0cf_nohash_0.wav', 'f9318c93_nohash_0.wav', '6c0f6493_nohash_0.wav', '07363607_nohash_0.wav', '578d3efb_nohash_0.wav', '94e6864f_nohash_3.wav', 'cc592808_nohash_0.wav', '7a5530c9_nohash_0.wav', 'c7124b73_nohash_1.wav', '3a7d8872_nohash_0.wav', 'b46e8153_nohash_1.wav', '173ae793_nohash_1.wav', 'f264e0df_nohash_0.wav', '063d48cf_nohash_0.wav', '825f450d_nohash_2.wav', 'ece1a95a_nohash_2.wav', 'e0315cf6_nohash_0.wav', '31583d30_nohash_2.wav', '063d48cf_nohash_1.wav', 'ca6d5cd1_nohash_0.wav', '2be08ce4_nohash_2.wav', 'e11fbc6e_nohash_0.wav', '32efce64_nohash_2.wav', 'ccb1266b_nohash_0.wav', '333784b7_nohash_0.wav', 'e8c3c5ca_nohash_0.wav', '1a5b9ca4_nohash_0.wav', '742d6431_nohash_0.wav', 'f06190c1_nohash_0.wav', 'ec545975_nohash_0.wav', 'cce17a61_nohash_3.wav', 'bd76a7fd_nohash_0.wav', 'c9a5100f_nohash_0.wav', 'c5a1e46c_nohash_0.wav', 'a7216980_nohash_0.wav', 'f59d0771_nohash_0.wav', '1afd49bf_nohash_0.wav', '2bfe70ef_nohash_0.wav', 'db9cfc88_nohash_0.wav', '66a412a7_nohash_0.wav', '893705bb_nohash_2.wav', '67961766_nohash_0.wav', '56eab10e_nohash_0.wav', '8f3f252c_nohash_2.wav', '6823565f_nohash_0.wav', '6c968bd9_nohash_0.wav', 'e6e29c47_nohash_1.wav', 'e71b4ce6_nohash_0.wav', '65d844fc_nohash_0.wav', '4f086393_nohash_1.wav', 'e5d2e09d_nohash_0.wav', '64a80906_nohash_1.wav', '19f9c115_nohash_1.wav', 'de3fe344_nohash_0.wav', '3b853f44_nohash_0.wav', '77def3ee_nohash_1.wav', '3d794813_nohash_0.wav', '9e2ce5e3_nohash_0.wav', '42398aab_nohash_0.wav', '53fd1780_nohash_0.wav', '8442ea62_nohash_1.wav', '8c3c4715_nohash_0.wav', '270bfa52_nohash_0.wav', 'fd9c7413_nohash_1.wav', 'd0858dce_nohash_0.wav', '4beff0c5_nohash_1.wav', '11860c84_nohash_0.wav', 'e2b7d6d6_nohash_0.wav', 'fb7c9b3b_nohash_1.wav', 'bbf38549_nohash_0.wav', 'fb7c9b3b_nohash_0.wav', 'bda605da_nohash_1.wav', 'd3f22f0e_nohash_1.wav', 'b3327675_nohash_1.wav', '28ef2a01_nohash_0.wav', 'ab46af55_nohash_1.wav', '4e61bf96_nohash_0.wav', 'aa48c94a_nohash_1.wav', 'f30285c8_nohash_0.wav', 'b3327675_nohash_0.wav', '7303215d_nohash_1.wav', '0e17f595_nohash_0.wav', 'a19452d5_nohash_2.wav', 'a3255f5c_nohash_2.wav', '60472d26_nohash_1.wav', '4b25f620_nohash_1.wav', '879a2b38_nohash_0.wav', '00f0204f_nohash_1.wav', '2bd2cad5_nohash_1.wav', '2aca1e72_nohash_1.wav', '479e64cc_nohash_1.wav', 'b433332a_nohash_0.wav', 'c50f55b8_nohash_5.wav', 'd85270c1_nohash_1.wav', '964e8cfd_nohash_0.wav', '8dd24423_nohash_1.wav', 'c50f55b8_nohash_1.wav', 'df1d5024_nohash_0.wav', 'e9b61425_nohash_2.wav', '3a69f765_nohash_0.wav', '25c14394_nohash_1.wav', 'c885a039_nohash_0.wav', 'bed06fac_nohash_2.wav', '605ed0ff_nohash_0.wav', '81332c92_nohash_0.wav', '6f5eea74_nohash_0.wav', '7be5a0f3_nohash_0.wav', 'c2bc4489_nohash_0.wav', 'bf5d409d_nohash_0.wav', '7eee5973_nohash_2.wav', 'bd2db1a5_nohash_0.wav', '857366dd_nohash_1.wav', '2796ac50_nohash_0.wav', '3d86b69a_nohash_0.wav', '0c2ca723_nohash_1.wav', 'f88f97a7_nohash_0.wav', '6d1dcca6_nohash_1.wav', '8a0457c9_nohash_0.wav', 'e3e49931_nohash_2.wav', 'ee28caac_nohash_0.wav', 'cc4f9250_nohash_0.wav', '1a9afd33_nohash_1.wav', '27b9a84f_nohash_0.wav', 'a19452d5_nohash_0.wav', 'ca58a8c6_nohash_0.wav', 'f5733968_nohash_0.wav', '56eab10e_nohash_1.wav', 'b31ad508_nohash_0.wav', 'bfd26d6b_nohash_0.wav', 'a518d1cf_nohash_1.wav', '9b3ea809_nohash_0.wav', '2be08ce4_nohash_1.wav', '876c84d6_nohash_0.wav', '37b03ab1_nohash_0.wav', '1b755c65_nohash_0.wav', '997867e7_nohash_0.wav', '617aeb6c_nohash_0.wav', 'b5d1e505_nohash_0.wav', '8a744054_nohash_0.wav', '06f6c194_nohash_0.wav', 'e900b652_nohash_0.wav', '73124b26_nohash_1.wav', 'f00180d0_nohash_0.wav', 'ac9dee0e_nohash_0.wav', 'ef77b778_nohash_0.wav', '9f93e408_nohash_0.wav', 'fffcabd1_nohash_1.wav', '95218ce8_nohash_0.wav', '39833acb_nohash_0.wav', '1a5b9ca4_nohash_1.wav', '28497c5b_nohash_0.wav', '708a9569_nohash_0.wav', 'dac8b7f9_nohash_0.wav', 'a6d586b7_nohash_0.wav', 'a4e8a997_nohash_0.wav', 'e805a617_nohash_0.wav', '6d818f6c_nohash_2.wav', 'f7879738_nohash_0.wav', '09ddc105_nohash_0.wav', 'a24582a0_nohash_1.wav', 'fb7c9b3b_nohash_2.wav', 'fbf3dd31_nohash_0.wav', '66cff190_nohash_1.wav', '66cff190_nohash_0.wav', '5ba724a7_nohash_0.wav', '61e50f62_nohash_0.wav', '72ca6a6d_nohash_0.wav', 'e5afa9b0_nohash_0.wav', 'ec9b830b_nohash_1.wav', 'fa446c16_nohash_2.wav', 'bca56796_nohash_0.wav', 'e7ea8b76_nohash_1.wav', 'cce17a61_nohash_2.wav', 'a7acbbeb_nohash_0.wav', 'ddedba85_nohash_2.wav', '179a61b7_nohash_0.wav', '09bcdc9d_nohash_1.wav', 'b1f8326d_nohash_1.wav', 'c2657ba5_nohash_0.wav', '0447d7c1_nohash_0.wav', 'ffd2ba2f_nohash_0.wav', 'cf68fad2_nohash_1.wav', '5de8f2f0_nohash_0.wav', '46114b4e_nohash_1.wav', 'ec989d6d_nohash_0.wav', 'd486fb84_nohash_1.wav', 'a3502f15_nohash_0.wav', 'd21fd169_nohash_0.wav', '460f2bad_nohash_0.wav', 'd3f22f0e_nohash_2.wav', '012187a4_nohash_0.wav', 'adebe223_nohash_1.wav', '30802c5d_nohash_0.wav', '0d90d8e1_nohash_0.wav', '87d5e978_nohash_0.wav', '65ec06e5_nohash_0.wav', '982babaf_nohash_0.wav', 'caa4779f_nohash_1.wav', '10627519_nohash_0.wav', 'f4504600_nohash_0.wav', '422d3197_nohash_0.wav', 'ece1a95a_nohash_0.wav', '18a8f03f_nohash_2.wav', '6e916de8_nohash_0.wav', 'b76f6088_nohash_0.wav', '1c6e5447_nohash_0.wav', '810c99be_nohash_0.wav', '1bb574f9_nohash_0.wav', '2a89ad5c_nohash_0.wav', 'eb0676ec_nohash_0.wav', '3bfd30e6_nohash_0.wav', 'f174517e_nohash_0.wav', 'de89e2ca_nohash_0.wav', 'c1d39ce8_nohash_0.wav', 'ec545975_nohash_1.wav', 'cfde27ba_nohash_1.wav', 'f822b9bf_nohash_0.wav', 'e5d2e09d_nohash_1.wav', 'c25a032b_nohash_0.wav', 'b5552931_nohash_0.wav', 'ae82c78c_nohash_0.wav', 'a6285644_nohash_0.wav', '18e910f4_nohash_0.wav', '772db621_nohash_0.wav', 'e54a0f16_nohash_0.wav', 'f5c3de1b_nohash_0.wav', '88120683_nohash_0.wav', '538e1856_nohash_0.wav', 'a04817c2_nohash_0.wav', 'ccca5655_nohash_0.wav', 'c518d1b1_nohash_0.wav', '1d1fe0a0_nohash_0.wav', '85851131_nohash_0.wav', '42e3f068_nohash_1.wav', '0585b66d_nohash_0.wav', 'c22d3f18_nohash_0.wav', 'f3d06008_nohash_0.wav', '784e281a_nohash_0.wav', '97e0c576_nohash_1.wav', '274c008f_nohash_0.wav', 'b43de700_nohash_0.wav', '5ebc1cda_nohash_0.wav', 'be91a00a_nohash_0.wav', '62581901_nohash_0.wav', '44bc77f7_nohash_0.wav', '4a294341_nohash_0.wav', 'dcc012ec_nohash_0.wav', '0bde966a_nohash_1.wav', '9a69672b_nohash_0.wav', '726382d6_nohash_0.wav', 'da4ef063_nohash_0.wav', '5e033479_nohash_1.wav', 'b0f24c9b_nohash_1.wav', '8c4854bc_nohash_2.wav', '51c5601d_nohash_0.wav', '990ebd1f_nohash_1.wav', 'ed3c2d05_nohash_0.wav', 'c39703ec_nohash_0.wav', 'b1edd209_nohash_0.wav', 'dcc012ec_nohash_1.wav', '37b03ab1_nohash_1.wav', '35c8fa78_nohash_0.wav', '9a3f97f8_nohash_0.wav', 'bf70feda_nohash_0.wav', 'c22ebf46_nohash_0.wav', '7c83c5f6_nohash_0.wav', '18f8afd5_nohash_0.wav', 'b71ebf79_nohash_0.wav', 'ea7ca285_nohash_1.wav', 'aff582a1_nohash_0.wav', '189cbabe_nohash_0.wav', '3cc595de_nohash_0.wav', 'bc065a17_nohash_0.wav', '884ae8e1_nohash_0.wav', '38d78313_nohash_0.wav', '3df9a3d4_nohash_1.wav', '8c7f81df_nohash_0.wav', '118261a9_nohash_0.wav', '80c17118_nohash_1.wav', 'b528edb3_nohash_0.wav', '13dce503_nohash_1.wav', '26a093e1_nohash_0.wav', '79903546_nohash_1.wav', 'cc592808_nohash_1.wav', 'bab36420_nohash_0.wav', '6071a214_nohash_0.wav', 'f4504600_nohash_1.wav', 'd9aa8c90_nohash_0.wav', 'ab00c4b2_nohash_1.wav', 'b0f5b16d_nohash_0.wav', 'e76dd1ce_nohash_0.wav', '6fca237d_nohash_0.wav', '6f2f57c1_nohash_0.wav', '46114b4e_nohash_2.wav', '21e8c417_nohash_0.wav', '4a803e67_nohash_0.wav', '126a31d2_nohash_0.wav', '264f471d_nohash_0.wav', 'd5b963aa_nohash_0.wav', '48e8b82a_nohash_0.wav', '2c7c33e8_nohash_0.wav', 'ace072ba_nohash_0.wav', '5170b77f_nohash_0.wav', '88e85150_nohash_1.wav', '47565088_nohash_0.wav', 'a108341b_nohash_0.wav', '50033893_nohash_0.wav', '28e47b1a_nohash_0.wav', 'b843de62_nohash_0.wav', 'fdb5155e_nohash_0.wav', 'c0445658_nohash_0.wav', 'b00c4c53_nohash_0.wav', 'e10e2cbb_nohash_1.wav', '4abb2400_nohash_1.wav', 'a2b16113_nohash_0.wav', '7ea032f3_nohash_0.wav', '73f0c1f7_nohash_0.wav', '1a073312_nohash_1.wav', 'bcf614a2_nohash_0.wav', '553f1a79_nohash_0.wav', 'cab100c9_nohash_0.wav', '8c4854bc_nohash_1.wav', 'b5d1e505_nohash_1.wav', '61d3e51e_nohash_0.wav', 'f7b43563_nohash_1.wav', '5f47fdf9_nohash_0.wav', '888a0c49_nohash_0.wav', '88e85150_nohash_0.wav', 'a1e71565_nohash_0.wav', '30a09789_nohash_0.wav', 'f9bdf10e_nohash_1.wav', 'aa753bb9_nohash_0.wav', 'e7334395_nohash_0.wav', '723efc4c_nohash_0.wav', '97addd88_nohash_0.wav', 'e882abb2_nohash_0.wav', '31583d30_nohash_1.wav', '8ec6dab6_nohash_1.wav', 'bdd22e4d_nohash_0.wav', '11b1df78_nohash_1.wav', '990ebd1f_nohash_0.wav', 'caa7feaf_nohash_1.wav', '70880cc6_nohash_0.wav', 'a902ce9b_nohash_0.wav', 'a24cf51c_nohash_1.wav', '7213ed54_nohash_0.wav', 'd107dc42_nohash_0.wav', 'fa446c16_nohash_0.wav', '893705bb_nohash_1.wav', '9b5815cd_nohash_1.wav', '508e30ee_nohash_0.wav', 'f34e6f44_nohash_0.wav', '479e64cc_nohash_0.wav', '187af8be_nohash_0.wav', '0d2bcf9d_nohash_0.wav', '4def68db_nohash_1.wav', '7211390b_nohash_0.wav', '5c8af87a_nohash_0.wav', '9a356ab9_nohash_0.wav', 'f9273a21_nohash_0.wav', 'd0fb9ff4_nohash_1.wav', 'd952a17e_nohash_0.wav', '3cfc6b3a_nohash_0.wav', '1a994c9f_nohash_0.wav', 'a24582a0_nohash_0.wav', '5c39594f_nohash_0.wav', '43b85b64_nohash_0.wav', 'b12bef84_nohash_1.wav', '493392c6_nohash_0.wav', '7bf801d1_nohash_0.wav', '55d3725a_nohash_1.wav', '69a1a79f_nohash_0.wav', '33903159_nohash_0.wav', 'dc2222d7_nohash_0.wav', '9b5815cd_nohash_0.wav', '19e246ad_nohash_0.wav', 'c08585c1_nohash_0.wav', '551e42e8_nohash_0.wav', 'cce17a61_nohash_0.wav', '962f27eb_nohash_0.wav', 'a331d9cb_nohash_3.wav', '017c4098_nohash_0.wav', '712e4d58_nohash_0.wav', 'a331d9cb_nohash_4.wav', '520b2c17_nohash_0.wav', '0685264e_nohash_0.wav', '0d2bcf9d_nohash_1.wav', '364c0853_nohash_1.wav', 'e6e29c47_nohash_0.wav', '18c54a68_nohash_3.wav', '4c7c95de_nohash_1.wav', 'ebdd0f59_nohash_0.wav', '8523766b_nohash_0.wav', '7ff4fc72_nohash_0.wav', 'd278d8ef_nohash_0.wav', 'ce49cb60_nohash_2.wav', '7f74626f_nohash_0.wav', 'c2d74084_nohash_0.wav', 'ff2b842e_nohash_0.wav', 'f1eaff75_nohash_0.wav', '5f8097e1_nohash_0.wav', 'e4b02540_nohash_1.wav', '365531e2_nohash_0.wav', 'f47d644e_nohash_0.wav', '35c8fa78_nohash_1.wav', 'c90c0105_nohash_0.wav', '1706c35f_nohash_0.wav', '2589f361_nohash_0.wav', 'c099668c_nohash_1.wav', 'd2dd5785_nohash_0.wav', 'b25b6065_nohash_0.wav', '96d8bb6f_nohash_0.wav', '85b877b5_nohash_0.wav', '69086eb0_nohash_0.wav', '62605293_nohash_0.wav', 'a2fefcb4_nohash_0.wav', '0ea0e2f4_nohash_0.wav', '3102f006_nohash_0.wav', 'b5935410_nohash_0.wav', 'b55a09be_nohash_1.wav', '627c0bec_nohash_0.wav', 'f1d36c53_nohash_1.wav', 'c7e02d9c_nohash_0.wav', '2a0b413e_nohash_0.wav', '2dcb6848_nohash_0.wav', '6b81fead_nohash_0.wav', 'b26343e9_nohash_1.wav', '52e228e9_nohash_0.wav', 'a1dd919f_nohash_0.wav', 'be7fa0a3_nohash_0.wav', 'a9abc695_nohash_1.wav', '1a0f9c63_nohash_0.wav', '63ae15e4_nohash_1.wav', 'a16b3102_nohash_1.wav', 'd8a5ace5_nohash_1.wav', '01b4757a_nohash_1.wav', 'b41a92a3_nohash_1.wav', '89ed36ab_nohash_0.wav', 'ffbb695d_nohash_0.wav', 'baf01c1f_nohash_0.wav', 'ad6a46f1_nohash_0.wav', '409c962a_nohash_1.wav', 'b3bdded5_nohash_1.wav', '9b402bc2_nohash_0.wav', '016e2c6d_nohash_0.wav', '60472d26_nohash_0.wav', '86648261_nohash_0.wav', '1e9e6bdd_nohash_0.wav', '2c5e0347_nohash_0.wav', 'ead2934a_nohash_1.wav', '173ae793_nohash_0.wav', 'ee07dcb9_nohash_0.wav', '19f9c115_nohash_3.wav', '5a9f7324_nohash_0.wav', 'd8ee4734_nohash_0.wav', '50033893_nohash_2.wav', '57cb3575_nohash_0.wav', '0c2d2ffa_nohash_1.wav', '8d8d9855_nohash_0.wav', '2f0ce4d9_nohash_0.wav', '32ad5b65_nohash_0.wav', '1473be6a_nohash_1.wav', '195c120a_nohash_0.wav', 'a2473d62_nohash_0.wav', '5769c5ab_nohash_0.wav', 'd0ce2418_nohash_0.wav', '28612180_nohash_0.wav', 'd2f4f431_nohash_0.wav', '9e6bb505_nohash_0.wav', 'a3518e99_nohash_0.wav', '21832144_nohash_0.wav', '56eab10e_nohash_2.wav', '460209ac_nohash_0.wav', '3411cf4b_nohash_1.wav', '8b367d88_nohash_2.wav', '9ab86dd0_nohash_0.wav', 'da76aa58_nohash_0.wav', '3fdafe25_nohash_0.wav', 'dbb7723a_nohash_0.wav', '86f12ac0_nohash_0.wav', 'cd68e997_nohash_0.wav', '30137d34_nohash_0.wav', 'aba19127_nohash_0.wav', 'a4e8a997_nohash_1.wav', '105a0eea_nohash_0.wav', '0f7dc557_nohash_0.wav', '13199b79_nohash_0.wav', 'fa70c187_nohash_0.wav', '89f3ab7d_nohash_0.wav', '74b73f88_nohash_0.wav', 'b1426003_nohash_0.wav', 'd1a4fb3f_nohash_0.wav', '848e7f6e_nohash_0.wav', '6ace4fe1_nohash_0.wav', 'f104f742_nohash_1.wav', '256c0a05_nohash_0.wav', '7c75a504_nohash_0.wav', '6b81fead_nohash_2.wav', '569455ff_nohash_0.wav', '97ae8b25_nohash_1.wav', 'efc5e569_nohash_0.wav', '0d6d7360_nohash_0.wav', '64da5281_nohash_0.wav', '234ab0fb_nohash_0.wav', '765ffccb_nohash_1.wav', '68dd409e_nohash_0.wav', 'c9b653a0_nohash_0.wav', '41dce6f5_nohash_0.wav', '6d818f6c_nohash_1.wav', '61a9f72a_nohash_0.wav', 'a045368c_nohash_0.wav', '518588b6_nohash_0.wav', 'cc3d1613_nohash_1.wav', '0b77ee66_nohash_0.wav', 'f0522ff4_nohash_0.wav', 'e1aa22e4_nohash_0.wav', 'e7334395_nohash_1.wav', '17f0e206_nohash_0.wav', 'efa16ffd_nohash_0.wav', 'ec7d1151_nohash_0.wav', '826268f8_nohash_0.wav', 'e6515415_nohash_0.wav', '32efce64_nohash_0.wav', 'f875f965_nohash_0.wav', '591d32f3_nohash_0.wav', '4cb874bb_nohash_0.wav', '1a4259c3_nohash_1.wav', 'dbb7723a_nohash_1.wav', '6fb3d5a7_nohash_0.wav', 'f632210f_nohash_0.wav', 'db7c95b0_nohash_2.wav', '5744b6a7_nohash_0.wav', '47d01978_nohash_0.wav', 'c1e0e8e3_nohash_0.wav', 'dec73123_nohash_0.wav', '5f1b1051_nohash_0.wav', 'e6be0830_nohash_0.wav', '679463fc_nohash_0.wav', '18d84076_nohash_0.wav', 'd486fb84_nohash_2.wav', '333d7ddb_nohash_0.wav', '1dce06e8_nohash_0.wav', '5b1db3ee_nohash_0.wav', 'b15fc37d_nohash_0.wav', '1887fe04_nohash_0.wav', '3411cf4b_nohash_0.wav', 'f4f59743_nohash_0.wav', 'acfd5b5e_nohash_0.wav', '34ba417a_nohash_1.wav', 'b06c19b0_nohash_0.wav', '6b889021_nohash_2.wav', 'c0e0f834_nohash_1.wav', '7b2e879e_nohash_0.wav', '413997c1_nohash_0.wav', '68effe85_nohash_0.wav', '70a00e98_nohash_0.wav', '4290ca61_nohash_0.wav', 'b487da60_nohash_0.wav', 'e39a8ddc_nohash_0.wav', 'a9abc695_nohash_0.wav', 'cce17a61_nohash_1.wav', 'f35eedd7_nohash_1.wav', 'af6fbbf5_nohash_0.wav', '7e1054e7_nohash_0.wav', 'cc592808_nohash_3.wav', '105e72bb_nohash_0.wav', '05b2db80_nohash_0.wav', '34263ab3_nohash_2.wav', 'f852895b_nohash_1.wav', '87eff300_nohash_0.wav', 'ea7ca285_nohash_0.wav', 'f9af0887_nohash_1.wav', 'a8cb6dda_nohash_2.wav', '652b3da7_nohash_1.wav', '25e95412_nohash_0.wav', '8b775397_nohash_1.wav', '573cdb8a_nohash_0.wav', 'e10e2cbb_nohash_0.wav', '3d9bbe2d_nohash_0.wav', '78884794_nohash_1.wav', '5f9cd2eb_nohash_0.wav', '0137b3f4_nohash_0.wav', 'f7b43563_nohash_0.wav', '97f493b9_nohash_0.wav', '6e2ef3d5_nohash_1.wav', '493392c6_nohash_1.wav', '924c1a04_nohash_1.wav', '58df33b5_nohash_0.wav', '7d149b38_nohash_0.wav', 'e20be42a_nohash_0.wav', '28612180_nohash_1.wav', '6889b21f_nohash_0.wav', '413bcfe1_nohash_0.wav', '6414258b_nohash_1.wav', '0ff728b5_nohash_0.wav', '77f185d3_nohash_1.wav', '161fcca8_nohash_1.wav', 'e7ea8b76_nohash_0.wav', '43691f67_nohash_0.wav', 'f3210686_nohash_0.wav', 'f21893dc_nohash_0.wav', 'c71e3acc_nohash_1.wav', '989a2213_nohash_1.wav', '525eaa62_nohash_0.wav', '7e7ca854_nohash_0.wav', 'd31d8dd7_nohash_0.wav', '4cee0c60_nohash_0.wav', '6a203e0e_nohash_0.wav', '6adb8ad9_nohash_0.wav', 'ec32860c_nohash_0.wav', 'c24d96eb_nohash_0.wav', '3b3d2f59_nohash_0.wav', '62b7c848_nohash_1.wav', '0b77ee66_nohash_2.wav', '0474c92a_nohash_0.wav', '8523766b_nohash_1.wav', '402e2977_nohash_1.wav', '3ed3e49a_nohash_3.wav', 'dfdabe19_nohash_2.wav', 'fbf3dd31_nohash_1.wav', '9e46cfa1_nohash_0.wav', '8b367d88_nohash_1.wav', 'fac7deca_nohash_1.wav', '902258bb_nohash_0.wav', '64220627_nohash_0.wav', 'ca4d5368_nohash_0.wav', 'cc592808_nohash_2.wav', '353b4d33_nohash_0.wav', 'd8c52371_nohash_1.wav', 'ddedba85_nohash_0.wav', 'c50225fa_nohash_2.wav', 'c392e01d_nohash_0.wav', 'b12bef84_nohash_2.wav', '25c14394_nohash_0.wav', 'f1d36c53_nohash_0.wav', '0ba018fc_nohash_0.wav', '1ffd513b_nohash_0.wav', '7257420c_nohash_1.wav', '312d6d81_nohash_0.wav', 'd8521ea0_nohash_1.wav', 'd3f22f0e_nohash_0.wav', '6e41a77e_nohash_0.wav', 'b1114e4f_nohash_0.wav', 'f3d06008_nohash_1.wav', '00f0204f_nohash_0.wav', '850e2222_nohash_0.wav', '4a803e67_nohash_1.wav', 'dabf67d9_nohash_0.wav', '824e8ce5_nohash_0.wav', '9d4bab4f_nohash_0.wav', 'b55a09be_nohash_0.wav', '325a0c39_nohash_0.wav', '6f9088d7_nohash_0.wav', 'd9b50b8b_nohash_0.wav', 'c68cf200_nohash_0.wav', 'edd8bfe3_nohash_0.wav', '0717b9f6_nohash_0.wav', 'd98dd124_nohash_0.wav', 'dd6c6806_nohash_0.wav', '7dc95912_nohash_0.wav', 'aa80f517_nohash_0.wav', '18c54a68_nohash_2.wav', 'c885a039_nohash_1.wav', '257e17e0_nohash_0.wav', 'cc3b5b62_nohash_0.wav', 'cb2929ce_nohash_0.wav', '37dca74f_nohash_0.wav', '4ca37738_nohash_1.wav', '5e033479_nohash_0.wav', '7192fddc_nohash_0.wav', '39ec87ac_nohash_0.wav', 'f2898d06_nohash_0.wav', 'f34e6f44_nohash_1.wav', 'da8fa823_nohash_0.wav', 'df6bd83f_nohash_0.wav', '4874a7e9_nohash_0.wav', 'c781f251_nohash_0.wav', 'c245d3d7_nohash_1.wav', 'c2657ba5_nohash_1.wav', '14872d06_nohash_0.wav', '1890e5c3_nohash_0.wav', '48463cbc_nohash_0.wav', '651d108f_nohash_0.wav', '8ea22de7_nohash_0.wav', '4c841771_nohash_0.wav', 'eeaf97c3_nohash_0.wav', '924c1a04_nohash_0.wav', '1afd49bf_nohash_1.wav', '77def3ee_nohash_0.wav', '9c59dd28_nohash_0.wav', 'ff4ed4f3_nohash_0.wav', '85d2ac4b_nohash_1.wav', 'd2eae23d_nohash_0.wav', 'f297e878_nohash_0.wav', '1df99a8a_nohash_0.wav', '4f256313_nohash_0.wav', 'efbb27a6_nohash_0.wav', '26e573a9_nohash_0.wav', 'd53e25ba_nohash_1.wav', '9fa86a74_nohash_1.wav', '0ea9c8ce_nohash_0.wav', 'b26343e9_nohash_2.wav', '4c594e0f_nohash_0.wav', '7c9b43f0_nohash_0.wav', 'b4aa9fef_nohash_0.wav', '8bbd98d0_nohash_0.wav', '34e8c726_nohash_0.wav', '5828dfa2_nohash_1.wav', '4c432947_nohash_0.wav', '19785c4e_nohash_1.wav', 'adebe223_nohash_0.wav', '1a6eca98_nohash_0.wav', '78102205_nohash_0.wav', 'a8f45bdc_nohash_0.wav', 'a4baac4e_nohash_1.wav', 'cfde27ba_nohash_0.wav', '9b5815cd_nohash_2.wav', '1746d7b6_nohash_0.wav', 'c0cb43d6_nohash_1.wav', '6565a81d_nohash_0.wav', '66aa0f29_nohash_0.wav', '0362539c_nohash_0.wav', '18a8f03f_nohash_0.wav', 'da040491_nohash_0.wav', '3cdecb0b_nohash_0.wav', '265bd13a_nohash_1.wav', '863880b7_nohash_1.wav', '5f8e50a0_nohash_0.wav', '409c962a_nohash_0.wav', 'e4a2cf79_nohash_1.wav', '6f342826_nohash_3.wav', '99081f4d_nohash_0.wav', '23ad12d8_nohash_0.wav', 'afb9e62e_nohash_1.wav', '113b3fbc_nohash_0.wav', '20a0d54b_nohash_0.wav', '1bb6ed89_nohash_1.wav', 'fb7eb481_nohash_0.wav', 'c0f8f4df_nohash_0.wav', '652b3da7_nohash_0.wav', '4845bb10_nohash_0.wav', 'f21893dc_nohash_2.wav', 'b7016c27_nohash_0.wav', '19f9c115_nohash_0.wav', '9c06a3f3_nohash_0.wav', 'bcdaa7a9_nohash_0.wav', '4c432947_nohash_2.wav', '7846fd85_nohash_0.wav', '47565088_nohash_1.wav', '19785c4e_nohash_0.wav', 'b97c9f77_nohash_0.wav', '39a6b995_nohash_0.wav', '5b32733e_nohash_1.wav', 'cce7416f_nohash_0.wav', '96a48d28_nohash_0.wav', '71d0ded4_nohash_0.wav', '37e8db82_nohash_0.wav', '050170cb_nohash_0.wav', '3209ec42_nohash_0.wav', 'a996cf66_nohash_1.wav', 'd9b50b8b_nohash_1.wav', 'a62f807b_nohash_0.wav', 'c692524d_nohash_0.wav', 'cc554de3_nohash_0.wav', 'a331d9cb_nohash_0.wav', '3143fdff_nohash_0.wav', 'ead2934a_nohash_0.wav', 'b69002d4_nohash_0.wav', '5af0ca83_nohash_0.wav', '4620dc14_nohash_0.wav', '64a80906_nohash_0.wav', '3d53244b_nohash_0.wav', '89f680f3_nohash_0.wav', '7fa5fa1f_nohash_0.wav', '012c8314_nohash_0.wav', 'f7879738_nohash_1.wav', 'c79159aa_nohash_0.wav', '3837f3f3_nohash_0.wav', '2cf28b70_nohash_0.wav', 'bf90a57a_nohash_0.wav', '2c727642_nohash_0.wav', '63f7a489_nohash_0.wav', 'a518d1cf_nohash_0.wav', 'bc065a17_nohash_2.wav', '3e31dffe_nohash_0.wav', '026290a7_nohash_0.wav', 'f34e6f44_nohash_2.wav', 'e72aa705_nohash_0.wav', '21cbe292_nohash_0.wav', 'caa4779f_nohash_0.wav', 'be7a5b2d_nohash_0.wav', 'cf8d91cf_nohash_0.wav', '6c429c7b_nohash_0.wav', '1ecfb537_nohash_0.wav', 'fac7deca_nohash_0.wav', '83f9c4ab_nohash_0.wav', 'ae927455_nohash_0.wav', '69953f48_nohash_0.wav', '5b1db3ee_nohash_2.wav', '3209ec42_nohash_1.wav', '99fad6a0_nohash_1.wav', 'ee07dcb9_nohash_2.wav', 'ab00c4b2_nohash_0.wav', 'e55a2b20_nohash_0.wav', 'a3255f5c_nohash_0.wav', '6d1dcca6_nohash_0.wav', '4beff0c5_nohash_2.wav', 'f9af823e_nohash_1.wav', '1df483c0_nohash_0.wav', '7081436f_nohash_1.wav', '5705a0f9_nohash_1.wav', '47565088_nohash_2.wav', '50a7d406_nohash_0.wav', '0397ecda_nohash_0.wav', 'b9f46737_nohash_0.wav', '3eb8764c_nohash_1.wav', '0165e0e8_nohash_0.wav', 'bf5d409d_nohash_1.wav', 'e41a903b_nohash_0.wav', 'c099668c_nohash_3.wav', 'bbaa7946_nohash_0.wav', '215699ff_nohash_0.wav', '6a700f9d_nohash_0.wav', 'f5e5e8b0_nohash_2.wav', 'f9643d42_nohash_0.wav', '34263ab3_nohash_1.wav', '876c84d6_nohash_1.wav', '30276d03_nohash_0.wav', '78884794_nohash_0.wav', 'c0e0f834_nohash_0.wav', '0b56bcfe_nohash_0.wav', '686d030b_nohash_0.wav', '435f9f9e_nohash_0.wav', '2bd2cad5_nohash_0.wav', '92b2bf59_nohash_0.wav', 'a5609cce_nohash_0.wav', 'ad5aeec2_nohash_0.wav', 'd2f4f431_nohash_2.wav', '541e4079_nohash_0.wav', '4b3a7ad5_nohash_1.wav', '3e3fa7fd_nohash_0.wav', '3ed3e49a_nohash_2.wav', '94e6864f_nohash_4.wav', 'd94eb94f_nohash_0.wav', '638548d5_nohash_0.wav', 'd3831f6a_nohash_0.wav', '3ab9ba07_nohash_0.wav', '17c94b23_nohash_0.wav', 'af790082_nohash_0.wav', '215699ff_nohash_1.wav', '6205088b_nohash_2.wav', 'd103dd6e_nohash_1.wav', '6b7d5101_nohash_0.wav', '1c3f50ad_nohash_0.wav', '73124b26_nohash_0.wav', 'c93d5e22_nohash_0.wav', 'cf68fad2_nohash_0.wav', 'de650823_nohash_0.wav', '825f450d_nohash_0.wav', '5b1db3ee_nohash_3.wav', '30065f33_nohash_0.wav', '531a5b8a_nohash_0.wav', '617de221_nohash_0.wav', '94e6864f_nohash_1.wav', '1b755c65_nohash_1.wav', 'd5ca80c6_nohash_0.wav', 'c4cfbe43_nohash_0.wav', '79903546_nohash_0.wav', '81a345a3_nohash_0.wav', '747e69fd_nohash_0.wav', '5677ec77_nohash_0.wav', '7dc50b88_nohash_0.wav', 'bdb90d38_nohash_0.wav', '173ce2be_nohash_1.wav', 'ab81c9c8_nohash_0.wav', '01b4757a_nohash_0.wav', 'cc3d1613_nohash_2.wav', '850e2222_nohash_1.wav', 'c4e1f6e0_nohash_0.wav', 'f44f440f_nohash_0.wav', '09bcdc9d_nohash_0.wav', 'a24cf51c_nohash_0.wav', 'c256377f_nohash_1.wav', '61abbf52_nohash_0.wav', '8b775397_nohash_0.wav', 'cc3d1613_nohash_0.wav', '43f57297_nohash_1.wav', '65d81c54_nohash_0.wav', '28612180_nohash_2.wav', '57152045_nohash_1.wav', 'e72aa705_nohash_1.wav', 'b49caed3_nohash_0.wav', '146d97db_nohash_0.wav', 'a8cf01bc_nohash_1.wav', 'd0745d72_nohash_0.wav', 'ab5ae445_nohash_1.wav', '4b25f620_nohash_0.wav', 'f638a812_nohash_1.wav', 'd9b8fab2_nohash_0.wav', 'ede2f4ee_nohash_1.wav', 'd78858d9_nohash_0.wav', 'ce49cb60_nohash_1.wav', 'b41a92a3_nohash_0.wav', '529eda42_nohash_0.wav', '813b82a6_nohash_0.wav', 'e6327279_nohash_0.wav', 'd8a5ace5_nohash_0.wav', 'd9ae8983_nohash_0.wav', '229978fd_nohash_0.wav', 'ab5d7179_nohash_0.wav', '98447c43_nohash_0.wav', 'f68160c0_nohash_0.wav', '653a48f5_nohash_0.wav', 'ccfd721c_nohash_0.wav', 'bbb2eb5b_nohash_0.wav', 'f2b8fc18_nohash_0.wav', '8c7c9168_nohash_0.wav', 'dce5041a_nohash_1.wav', '8a0457c9_nohash_1.wav', 'c33682f0_nohash_0.wav', 'db24628d_nohash_0.wav', '5aac2efa_nohash_0.wav', 'e7117d00_nohash_0.wav', '66041c69_nohash_0.wav', '40738a2d_nohash_0.wav', '91cdef62_nohash_0.wav', '44260689_nohash_0.wav', '4ca37738_nohash_0.wav', '67c7fecb_nohash_0.wav', 'fe291fa9_nohash_0.wav', '262d7a03_nohash_0.wav', '6f2f57c1_nohash_1.wav', 'a527cb3c_nohash_0.wav', '9a7c1f83_nohash_0.wav', 'c53b335a_nohash_0.wav', '708a9569_nohash_1.wav', '7a5530c9_nohash_1.wav', '587f3271_nohash_0.wav', '964c7c9e_nohash_0.wav', '62581901_nohash_1.wav', 'ff0e27c3_nohash_0.wav', '837f7378_nohash_0.wav', 'a3255f5c_nohash_1.wav', '4b3a7ad5_nohash_0.wav', 'da7689f1_nohash_1.wav', '2313e093_nohash_0.wav', '4fd1443e_nohash_0.wav', '8f3f252c_nohash_0.wav', '6ef407da_nohash_0.wav', 'c678e0b3_nohash_0.wav', 'fbb56351_nohash_0.wav', 'dce5041a_nohash_0.wav', '4e61bf96_nohash_1.wav', 'a8cb6dda_nohash_1.wav', '1aed7c6d_nohash_0.wav', '51995cea_nohash_0.wav', '1e412fac_nohash_0.wav', '765ffccb_nohash_0.wav', 'd84829e0_nohash_0.wav', 'b55a09be_nohash_2.wav', '64e48f55_nohash_0.wav', '462e1919_nohash_1.wav', '41777abb_nohash_0.wav', 'ab46af55_nohash_0.wav', 'b8874962_nohash_0.wav', '716757ce_nohash_1.wav', '16fce7de_nohash_0.wav', '2c6d3924_nohash_0.wav', 'c08e5058_nohash_0.wav', '857366dd_nohash_0.wav', '52bfbce8_nohash_0.wav', '62ccd358_nohash_0.wav', '1b4c9b89_nohash_0.wav', '4bb1244f_nohash_1.wav', '17cc40ee_nohash_0.wav', '52bfbce8_nohash_1.wav', '65c73b55_nohash_0.wav', '5a5721f8_nohash_0.wav', 'e8c3c5ca_nohash_1.wav', 'df5457dc_nohash_0.wav', '6b889021_nohash_0.wav', '4407ba92_nohash_0.wav', 'cb164eea_nohash_0.wav', '19785c4e_nohash_2.wav', '365908bd_nohash_0.wav', '72aa7259_nohash_0.wav', '62ff07ef_nohash_0.wav', '7eee5973_nohash_0.wav', 'cb802c63_nohash_1.wav', '52162b51_nohash_0.wav', '1ed0b13d_nohash_0.wav', 'e269bac0_nohash_1.wav', '6f7724f5_nohash_0.wav', 'd2f4f431_nohash_1.wav', 'caa7feaf_nohash_0.wav', '625fd898_nohash_0.wav', '44e9d8d2_nohash_0.wav', 'f736ab63_nohash_0.wav', '339f2c5c_nohash_0.wav', '472b8045_nohash_0.wav', '28ce0c58_nohash_0.wav', '5b32733e_nohash_0.wav', '54ad8f22_nohash_0.wav', '13dce503_nohash_0.wav', '2d92f18b_nohash_0.wav', '902258bb_nohash_1.wav', '82c6d220_nohash_0.wav', 'ea356919_nohash_0.wav', '28ed6bc9_nohash_0.wav', '004ae714_nohash_0.wav', 'a8cf01bc_nohash_0.wav', 'c4e00ee9_nohash_0.wav', 'd6360b32_nohash_0.wav', '0b09edd3_nohash_0.wav', 'cd8b1781_nohash_0.wav', '5a3712c9_nohash_0.wav', '8aa35b0c_nohash_1.wav', 'd85270c1_nohash_0.wav', '0a196374_nohash_0.wav', '27b03931_nohash_0.wav', '65040d9b_nohash_0.wav', 'c245d3d7_nohash_0.wav', '4e61bf96_nohash_2.wav', '518588b6_nohash_1.wav', '05739450_nohash_0.wav', '30f31e42_nohash_0.wav', '6021f08b_nohash_1.wav', '3efa7ec4_nohash_2.wav', 'e91d173e_nohash_0.wav', 'd103dd6e_nohash_0.wav', '0e5193e6_nohash_0.wav', '78102205_nohash_1.wav', 'b9cccd01_nohash_0.wav', '004ae714_nohash_1.wav', '64da5281_nohash_1.wav', '40115b19_nohash_0.wav', 'a996cf66_nohash_0.wav', '9beccfc8_nohash_0.wav', 'b5cf6ea8_nohash_0.wav', '161fcca8_nohash_0.wav', 'b7a6f709_nohash_1.wav', '9886d8bf_nohash_0.wav', '937b433e_nohash_0.wav', 'dfdabe19_nohash_0.wav', '563aa4e6_nohash_0.wav', 'e20be42a_nohash_2.wav', '2aec99ec_nohash_0.wav', '8ec6dab6_nohash_0.wav', '48a9f771_nohash_1.wav', 'da2c5f1b_nohash_0.wav', '18c54a68_nohash_4.wav', '2d82a556_nohash_0.wav', '1a0f9c63_nohash_1.wav', '39afb88e_nohash_0.wav', 'a4baac4e_nohash_0.wav', 'b46e8153_nohash_0.wav', 'cee22275_nohash_1.wav', 'd1d3e64d_nohash_0.wav', 'd3d8fcd0_nohash_0.wav', '8f3f252c_nohash_1.wav', '3fb8c268_nohash_0.wav', 'bd8412df_nohash_0.wav', '2aca1e72_nohash_0.wav', 'b72e58c9_nohash_0.wav', '789e4ee7_nohash_0.wav', '8d8d9855_nohash_1.wav', 'b87bdb22_nohash_0.wav', '73f20b00_nohash_0.wav', '716757ce_nohash_0.wav', '64df20d8_nohash_0.wav', 'a05a90c1_nohash_0.wav', 'ac7840d8_nohash_0.wav', '30060aba_nohash_0.wav', '26a093e1_nohash_1.wav', '1706c35f_nohash_1.wav', '9a76f8c3_nohash_0.wav', '951cac20_nohash_1.wav', '9587481f_nohash_0.wav', '63996b7c_nohash_0.wav', 'ad89eb1e_nohash_0.wav', '4fce7686_nohash_1.wav', 'a19452d5_nohash_1.wav', 'f4f59743_nohash_1.wav', '50033893_nohash_1.wav', '00176480_nohash_0.wav', 'db9d52d2_nohash_1.wav', 'd7a58714_nohash_0.wav', '772db621_nohash_1.wav', '590750e8_nohash_0.wav', '24ed94ab_nohash_1.wav', 'bbd0bbd0_nohash_0.wav', 'fa446c16_nohash_1.wav', '62b7c848_nohash_0.wav', '97e0c576_nohash_3.wav', '2ce7534c_nohash_0.wav', '0e17f595_nohash_1.wav', 'e3411931_nohash_0.wav', 'bfa63751_nohash_0.wav', 'f9f9751d_nohash_0.wav', '8a5acefd_nohash_0.wav', 'c351e611_nohash_0.wav', '3903b558_nohash_0.wav', '652b3da7_nohash_2.wav', '92a9c5e6_nohash_0.wav', 'a1a59b72_nohash_0.wav', '235b444f_nohash_0.wav', '4c6167ca_nohash_0.wav', '6f5b4d3d_nohash_2.wav', '7257420c_nohash_0.wav', '3b852f6f_nohash_1.wav', '9b8a7439_nohash_0.wav', 'ddedba85_nohash_1.wav', '42c6fff1_nohash_1.wav', '93ec8b84_nohash_0.wav', '650daf8e_nohash_0.wav', '840eab5a_nohash_0.wav', 'cd85758f_nohash_0.wav', 'c205e625_nohash_1.wav', '8335f893_nohash_0.wav', '2b3f509b_nohash_0.wav', '32efce64_nohash_1.wav', 'a2473d62_nohash_1.wav', 'f0ae7203_nohash_0.wav', 'dae01802_nohash_0.wav', '0a7c2a8d_nohash_0.wav', 'a84dee7b_nohash_0.wav', 'bdee441c_nohash_0.wav', '0474c92a_nohash_1.wav', '0d82fd99_nohash_0.wav', '97f4c236_nohash_0.wav', '48a9f771_nohash_0.wav', 'd1dd03ed_nohash_0.wav', 'fe1916ba_nohash_0.wav', '8442ea62_nohash_0.wav', 'ab5ae445_nohash_0.wav', '0227998e_nohash_0.wav', '1aed7c6d_nohash_1.wav', '44c201dd_nohash_0.wav', 'a50a98d2_nohash_0.wav', 'fa52ddf6_nohash_0.wav', 'ab7b5acd_nohash_0.wav', 'f638a812_nohash_0.wav', '171edea9_nohash_0.wav', 'c842b5e4_nohash_0.wav', '86402da1_nohash_0.wav', '619b5164_nohash_1.wav', 'ae04cdbe_nohash_0.wav', '172dc2b0_nohash_1.wav', '6aa8def4_nohash_0.wav', '57de2379_nohash_1.wav', '172dc2b0_nohash_2.wav', 'dabd70c2_nohash_0.wav', '64220627_nohash_1.wav', '881583a6_nohash_0.wav', '87070229_nohash_0.wav', 'f0ebef1b_nohash_0.wav', 'edc53350_nohash_0.wav', 'eb6dab4a_nohash_1.wav', 'c256377f_nohash_0.wav', '86648261_nohash_1.wav', 'd3c2470e_nohash_0.wav', '50f55535_nohash_0.wav', '71f6fed7_nohash_0.wav', '87c62767_nohash_0.wav', 'd9d6559e_nohash_0.wav', '7add4c5f_nohash_0.wav', '6021f08b_nohash_0.wav', '6366f61a_nohash_0.wav', '8f447c3e_nohash_1.wav', 'c6ee87a7_nohash_0.wav', 'ace82a68_nohash_1.wav', 'cee22275_nohash_0.wav', 'c98bbbd3_nohash_0.wav', 'e0ff1e9c_nohash_0.wav', '66cff190_nohash_2.wav', '8eb4a1bf_nohash_0.wav', 'a331d9cb_nohash_1.wav', '8b367d88_nohash_0.wav', '7eee5973_nohash_1.wav', 'c6ca5d01_nohash_0.wav', '81a345a3_nohash_1.wav', '42c6fff1_nohash_0.wav', '29dce108_nohash_0.wav', 'fc94edb0_nohash_0.wav', '283d7a53_nohash_0.wav', 'd8c52371_nohash_0.wav', '8fe67225_nohash_0.wav', '6a1908f8_nohash_0.wav', '62f05757_nohash_0.wav', '34ba417a_nohash_0.wav', 'ce9410da_nohash_1.wav', 'ccea893d_nohash_0.wav', '5d9bb361_nohash_1.wav', '7ff085e1_nohash_1.wav', '0b77ee66_nohash_1.wav', '88e85150_nohash_2.wav', 'fc3ba625_nohash_0.wav', '3d6bee47_nohash_0.wav', 'f104f742_nohash_2.wav', '25e95412_nohash_1.wav', 'f9af0887_nohash_0.wav', '5f5eef60_nohash_0.wav', '619b5164_nohash_0.wav', '80fe1dc7_nohash_0.wav', 'a2b16113_nohash_1.wav', '99e6cab8_nohash_1.wav', '94e6864f_nohash_2.wav', '86402da1_nohash_1.wav', '1df99a8a_nohash_1.wav', '2c727642_nohash_1.wav', 'b3bdded5_nohash_0.wav', '5ff3f9a1_nohash_0.wav', 'd6b155a5_nohash_0.wav', '7799c9cd_nohash_1.wav', '5d9bb361_nohash_0.wav', '035de8fe_nohash_0.wav', '238c112c_nohash_0.wav', 'ea0cf37f_nohash_0.wav', 'c1eebc0b_nohash_0.wav', 'cdee383b_nohash_0.wav', 'b93528e3_nohash_0.wav', '57cb3575_nohash_1.wav', '079dfce3_nohash_1.wav', '197f4153_nohash_0.wav', 'd8521ea0_nohash_0.wav', '6b889021_nohash_1.wav', 'e7334395_nohash_2.wav', '6347b393_nohash_0.wav', '92e17cc4_nohash_0.wav', '4abefdf5_nohash_0.wav', '96c67073_nohash_1.wav', '012c8314_nohash_1.wav', 'c90c0105_nohash_1.wav', '07c5129e_nohash_0.wav', 'e9b61425_nohash_3.wav', '7ff085e1_nohash_0.wav', 'facd97c0_nohash_0.wav', '80c17118_nohash_0.wav', 'c099668c_nohash_0.wav', '3e3b65eb_nohash_0.wav', 'ace82a68_nohash_0.wav', '2be08ce4_nohash_0.wav', '57376a4c_nohash_0.wav', 'bc065a17_nohash_1.wav', 'b6ebe225_nohash_1.wav', '85d2ac4b_nohash_0.wav', '81898f68_nohash_0.wav', 'fafe8101_nohash_0.wav', '30065f33_nohash_1.wav', '9aa21fa9_nohash_0.wav', 'afabfa0e_nohash_0.wav', 'd57febf0_nohash_0.wav', 'cc71bada_nohash_1.wav', '210f3aa9_nohash_0.wav', 'ed032775_nohash_0.wav', '43f57297_nohash_0.wav', 'c50f55b8_nohash_2.wav', '324210dd_nohash_0.wav', '42e3f068_nohash_0.wav', '31270cb2_nohash_1.wav', '31d68957_nohash_0.wav', 'ba59cab3_nohash_0.wav', 'd5cdb23e_nohash_0.wav', '1365dd89_nohash_0.wav', '3565ca83_nohash_0.wav', '305776dd_nohash_1.wav', '80c45ed6_nohash_0.wav', '8c888bbb_nohash_0.wav', 'a7dd45cf_nohash_0.wav', '4bb1244f_nohash_0.wav', '616420be_nohash_0.wav', 'ef3367d9_nohash_0.wav', '6166ae21_nohash_0.wav', 'fbe51750_nohash_0.wav', '91b03183_nohash_0.wav', 'a1c63f25_nohash_0.wav', 'd37e4bf1_nohash_0.wav', 'b52bd596_nohash_0.wav', '96c67073_nohash_0.wav', 'fbb2f6cc_nohash_0.wav', '591d32f3_nohash_1.wav', '099d52ad_nohash_0.wav', '948867e7_nohash_0.wav', '23da904f_nohash_0.wav', 'cb802c63_nohash_0.wav', '1a073312_nohash_0.wav', 'fa57ab3b_nohash_0.wav', '418e7158_nohash_0.wav', '88a487ce_nohash_0.wav', '587f3271_nohash_1.wav', '5fb88f4c_nohash_0.wav', '48463cbc_nohash_2.wav', 'a8ee11c7_nohash_0.wav', 'c7dc7278_nohash_0.wav', '079dfce3_nohash_2.wav', 'c692524d_nohash_1.wav', '605ed0ff_nohash_1.wav', '1cbcc7a7_nohash_0.wav', 'e98cb283_nohash_0.wav', 'ec545975_nohash_3.wav', 'cc6ee39b_nohash_0.wav', 'b43c8f2f_nohash_1.wav', '8d8d9855_nohash_2.wav', 'f5d09ebd_nohash_0.wav', '4407ba92_nohash_1.wav', '0362539c_nohash_1.wav', 'c205e625_nohash_0.wav', 'f19d1738_nohash_0.wav', 'f4386675_nohash_0.wav', 'c5e3817f_nohash_0.wav', '9efe5140_nohash_0.wav', 'c0cb43d6_nohash_0.wav', '9ff2d2f4_nohash_0.wav', '8281a2a8_nohash_0.wav', 'cb72dfb6_nohash_0.wav', 'b21f0fa4_nohash_0.wav', 'da5dadb9_nohash_0.wav', 'fce65496_nohash_0.wav', 'c948d727_nohash_0.wav']]\n"
          ]
        }
      ]
    },
    {
      "cell_type": "code",
      "source": [
        "# Check ground truth Y vector\n",
        "\n",
        "print(y)"
      ],
      "metadata": {
        "colab": {
          "base_uri": "https://localhost:8080/"
        },
        "id": "vnHiyRmR9vtb",
        "outputId": "67b2d495-485a-4cbb-d8e4-5ee83910b076"
      },
      "execution_count": null,
      "outputs": [
        {
          "output_type": "stream",
          "name": "stdout",
          "text": [
            "[array([0., 0., 0., 0., 0., 0., 0., 0., 0., 0., 0., 0., 0., 0., 0., 0., 0.,\n",
            "       0., 0., 0., 0., 0., 0., 0., 0., 0., 0., 0., 0., 0., 0., 0., 0., 0.,\n",
            "       0., 0., 0., 0., 0., 0., 0., 0., 0., 0., 0., 0., 0., 0., 0., 0., 0.,\n",
            "       0., 0., 0., 0., 0., 0., 0., 0., 0., 0., 0., 0., 0., 0., 0., 0., 0.,\n",
            "       0., 0., 0., 0., 0., 0., 0., 0., 0., 0., 0., 0., 0., 0., 0., 0., 0.,\n",
            "       0., 0., 0., 0., 0., 0., 0., 0., 0., 0., 0., 0., 0., 0., 0., 0., 0.,\n",
            "       0., 0., 0., 0., 0., 0., 0., 0., 0., 0., 0., 0., 0., 0., 0., 0., 0.,\n",
            "       0., 0., 0., 0., 0., 0., 0., 0., 0., 0., 0., 0., 0., 0., 0., 0., 0.,\n",
            "       0., 0., 0., 0., 0., 0., 0., 0., 0., 0., 0., 0., 0., 0., 0., 0., 0.,\n",
            "       0., 0., 0., 0., 0., 0., 0., 0., 0., 0., 0., 0., 0., 0., 0., 0., 0.,\n",
            "       0., 0., 0., 0., 0., 0., 0., 0., 0., 0., 0., 0., 0., 0., 0., 0., 0.,\n",
            "       0., 0., 0., 0., 0., 0., 0., 0., 0., 0., 0., 0., 0., 0., 0., 0., 0.,\n",
            "       0., 0., 0., 0., 0., 0., 0., 0., 0., 0., 0., 0., 0., 0., 0., 0., 0.,\n",
            "       0., 0., 0., 0., 0., 0., 0., 0., 0., 0., 0., 0., 0., 0., 0., 0., 0.,\n",
            "       0., 0., 0., 0., 0., 0., 0., 0., 0., 0., 0., 0., 0., 0., 0., 0., 0.,\n",
            "       0., 0., 0., 0., 0., 0., 0., 0., 0., 0., 0., 0., 0., 0., 0., 0., 0.,\n",
            "       0., 0., 0., 0., 0., 0., 0., 0., 0., 0., 0., 0., 0., 0., 0., 0., 0.,\n",
            "       0., 0., 0., 0., 0., 0., 0., 0., 0., 0., 0., 0., 0., 0., 0., 0., 0.,\n",
            "       0., 0., 0., 0., 0., 0., 0., 0., 0., 0., 0., 0., 0., 0., 0., 0., 0.,\n",
            "       0., 0., 0., 0., 0., 0., 0., 0., 0., 0., 0., 0., 0., 0., 0., 0., 0.,\n",
            "       0., 0., 0., 0., 0., 0., 0., 0., 0., 0., 0., 0., 0., 0., 0., 0., 0.,\n",
            "       0., 0., 0., 0., 0., 0., 0., 0., 0., 0., 0., 0., 0., 0., 0., 0., 0.,\n",
            "       0., 0., 0., 0., 0., 0., 0., 0., 0., 0., 0., 0., 0., 0., 0., 0., 0.,\n",
            "       0., 0., 0., 0., 0., 0., 0., 0.]), array([1., 1., 1., 1., 1., 1., 1., 1., 1., 1., 1., 1., 1., 1., 1., 1., 1.,\n",
            "       1., 1., 1., 1., 1., 1., 1., 1., 1., 1., 1., 1., 1., 1., 1., 1., 1.,\n",
            "       1., 1., 1., 1., 1., 1., 1., 1., 1., 1., 1., 1., 1., 1., 1., 1., 1.,\n",
            "       1., 1., 1., 1., 1., 1., 1., 1., 1., 1., 1., 1., 1., 1., 1., 1., 1.,\n",
            "       1., 1., 1., 1., 1., 1., 1., 1., 1., 1., 1., 1., 1., 1., 1., 1., 1.,\n",
            "       1., 1., 1., 1., 1., 1., 1., 1., 1., 1., 1., 1., 1., 1., 1., 1., 1.,\n",
            "       1., 1., 1., 1., 1., 1., 1., 1., 1., 1., 1., 1., 1., 1., 1., 1., 1.,\n",
            "       1., 1., 1., 1., 1., 1., 1., 1., 1., 1., 1., 1., 1., 1., 1., 1., 1.,\n",
            "       1., 1., 1., 1., 1., 1., 1., 1., 1., 1., 1., 1., 1., 1., 1., 1., 1.,\n",
            "       1., 1., 1., 1., 1., 1., 1., 1., 1., 1., 1., 1., 1., 1., 1., 1., 1.,\n",
            "       1., 1., 1., 1., 1., 1., 1., 1., 1., 1., 1., 1., 1., 1., 1., 1., 1.,\n",
            "       1., 1., 1., 1., 1., 1., 1., 1., 1., 1., 1., 1., 1., 1., 1., 1., 1.,\n",
            "       1., 1., 1., 1., 1., 1., 1., 1., 1., 1., 1., 1., 1., 1., 1., 1., 1.,\n",
            "       1., 1., 1., 1., 1., 1., 1., 1., 1., 1., 1., 1., 1., 1., 1., 1., 1.,\n",
            "       1., 1., 1., 1., 1., 1., 1., 1., 1., 1., 1., 1., 1., 1., 1., 1., 1.,\n",
            "       1., 1., 1., 1., 1., 1., 1., 1., 1., 1., 1., 1., 1., 1., 1., 1., 1.,\n",
            "       1., 1., 1., 1., 1., 1., 1., 1., 1., 1., 1., 1., 1., 1., 1., 1., 1.,\n",
            "       1., 1., 1., 1., 1., 1., 1., 1., 1., 1., 1., 1., 1., 1., 1., 1., 1.,\n",
            "       1., 1., 1., 1., 1., 1., 1., 1., 1., 1., 1., 1., 1., 1., 1., 1., 1.,\n",
            "       1., 1., 1., 1., 1., 1., 1., 1., 1., 1., 1., 1., 1., 1., 1., 1., 1.,\n",
            "       1., 1., 1., 1., 1., 1., 1., 1., 1., 1., 1., 1., 1., 1., 1., 1., 1.,\n",
            "       1., 1., 1., 1., 1., 1., 1., 1., 1., 1., 1., 1., 1., 1., 1., 1., 1.,\n",
            "       1., 1., 1., 1., 1., 1., 1., 1., 1., 1., 1., 1., 1., 1., 1., 1., 1.,\n",
            "       1., 1., 1., 1., 1., 1., 1., 1., 1., 1., 1., 1., 1., 1., 1., 1., 1.]), array([2., 2., 2., 2., 2., 2., 2., 2., 2., 2., 2., 2., 2., 2., 2., 2., 2.,\n",
            "       2., 2., 2., 2., 2., 2., 2., 2., 2., 2., 2., 2., 2., 2., 2., 2., 2.,\n",
            "       2., 2., 2., 2., 2., 2., 2., 2., 2., 2., 2., 2., 2., 2., 2., 2., 2.,\n",
            "       2., 2., 2., 2., 2., 2., 2., 2., 2., 2., 2., 2., 2., 2., 2., 2., 2.,\n",
            "       2., 2., 2., 2., 2., 2., 2., 2., 2., 2., 2., 2., 2., 2., 2., 2., 2.,\n",
            "       2., 2., 2., 2., 2., 2., 2., 2., 2., 2., 2., 2., 2., 2., 2., 2., 2.,\n",
            "       2., 2., 2., 2., 2., 2., 2., 2., 2., 2., 2., 2., 2., 2., 2., 2., 2.,\n",
            "       2., 2., 2., 2., 2., 2., 2., 2., 2., 2., 2., 2., 2., 2., 2., 2., 2.,\n",
            "       2., 2., 2., 2., 2., 2., 2., 2., 2., 2., 2., 2., 2., 2., 2., 2., 2.,\n",
            "       2., 2., 2., 2., 2., 2., 2., 2., 2., 2., 2., 2., 2., 2., 2., 2., 2.,\n",
            "       2., 2., 2., 2., 2., 2., 2., 2., 2., 2., 2., 2., 2., 2., 2., 2., 2.,\n",
            "       2., 2., 2., 2., 2., 2., 2., 2., 2., 2., 2., 2., 2., 2., 2., 2., 2.,\n",
            "       2., 2., 2., 2., 2., 2., 2., 2., 2., 2., 2., 2., 2., 2., 2., 2., 2.,\n",
            "       2., 2., 2., 2., 2., 2., 2., 2., 2., 2., 2., 2., 2., 2., 2., 2., 2.,\n",
            "       2., 2., 2., 2., 2., 2., 2., 2., 2., 2., 2., 2., 2., 2., 2., 2., 2.,\n",
            "       2., 2., 2., 2., 2., 2., 2., 2., 2., 2., 2., 2., 2., 2., 2., 2., 2.,\n",
            "       2., 2., 2., 2., 2., 2., 2., 2., 2., 2., 2., 2., 2., 2., 2., 2., 2.,\n",
            "       2., 2., 2., 2., 2., 2., 2., 2., 2., 2., 2., 2., 2., 2., 2., 2., 2.,\n",
            "       2., 2., 2., 2., 2., 2., 2., 2., 2., 2., 2., 2., 2., 2., 2., 2., 2.,\n",
            "       2., 2., 2., 2., 2., 2., 2., 2., 2., 2., 2., 2., 2., 2., 2., 2., 2.,\n",
            "       2., 2., 2., 2., 2., 2., 2., 2., 2., 2., 2., 2., 2., 2., 2., 2., 2.,\n",
            "       2., 2., 2., 2., 2., 2., 2., 2., 2., 2., 2., 2., 2., 2., 2., 2., 2.,\n",
            "       2., 2., 2., 2., 2., 2., 2., 2., 2., 2., 2., 2., 2., 2., 2., 2., 2.,\n",
            "       2., 2., 2., 2., 2., 2., 2., 2., 2., 2., 2., 2., 2., 2., 2., 2., 2.]), array([3., 3., 3., ..., 3., 3., 3.]), array([4., 4., 4., ..., 4., 4., 4.]), array([5., 5., 5., ..., 5., 5., 5.]), array([6., 6., 6., ..., 6., 6., 6.]), array([7., 7., 7., ..., 7., 7., 7.]), array([8., 8., 8., ..., 8., 8., 8.]), array([9., 9., 9., ..., 9., 9., 9.]), array([10., 10., 10., ..., 10., 10., 10.]), array([11., 11., 11., ..., 11., 11., 11.]), array([12., 12., 12., ..., 12., 12., 12.]), array([13., 13., 13., ..., 13., 13., 13.]), array([14., 14., 14., ..., 14., 14., 14.]), array([15., 15., 15., ..., 15., 15., 15.]), array([16., 16., 16., ..., 16., 16., 16.]), array([17., 17., 17., ..., 17., 17., 17.]), array([18., 18., 18., ..., 18., 18., 18.]), array([19., 19., 19., ..., 19., 19., 19.]), array([20., 20., 20., ..., 20., 20., 20.]), array([21., 21., 21., ..., 21., 21., 21.]), array([22., 22., 22., ..., 22., 22., 22.]), array([23., 23., 23., ..., 23., 23., 23.]), array([24., 24., 24., ..., 24., 24., 24.]), array([25., 25., 25., ..., 25., 25., 25.]), array([26., 26., 26., ..., 26., 26., 26.]), array([27., 27., 27., ..., 27., 27., 27.]), array([28., 28., 28., ..., 28., 28., 28.]), array([29., 29., 29., ..., 29., 29., 29.]), array([30., 30., 30., ..., 30., 30., 30.]), array([31., 31., 31., ..., 31., 31., 31.]), array([32., 32., 32., ..., 32., 32., 32.]), array([33., 33., 33., ..., 33., 33., 33.]), array([34., 34., 34., ..., 34., 34., 34.]), array([35., 35., 35., ..., 35., 35., 35.]), array([36., 36., 36., ..., 36., 36., 36.]), array([37., 37., 37., ..., 37., 37., 37.])]\n"
          ]
        }
      ]
    },
    {
      "cell_type": "code",
      "source": [
        "# Flatten filename and y vectors\n",
        "\n",
        "filenames = [item for sublist in filenames for item in sublist]\n",
        "y = [item for sublist in y for item in sublist]"
      ],
      "metadata": {
        "id": "6p2ONAkt9wP5"
      },
      "execution_count": null,
      "outputs": []
    },
    {
      "cell_type": "code",
      "source": [
        "filenames[0:5]"
      ],
      "metadata": {
        "colab": {
          "base_uri": "https://localhost:8080/"
        },
        "id": "l_pL_nPi-dna",
        "outputId": "c5f3fd2f-b8dc-4b68-91b3-f711b2dee925"
      },
      "execution_count": null,
      "outputs": [
        {
          "output_type": "execute_result",
          "data": {
            "text/plain": [
              "['pink_noise_42.wav',\n",
              " 'pink_noise_15.wav',\n",
              " 'running_tap_54.wav',\n",
              " 'white_noise_27.wav',\n",
              " 'exercise_bike_37.wav']"
            ]
          },
          "metadata": {},
          "execution_count": 14
        }
      ]
    },
    {
      "cell_type": "code",
      "source": [
        "y[0:5]"
      ],
      "metadata": {
        "id": "SWeNtIwY_8Hi",
        "colab": {
          "base_uri": "https://localhost:8080/"
        },
        "outputId": "e6d61781-443c-46d2-bfcc-6a3aa40709ed"
      },
      "execution_count": null,
      "outputs": [
        {
          "output_type": "execute_result",
          "data": {
            "text/plain": [
              "[0.0, 0.0, 0.0, 0.0, 0.0]"
            ]
          },
          "metadata": {},
          "execution_count": 15
        }
      ]
    },
    {
      "cell_type": "code",
      "source": [
        "# Generate the dictionary\n",
        "\n",
        "for target in all_targets:\n",
        "  print(target.upper(), end = \",\")"
      ],
      "metadata": {
        "colab": {
          "base_uri": "https://localhost:8080/"
        },
        "id": "388Sx2pcBwjh",
        "outputId": "997a94ad-481b-455d-9785-7b86fa3f21a7"
      },
      "execution_count": null,
      "outputs": [
        {
          "output_type": "stream",
          "name": "stdout",
          "text": [
            "_BACKGROUND_NOISE_,_SILENCE_,_UNKNOWN_,BACKWARD,BED,BIRD,CAT,DOG,DOWN,EIGHT,FIVE,FOLLOW,FORWARD,FOUR,GO,HAPPY,HOUSE,LEARN,LEFT,MARVIN,NINE,NO,OFF,ON,ONE,RIGHT,SEVEN,SHEILA,SIX,STOP,THREE,TREE,TWO,UP,VISUAL,WOW,YES,ZERO,"
          ]
        }
      ]
    },
    {
      "cell_type": "code",
      "source": [
        "# Create extern constants\n",
        "\n",
        "for w in all_targets:\n",
        "  print(f\"extern const char {w.upper()}[];\")"
      ],
      "metadata": {
        "id": "lSRv_QS7CCGJ",
        "colab": {
          "base_uri": "https://localhost:8080/"
        },
        "outputId": "670e7496-e302-42c7-b150-9852cf218a85"
      },
      "execution_count": null,
      "outputs": [
        {
          "output_type": "stream",
          "name": "stdout",
          "text": [
            "extern const char _BACKGROUND_NOISE_[];\n",
            "extern const char _SILENCE_[];\n",
            "extern const char _UNKNOWN_[];\n",
            "extern const char BACKWARD[];\n",
            "extern const char BED[];\n",
            "extern const char BIRD[];\n",
            "extern const char CAT[];\n",
            "extern const char DOG[];\n",
            "extern const char DOWN[];\n",
            "extern const char EIGHT[];\n",
            "extern const char FIVE[];\n",
            "extern const char FOLLOW[];\n",
            "extern const char FORWARD[];\n",
            "extern const char FOUR[];\n",
            "extern const char GO[];\n",
            "extern const char HAPPY[];\n",
            "extern const char HOUSE[];\n",
            "extern const char LEARN[];\n",
            "extern const char LEFT[];\n",
            "extern const char MARVIN[];\n",
            "extern const char NINE[];\n",
            "extern const char NO[];\n",
            "extern const char OFF[];\n",
            "extern const char ON[];\n",
            "extern const char ONE[];\n",
            "extern const char RIGHT[];\n",
            "extern const char SEVEN[];\n",
            "extern const char SHEILA[];\n",
            "extern const char SIX[];\n",
            "extern const char STOP[];\n",
            "extern const char THREE[];\n",
            "extern const char TREE[];\n",
            "extern const char TWO[];\n",
            "extern const char UP[];\n",
            "extern const char VISUAL[];\n",
            "extern const char WOW[];\n",
            "extern const char YES[];\n",
            "extern const char ZERO[];\n"
          ]
        }
      ]
    },
    {
      "cell_type": "code",
      "source": [
        "# Create constant strings\n",
        "\n",
        "for w in all_targets:\n",
        "  print(f\"const char {w.upper()}[] = \\\"{w}\\\";\")"
      ],
      "metadata": {
        "colab": {
          "base_uri": "https://localhost:8080/"
        },
        "id": "gVhLW5YOEkYy",
        "outputId": "476bb1eb-5e53-4bd5-b39c-773b3baa76f4"
      },
      "execution_count": null,
      "outputs": [
        {
          "output_type": "stream",
          "name": "stdout",
          "text": [
            "const char _BACKGROUND_NOISE_[] = \"_background_noise_\";\n",
            "const char _SILENCE_[] = \"_silence_\";\n",
            "const char _UNKNOWN_[] = \"_unknown_\";\n",
            "const char BACKWARD[] = \"backward\";\n",
            "const char BED[] = \"bed\";\n",
            "const char BIRD[] = \"bird\";\n",
            "const char CAT[] = \"cat\";\n",
            "const char DOG[] = \"dog\";\n",
            "const char DOWN[] = \"down\";\n",
            "const char EIGHT[] = \"eight\";\n",
            "const char FIVE[] = \"five\";\n",
            "const char FOLLOW[] = \"follow\";\n",
            "const char FORWARD[] = \"forward\";\n",
            "const char FOUR[] = \"four\";\n",
            "const char GO[] = \"go\";\n",
            "const char HAPPY[] = \"happy\";\n",
            "const char HOUSE[] = \"house\";\n",
            "const char LEARN[] = \"learn\";\n",
            "const char LEFT[] = \"left\";\n",
            "const char MARVIN[] = \"marvin\";\n",
            "const char NINE[] = \"nine\";\n",
            "const char NO[] = \"no\";\n",
            "const char OFF[] = \"off\";\n",
            "const char ON[] = \"on\";\n",
            "const char ONE[] = \"one\";\n",
            "const char RIGHT[] = \"right\";\n",
            "const char SEVEN[] = \"seven\";\n",
            "const char SHEILA[] = \"sheila\";\n",
            "const char SIX[] = \"six\";\n",
            "const char STOP[] = \"stop\";\n",
            "const char THREE[] = \"three\";\n",
            "const char TREE[] = \"tree\";\n",
            "const char TWO[] = \"two\";\n",
            "const char UP[] = \"up\";\n",
            "const char VISUAL[] = \"visual\";\n",
            "const char WOW[] = \"wow\";\n",
            "const char YES[] = \"yes\";\n",
            "const char ZERO[] = \"zero\";\n"
          ]
        }
      ]
    },
    {
      "cell_type": "code",
      "source": [
        "# Associate filenames with true output and shuffle\n",
        "\n",
        "filenames_y = list(zip(filenames, y))\n",
        "random.shuffle(filenames_y)\n",
        "filenames, y = zip(*filenames_y)"
      ],
      "metadata": {
        "id": "yqG5A28gEqyJ"
      },
      "execution_count": null,
      "outputs": []
    },
    {
      "cell_type": "code",
      "source": [
        "# Validation and test percentage\n",
        "\n",
        "val_ratio = 0.1\n",
        "test_ratio = 0.1"
      ],
      "metadata": {
        "id": "DxAnPc77Lo8S"
      },
      "execution_count": null,
      "outputs": []
    },
    {
      "cell_type": "code",
      "source": [
        "# Calculate validation and test set sizes\n",
        "\n",
        "val_set_size = int(len(filenames) * val_ratio)\n",
        "test_set_size = int(len(filenames) * test_ratio)\n",
        "print(f\"Validation size {val_set_size}\\ntTest set size {test_set_size}\")"
      ],
      "metadata": {
        "colab": {
          "base_uri": "https://localhost:8080/"
        },
        "id": "TFUtLSbPLrmB",
        "outputId": "e5444f5d-32f3-4a46-94f4-0a39de9c837a"
      },
      "execution_count": null,
      "outputs": [
        {
          "output_type": "stream",
          "name": "stdout",
          "text": [
            "Validation size 10704\n",
            "tTest set size 10704\n"
          ]
        }
      ]
    },
    {
      "cell_type": "code",
      "source": [
        "# Break dataset apart into train, validation, and test sets\n",
        "\n",
        "filenames_val = filenames[:val_set_size]\n",
        "filenames_test = filenames[val_set_size:(val_set_size + test_set_size)]\n",
        "filenames_train = filenames[(val_set_size + test_set_size):]"
      ],
      "metadata": {
        "id": "WNDOzXPrLuqo"
      },
      "execution_count": null,
      "outputs": []
    },
    {
      "cell_type": "code",
      "source": [
        "# Break y apart into train, validation, and test sets\n",
        "\n",
        "y_orig_val = y[:val_set_size]\n",
        "y_orig_test = y[val_set_size:(val_set_size + test_set_size)]\n",
        "y_orig_train = y[(val_set_size + test_set_size):]"
      ],
      "metadata": {
        "id": "tsSgLy8nLwjY"
      },
      "execution_count": null,
      "outputs": []
    },
    {
      "cell_type": "code",
      "source": [
        "def calc_mfcc(path: str, debug: bool = False) -> np.ndarray:\n",
        "  \"\"\"Creates a matrix of MFCCs from the given input file.\n",
        "\n",
        "  Args:\n",
        "    path: the path to the file to extract MFCCs from\n",
        "    debug: whenever to print signal shape or sampling rate\n",
        "\n",
        "  Returns:\n",
        "    An ndarray of shape (n_mffc, n_frames)\n",
        "  \"\"\"\n",
        "\n",
        "  signal, fs = librosa.load(path, sr=sample_rate)\n",
        "  if debug:\n",
        "    print(f\"DEBUG (calc_mfcc): signal shape={signal.shape}, sampling rate={fs}\")\n",
        "\n",
        "  # By default, n_fft=2048, hop_length=512\n",
        "  mfccs = librosa.feature.mfcc(y=signal,\n",
        "                               sr=fs,\n",
        "                               n_mfcc=num_mfcc,\n",
        "                               dct_type=2,\n",
        "                               norm='ortho',\n",
        "                               lifter=0,\n",
        "                               center=False)\n",
        "\n",
        "  return mfccs"
      ],
      "metadata": {
        "id": "IroGOZhWLxJR"
      },
      "execution_count": null,
      "outputs": []
    },
    {
      "cell_type": "code",
      "source": [
        "# TEST: Construct test set by computing MFCC of each WAV file\n",
        "\n",
        "prob_cnt = 0\n",
        "x_test = []\n",
        "y_test = []\n",
        "max_index_ = 100\n",
        "\n",
        "for index, filename in enumerate(filenames_train):\n",
        "\n",
        "    # Stop after `max_index_` iteration\n",
        "    if index >= max_index_:\n",
        "        break\n",
        "\n",
        "    # Create path from given filename and target item\n",
        "    path = join(dataset_path,\n",
        "                target_list[int(y_orig_train[index])],\n",
        "                filename)\n",
        "\n",
        "    # Create MFCCs\n",
        "    mfccs = calc_mfcc(path)\n",
        "\n",
        "    # Keep only the MFCCs with the correct number of frames\n",
        "    if mfccs.shape[1] == len_mfcc:\n",
        "        x_test.append(mfccs)\n",
        "        y_test.append(y_orig_train[index])\n",
        "    else:\n",
        "        print('Dropped:', index, mfccs.shape)\n",
        "        prob_cnt += 1"
      ],
      "metadata": {
        "colab": {
          "base_uri": "https://localhost:8080/"
        },
        "id": "MEkWfVThL1sp",
        "outputId": "64df44a3-487c-46a4-fc29-126928c51663"
      },
      "execution_count": null,
      "outputs": [
        {
          "output_type": "stream",
          "name": "stdout",
          "text": [
            "Dropped: 20 (16, 26)\n",
            "Dropped: 21 (16, 21)\n",
            "Dropped: 25 (16, 22)\n",
            "Dropped: 69 (16, 26)\n",
            "Dropped: 82 (16, 27)\n",
            "Dropped: 83 (16, 22)\n"
          ]
        }
      ]
    },
    {
      "cell_type": "code",
      "source": [
        "print('% of problematic samples:', prob_cnt / max_index_)"
      ],
      "metadata": {
        "colab": {
          "base_uri": "https://localhost:8080/"
        },
        "id": "TsHp-N5iL674",
        "outputId": "3045bab3-146b-48de-ce50-066837ca676f"
      },
      "execution_count": null,
      "outputs": [
        {
          "output_type": "stream",
          "name": "stdout",
          "text": [
            "% of problematic samples: 0.06\n"
          ]
        }
      ]
    },
    {
      "cell_type": "code",
      "source": [
        "# TEST: Test shorter MFCC\n",
        "\n",
        "idx = 20\n",
        "\n",
        "# Create path from given filename and target item\n",
        "path = join(dataset_path,\n",
        "            target_list[int(y_orig_train[idx])],\n",
        "            filenames_train[idx])\n",
        "\n",
        "# Create MFCCs\n",
        "mfccs = calc_mfcc(path)\n",
        "print(\"MFCCs:\", mfccs)\n",
        "\n",
        "# Plot MFCC\n",
        "fig = plt.figure()\n",
        "plt.imshow(mfccs, cmap='inferno', origin='lower')\n",
        "\n",
        "# Play wav file\n",
        "print(target_list[int(y_orig_train[idx])])\n",
        "AudioSegment.from_file(path, format=\"wav\")"
      ],
      "metadata": {
        "colab": {
          "base_uri": "https://localhost:8080/",
          "height": 1000
        },
        "id": "80eTaMYpL7bR",
        "outputId": "99362562-ebdd-4d9b-e7b0-49ab1bee0d0f"
      },
      "execution_count": null,
      "outputs": [
        {
          "output_type": "stream",
          "name": "stdout",
          "text": [
            "MFCCs: [[-4.00236328e+02 -4.01377380e+02 -4.04361755e+02 -4.00519318e+02\n",
            "  -4.00418884e+02 -4.07478302e+02 -4.08067108e+02 -4.03176361e+02\n",
            "  -4.05158447e+02 -3.65986176e+02 -2.94423706e+02 -2.15709259e+02\n",
            "  -1.46076035e+02 -1.34489090e+02 -1.49220963e+02 -1.61399841e+02\n",
            "  -1.88100632e+02 -2.04900803e+02 -2.18635010e+02 -2.46316132e+02\n",
            "  -2.70123230e+02 -2.86111206e+02 -2.97216248e+02 -2.96953247e+02\n",
            "  -3.21504028e+02 -3.68454163e+02]\n",
            " [ 1.41767288e+02  1.43058716e+02  1.44713165e+02  1.36380402e+02\n",
            "   1.30237244e+02  1.39595978e+02  1.42564941e+02  1.46916397e+02\n",
            "   1.46963120e+02  1.18706551e+02  8.18318634e+01  8.97143631e+01\n",
            "   9.17830658e+01  8.61562347e+01  9.53250885e+01  1.15063507e+02\n",
            "   1.21060066e+02  8.48246002e+01  3.80934944e+01  1.19923134e+01\n",
            "   6.82682323e+00  1.53871193e+01  2.73587723e+01  4.80579681e+01\n",
            "   8.32637329e+01  1.14415512e+02]\n",
            " [ 1.22019243e+01  9.64447117e+00  1.21056156e+01  2.11611290e+01\n",
            "   2.45123978e+01  1.91713943e+01  1.44127445e+01  1.42955561e+01\n",
            "   1.45707922e+01  9.37476730e+00 -1.60779877e+01 -3.99738159e+01\n",
            "  -5.84789429e+01 -6.07630806e+01 -5.49893188e+01 -5.34395485e+01\n",
            "  -3.88742981e+01  1.10914841e+01  3.55839310e+01  5.70315552e+01\n",
            "   6.90384064e+01  7.65794067e+01  7.65943909e+01  6.24756966e+01\n",
            "   4.73237190e+01  3.97561531e+01]\n",
            " [ 1.01370449e+01  6.33309603e+00  7.75381947e+00  1.38015242e+01\n",
            "   1.68310051e+01  1.52099304e+01  1.69320354e+01  1.67910709e+01\n",
            "   1.04543629e+01  2.78303680e+01  4.18997574e+01  2.36640854e+01\n",
            "   9.13085556e+00  4.02415752e+00 -3.65115666e+00 -1.10297890e+01\n",
            "  -1.05639372e+01 -1.75142937e+01 -1.06943140e+01 -1.59484398e+00\n",
            "  -1.28558302e+00 -3.58348942e+00 -4.38612080e+00 -6.67160892e+00\n",
            "  -1.01500559e+00  7.30204391e+00]\n",
            " [ 1.47701588e+01  1.28657980e+01  1.51776886e+01  2.11524086e+01\n",
            "   1.94558945e+01  1.26135283e+01  1.51066875e+01  1.94006500e+01\n",
            "   1.40045509e+01  2.17022419e+00  1.05707417e+01  1.47762909e+01\n",
            "   2.24649105e+01  2.33931427e+01  1.70852718e+01  3.49162531e+00\n",
            "  -6.27473259e+00  3.72065306e+00  1.61666393e+01  2.14945850e+01\n",
            "   2.42816429e+01  2.89183464e+01  3.13407631e+01  1.77764759e+01\n",
            "   1.41342821e+01  2.01470146e+01]\n",
            " [ 3.60568085e+01  3.42761459e+01  3.56278038e+01  3.15446815e+01\n",
            "   2.92543755e+01  2.73302612e+01  2.93200893e+01  2.93969498e+01\n",
            "   2.68549557e+01  3.48102264e+01  3.58354950e+01  2.38749275e+01\n",
            "   6.39711857e+00  6.16023493e+00  1.16431694e+01  1.72156372e+01\n",
            "   2.38808155e+01  3.31628036e+01  3.14735470e+01  2.71954422e+01\n",
            "   2.21465340e+01  1.91711884e+01  2.30028706e+01  2.73590794e+01\n",
            "   3.15062122e+01  3.13488808e+01]\n",
            " [ 1.53900156e+01  7.08130074e+00  5.18334532e+00  8.87417603e+00\n",
            "   1.26325951e+01  3.45405626e+00  4.51006508e+00  6.84980774e+00\n",
            "   5.76616096e+00 -1.79311588e-01 -5.10807705e+00 -8.20901966e+00\n",
            "  -6.17264175e+00 -3.39456248e+00  1.23094940e+00 -1.85811520e+00\n",
            "  -2.98100281e+00 -1.46450520e+01 -1.98277893e+01 -1.44788857e+01\n",
            "  -1.33223839e+01 -1.35557270e+01 -1.20223465e+01 -6.83273125e+00\n",
            "  -8.77760220e+00 -6.40782785e+00]\n",
            " [ 1.11856117e+01  2.95633221e+00  5.88103199e+00  8.18133354e+00\n",
            "   1.09192915e+01  9.45917892e+00  1.27936401e+01  1.79003258e+01\n",
            "   1.70932217e+01  6.73735189e+00  7.77893829e+00  7.47502518e+00\n",
            "   2.32670307e+00 -1.11157537e-01 -1.67250144e+00 -7.71057320e+00\n",
            "  -1.42562885e+01 -1.78139615e+00  1.46222782e+01  2.45718536e+01\n",
            "   2.68823814e+01  2.23010178e+01  2.11523514e+01  2.96576080e+01\n",
            "   3.16852703e+01  2.74093246e+01]\n",
            " [-7.33843517e+00 -3.40638542e+00 -2.99018788e+00 -3.60745013e-01\n",
            "  -6.24871194e-01 -6.66885495e-01  4.32530022e+00  8.07470512e+00\n",
            "   6.18356705e+00  1.75566463e+01  2.18960152e+01  1.98118973e+01\n",
            "   1.73537521e+01  1.34047852e+01  1.59179592e+00 -6.67101002e+00\n",
            "  -1.07129269e+01 -1.59625626e+01 -7.30827522e+00 -6.61796284e+00\n",
            "  -4.53190708e+00 -5.79224443e+00 -1.10992622e+01 -1.39685049e+01\n",
            "  -1.18496685e+01 -1.09434948e+01]\n",
            " [-1.92140329e+00  1.44477880e+00  4.15780735e+00  5.03872252e+00\n",
            "   1.56908822e+00  2.82564020e+00  8.38036537e+00  7.82805443e+00\n",
            "   7.51055431e+00  4.10840130e+00  5.61194897e+00  6.57267618e+00\n",
            "   4.23100758e+00  7.68437004e+00  1.74827156e+01  1.58489819e+01\n",
            "   8.28191853e+00  8.17778397e+00  7.22693634e+00  7.02428246e+00\n",
            "   7.73041010e+00  4.33920670e+00  4.12376070e+00  4.46851063e+00\n",
            "   1.56419301e+00  3.66627502e+00]\n",
            " [-6.25316906e+00 -2.94030094e+00 -6.96277380e+00 -1.42079973e+01\n",
            "  -1.08747635e+01 -4.83421087e+00 -4.07511997e+00 -6.50622940e+00\n",
            "  -8.93198109e+00 -4.19029713e+00 -5.74966240e+00 -9.45404625e+00\n",
            "  -1.49223013e+01 -1.30839548e+01 -1.36870193e+00  1.07393055e+01\n",
            "   1.78986568e+01  1.36395502e+01  8.83444214e+00 -1.22356749e+00\n",
            "  -8.50303745e+00 -9.31523895e+00 -1.06166191e+01 -1.41684122e+01\n",
            "  -1.45216141e+01 -1.63999557e+01]\n",
            " [ 1.14381351e+01  1.06970320e+01  5.51754570e+00  3.48645329e+00\n",
            "   6.87008762e+00  4.73016834e+00  5.36146879e+00  1.32401681e+00\n",
            "   4.08676577e+00  1.42576241e+00 -1.56438065e+00  1.61516941e+00\n",
            "   4.66393805e+00 -2.94267774e-01 -1.24737191e+00 -1.84979987e+00\n",
            "  -4.53523397e-01 -5.70387840e-01  7.12670326e+00  5.55552387e+00\n",
            "   1.10103083e+01  1.87993736e+01  1.50175791e+01  6.77715445e+00\n",
            "   4.80441141e+00  6.13791895e+00]\n",
            " [-1.91227794e-01 -4.15989590e+00 -5.65014601e+00 -6.84457874e+00\n",
            "  -6.05347586e+00 -5.99829388e+00 -1.39976382e+00 -3.26023936e+00\n",
            "   2.29230857e+00  3.03419876e+00  7.39394546e-01 -8.72162247e+00\n",
            "  -1.52675104e+01 -1.80239906e+01 -1.68969612e+01 -1.10154343e+01\n",
            "  -3.82100177e+00  3.45376682e+00  1.55236542e+00 -3.88972974e+00\n",
            "  -2.01025987e+00 -1.49311697e+00 -5.07785034e+00 -2.07880306e+00\n",
            "   1.87201309e+00  5.99229217e-01]\n",
            " [ 1.19044149e+00 -1.07256675e+00 -1.42858577e+00  9.53383684e-01\n",
            "   2.51413107e+00  6.48120975e+00  7.78319073e+00  9.42666626e+00\n",
            "   1.19062614e+01  2.03646069e+01  1.56096783e+01 -2.37973261e+00\n",
            "   2.13999271e+00  8.68962765e+00  8.19760036e+00  5.56485367e+00\n",
            "   6.12453604e+00 -2.14569092e+00 -3.94905257e+00 -2.06449866e+00\n",
            "   5.87993240e+00  6.00007010e+00  7.67578888e+00  3.68027854e+00\n",
            "   1.93382072e+00  2.38717675e+00]\n",
            " [-8.11709976e+00 -7.07507038e+00 -5.70738029e+00 -4.42838144e+00\n",
            "  -3.46761036e+00  4.84842390e-01  1.32000732e+00  1.71899986e+00\n",
            "  -7.91240931e-02 -6.95098877e+00 -1.00082664e+01 -2.66579399e+01\n",
            "  -3.02560196e+01 -2.86352348e+01 -2.78415661e+01 -3.60449295e+01\n",
            "  -3.82146721e+01 -2.16174126e+01 -1.02061682e+01 -6.54810238e+00\n",
            "  -4.80902433e+00 -8.13421440e+00 -6.96663761e+00 -1.85264645e+01\n",
            "  -1.78572884e+01 -8.80808353e+00]\n",
            " [ 2.40714359e+00  5.08885622e+00  6.46721792e+00  1.05603638e+01\n",
            "   1.27666817e+01  1.04229050e+01  7.18277693e+00  1.81336474e+00\n",
            "   3.99711919e+00  2.98005867e+00  2.74691486e+00 -7.46060610e-02\n",
            "  -3.18470216e+00 -2.78712893e+00 -4.25529480e-01  4.44396687e+00\n",
            "   4.91482878e+00  4.24238920e+00  2.13400006e+00  5.79099703e+00\n",
            "   7.95532322e+00  9.80619621e+00  1.40297174e+01  2.82724643e+00\n",
            "   1.68718362e+00  1.10361061e+01]]\n",
            "house\n"
          ]
        },
        {
          "output_type": "execute_result",
          "data": {
            "text/plain": [
              "<pydub.audio_segment.AudioSegment at 0x7870018d7970>"
            ],
            "text/html": [
              "\n",
              "                    <audio controls>\n",
              "                        <source src=\"data:audio/mpeg;base64,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\" type=\"audio/mpeg\"/>\n",
              "                        Your browser does not support the audio element.\n",
              "                    </audio>\n",
              "                  "
            ]
          },
          "metadata": {},
          "execution_count": 27
        },
        {
          "output_type": "display_data",
          "data": {
            "text/plain": [
              "<Figure size 640x480 with 1 Axes>"
            ],
            "image/png": "[encoded data removed]"
          },
          "metadata": {}
        }
      ]
    },
    {
      "cell_type": "code",
      "source": [
        "def to_word(out_value):\n",
        "    \"\"\"Converts the outuput value of the model to the corresponding word.\"\"\"\n",
        "\n",
        "    return target_list[int(out_value)]"
      ],
      "metadata": {
        "id": "GelJiU4MMHFg"
      },
      "execution_count": null,
      "outputs": []
    },
    {
      "cell_type": "code",
      "source": [
        "def extract_features(in_files: T.List[str],\n",
        "                     in_y: T.List[float]) -> T.List[np.ndarray]:\n",
        "    \"\"\"Computes a dataset of MFCC from the given input files, and associate them\n",
        "    with the ground truth values.\n",
        "\n",
        "    If the size of sample frames is less than the target one, then the sample\n",
        "    will be discarded.\n",
        "\n",
        "    Args:\n",
        "      in_files: list of wav files\n",
        "      in_y: the ground truth values of the files in `in_files`\n",
        "\n",
        "    Returns:\n",
        "      A list of np.ndarray containing the MFCCs extracted from `in_files`\n",
        "    \"\"\"\n",
        "\n",
        "    prob_cnt = 0\n",
        "    out_x = []\n",
        "    out_y = []\n",
        "\n",
        "    for index, filename in tqdm(enumerate(in_files), total=len(in_files)):\n",
        "\n",
        "        # Create path from given filename and target item\n",
        "        path = join(dataset_path,\n",
        "                    target_list[int(in_y[index])],\n",
        "                    filename)\n",
        "\n",
        "        # Check to make sure we're reading a .wav file\n",
        "        if not path.endswith('.wav'):\n",
        "            continue\n",
        "        # Create MFCCs\n",
        "        mfccs = calc_mfcc(path)\n",
        "\n",
        "        # Only keep MFCCs with the correct number of frames\n",
        "        if mfccs.shape[1] == len_mfcc:\n",
        "            out_x.append(mfccs)\n",
        "            out_y.append(in_y[index])\n",
        "        else:\n",
        "            prob_cnt += 1\n",
        "\n",
        "    return out_x, out_y, prob_cnt"
      ],
      "metadata": {
        "id": "8_gByGMWMKVK"
      },
      "execution_count": null,
      "outputs": []
    },
    {
      "cell_type": "code",
      "source": [
        "# Create train, validation, and test sets\n",
        "\n",
        "x_train, y_train, prob = extract_features(filenames_train,\n",
        "                                          y_orig_train)\n",
        "print('Removed percentage:', prob / len(y_orig_train))\n",
        "\n",
        "x_val, y_val, prob = extract_features(filenames_val, y_orig_val)\n",
        "print('Removed percentage:', prob / len(y_orig_val))\n",
        "\n",
        "x_test, y_test, prob = extract_features(filenames_test, y_orig_test)\n",
        "print('Removed percentage:', prob / len(y_orig_test))"
      ],
      "metadata": {
        "colab": {
          "base_uri": "https://localhost:8080/"
        },
        "id": "JC2il__4Md-4",
        "outputId": "79d8102e-dd39-4917-c219-81b12566efdf"
      },
      "execution_count": null,
      "outputs": [
        {
          "output_type": "stream",
          "name": "stderr",
          "text": [
            "100%|██████████| 85636/85636 [10:33<00:00, 135.16it/s]\n"
          ]
        },
        {
          "output_type": "stream",
          "name": "stdout",
          "text": [
            "Removed percentage: 0.09783268718763137\n"
          ]
        },
        {
          "output_type": "stream",
          "name": "stderr",
          "text": [
            "100%|██████████| 10704/10704 [01:17<00:00, 138.98it/s]\n"
          ]
        },
        {
          "output_type": "stream",
          "name": "stdout",
          "text": [
            "Removed percentage: 0.09856128550074739\n"
          ]
        },
        {
          "output_type": "stream",
          "name": "stderr",
          "text": [
            "100%|██████████| 10704/10704 [01:18<00:00, 136.18it/s]"
          ]
        },
        {
          "output_type": "stream",
          "name": "stdout",
          "text": [
            "Removed percentage: 0.09267563527653214\n"
          ]
        },
        {
          "output_type": "stream",
          "name": "stderr",
          "text": [
            "\n"
          ]
        }
      ]
    },
    {
      "cell_type": "code",
      "source": [
        "# Save features and truth vector (y) sets to disk\n",
        "\n",
        "np.savez(feature_sets_file,\n",
        "         x_train=x_train,\n",
        "         y_train=y_train,\n",
        "         x_val=x_val,\n",
        "         y_val=y_val,\n",
        "         x_test=x_test,\n",
        "         y_test=y_test)"
      ],
      "metadata": {
        "id": "Auy5jQH7Mf6o"
      },
      "execution_count": null,
      "outputs": []
    },
    {
      "cell_type": "code",
      "source": [
        "# Load features\n",
        "\n",
        "feature_sets = np.load(feature_sets_file)\n",
        "feature_sets.files"
      ],
      "metadata": {
        "colab": {
          "base_uri": "https://localhost:8080/"
        },
        "id": "R6db9fUlMh4Q",
        "outputId": "b3e0ed73-4a77-48c1-e5a5-81183b79eabf"
      },
      "execution_count": null,
      "outputs": [
        {
          "output_type": "execute_result",
          "data": {
            "text/plain": [
              "['x_train', 'y_train', 'x_val', 'y_val', 'x_test', 'y_test']"
            ]
          },
          "metadata": {},
          "execution_count": 32
        }
      ]
    },
    {
      "cell_type": "code",
      "source": [
        "# Assign feature sets\n",
        "\n",
        "x_train = feature_sets['x_train']\n",
        "y_train = feature_sets['y_train']\n",
        "x_val = feature_sets['x_val']\n",
        "y_val = feature_sets['y_val']\n",
        "x_test = feature_sets['x_test']\n",
        "y_test = feature_sets['y_test']"
      ],
      "metadata": {
        "id": "HEVPpmtxMlIv"
      },
      "execution_count": null,
      "outputs": []
    },
    {
      "cell_type": "code",
      "source": [
        "# Concatenate training and validation sets, since they will be splitted in\n",
        "# stratified manner in the next steps\n",
        "\n",
        "X = np.concatenate((x_train, x_val))\n",
        "y = np.concatenate((y_train, y_val))\n",
        "\n",
        "print(f\"X shape: {X.shape}, y shape: {y.shape}\")"
      ],
      "metadata": {
        "colab": {
          "base_uri": "https://localhost:8080/"
        },
        "id": "LB7SwlVVMl_4",
        "outputId": "65c91eb2-5be7-479a-9d6f-dcb394b0559f"
      },
      "execution_count": null,
      "outputs": [
        {
          "output_type": "stream",
          "name": "stdout",
          "text": [
            "X shape: (86906, 16, 28), y shape: (86906,)\n"
          ]
        }
      ]
    },
    {
      "cell_type": "code",
      "source": [
        "# Number of unique labels. When the whole dataset is loaded, it should be 38.\n",
        "\n",
        "n_labels = np.max([len(np.unique(y_test)),\n",
        "                   len(np.unique(y))])\n",
        "\n",
        "n_labels"
      ],
      "metadata": {
        "colab": {
          "base_uri": "https://localhost:8080/"
        },
        "id": "BtZsEPnSMn8P",
        "outputId": "d9e44691-131c-4778-d667-79e772e0f0f5"
      },
      "execution_count": null,
      "outputs": [
        {
          "output_type": "execute_result",
          "data": {
            "text/plain": [
              "38"
            ]
          },
          "metadata": {},
          "execution_count": 35
        }
      ]
    },
    {
      "cell_type": "code",
      "source": [
        "# Settings\n",
        "\n",
        "model_filename = 'speech-commands-model.h5'\n",
        "keras_model_filename = '/content/speech-commands-model.h5'\n",
        "tflite_filename = '/content/speech-commands-model.tflite'"
      ],
      "metadata": {
        "id": "53hloCzxMrAJ"
      },
      "execution_count": null,
      "outputs": []
    },
    {
      "cell_type": "code",
      "source": [
        "# CNN for TF expects (batch, height, width, channels)\n",
        "# So we reshape the input tensors with a \"color\" channel of 1\n",
        "\n",
        "x_test = x_test.reshape(x_test.shape[0],\n",
        "                        x_test.shape[1],\n",
        "                        x_test.shape[2],\n",
        "                        1)\n",
        "\n",
        "X = X.reshape(X.shape[0],\n",
        "              X.shape[1],\n",
        "              X.shape[2],\n",
        "              1)\n",
        "\n",
        "print(x_test.shape)\n",
        "print(X.shape)"
      ],
      "metadata": {
        "colab": {
          "base_uri": "https://localhost:8080/"
        },
        "id": "ZVxL5IbDMrZA",
        "outputId": "be111cc1-3e87-4449-9b29-5f3ba54d0063"
      },
      "execution_count": null,
      "outputs": [
        {
          "output_type": "stream",
          "name": "stdout",
          "text": [
            "(9712, 16, 28, 1)\n",
            "(86906, 16, 28, 1)\n"
          ]
        }
      ]
    },
    {
      "cell_type": "code",
      "source": [
        "# Input shape for CNN is size of MFCC of 1 sample\n",
        "\n",
        "input_shape = X.shape[1:]\n",
        "print(input_shape)"
      ],
      "metadata": {
        "colab": {
          "base_uri": "https://localhost:8080/"
        },
        "id": "ygLIVFO8MyUf",
        "outputId": "dfe8d536-7dea-4ae6-ee3f-5e2189c092b9"
      },
      "execution_count": null,
      "outputs": [
        {
          "output_type": "stream",
          "name": "stdout",
          "text": [
            "(16, 28, 1)\n"
          ]
        }
      ]
    },
    {
      "cell_type": "code",
      "source": [
        "from tensorflow.keras import layers, models, regularizers"
      ],
      "metadata": {
        "id": "0w7Pzb4dM1cf"
      },
      "execution_count": null,
      "outputs": []
    },
    {
      "cell_type": "code",
      "source": [
        "def create_model(verbose: int =0):\n",
        "  \"\"\"Creates and build a CNN model.\n",
        "\n",
        "  Args:\n",
        "    verbose: the verbosity of the output\n",
        "\n",
        "  Returns:\n",
        "    the CNN model already complied.\n",
        "  \"\"\"\n",
        "  # build network\n",
        "  model = models.Sequential()\n",
        "\n",
        "  # conv layer 1\n",
        "  model.add(layers.Conv2D(8,\n",
        "                          (3, 3),\n",
        "                          activation=\"relu\",\n",
        "                          input_shape=input_shape))\n",
        "  # conv layer 2\n",
        "  model.add(layers.Conv2D(8,\n",
        "                          (3, 3),\n",
        "                          activation=\"relu\"))\n",
        "  model.add(layers.MaxPool2D((2,2)))\n",
        "  model.add(layers.Dropout(0.1))\n",
        "\n",
        "  model.add(layers.Flatten())\n",
        "\n",
        "  model.add(layers.Dense(64))\n",
        "  model.add(layers.Dropout(0.16))\n",
        "  model.add(layers.Activation(\"relu\"))\n",
        "  model.add(layers.Dense(64))\n",
        "  model.add(layers.Dropout(0.12))\n",
        "  model.add(layers.Activation(\"relu\"))\n",
        "\n",
        "  #softmax classifier\n",
        "  model.add(layers.Dense(n_labels))\n",
        "  model.add(layers.Activation(\"softmax\"))\n",
        "\n",
        "  #compile model\n",
        "  model.compile(\n",
        "      optimizer=tf.keras.optimizers.Adam(),\n",
        "      loss=tf.keras.losses.SparseCategoricalCrossentropy(),\n",
        "      metrics=[\"accuracy\"],\n",
        "  )\n",
        "\n",
        "  if verbose > 0:\n",
        "    model.summary()\n",
        "\n",
        "  return model"
      ],
      "metadata": {
        "id": "1UDR6CSwM4iS"
      },
      "execution_count": null,
      "outputs": []
    },
    {
      "cell_type": "code",
      "source": [
        "def cross_validate(\n",
        "    model_fn: T.Callable[[int], models.Model],\n",
        "    X: np.ndarray,\n",
        "    y: np.ndarray,\n",
        "    n_splits: int = 5,\n",
        "    batch_size: int = 100,\n",
        "    epochs: int = 40,\n",
        "    verbose: int = 0,\n",
        ") -> T.Tuple[T.List[float], T.List[T.Dict]]:\n",
        "  \"\"\"Computes the cross validation of the input model.\n",
        "\n",
        "  By default, it will split the input dataset in a stratified manner.\n",
        "\n",
        "  `model_fn` should be a function that returns a keras Model, with a single\n",
        "  input parameter which specifies the verbosity.\n",
        "\n",
        "  Args:\n",
        "    model_fn: a function to create a Keras model\n",
        "    X: training set\n",
        "    y: labels for the training set\n",
        "    n_splits: the number of folds for the stratified cross validation\n",
        "    batch_size: the size of the batch during training\n",
        "    epochs: the number of epochs to train the model\n",
        "    verbose: the levl of verbosity\n",
        "\n",
        "  Returns:\n",
        "    A tuple with values (accuracy scores, metric histories) obtained during the\n",
        "    different trainings in the folds.\n",
        "  \"\"\"\n",
        "   # Hold the history of each model trained during different folds\n",
        "  histories = []\n",
        "\n",
        "  # Maximum accuracy scored during the training in each fold\n",
        "  accuracy_scores = []\n",
        "\n",
        "  # Prevent multiple printing of the model summary\n",
        "  print_model = 1\n",
        "\n",
        "  # Stratified splitter\n",
        "  skf = StratifiedKFold(n_splits=n_splits)\n",
        "\n",
        "  for fold, (train_idx, test_idx) in tqdm(\n",
        "      enumerate(skf.split(X, y)),\n",
        "      total=skf.get_n_splits(),\n",
        "  ):\n",
        "\n",
        "    # Get training and test sets from the split\n",
        "    X_train_, X_test_ = X[train_idx], X[test_idx]\n",
        "    y_train_, y_test_ = y[train_idx], y[test_idx]\n",
        "\n",
        "    # Create a fresh model\n",
        "    model = model_fn(print_model)\n",
        "    print_model=0\n",
        "\n",
        "    # Train the model\n",
        "\n",
        "    history = model.fit(X_train_,\n",
        "                        y_train_,\n",
        "                        batch_size=batch_size,\n",
        "                        epochs=epochs,\n",
        "                        validation_data=(X_test_, y_test_),\n",
        "                        verbose=verbose,\n",
        "                        callbacks=[tf.keras.callbacks.EarlyStopping(\n",
        "                          monitor='val_accuracy',\n",
        "                          patience=5,\n",
        "                          min_delta=0.001,\n",
        "                          mode='max',\n",
        "                          restore_best_weights=True\n",
        "                        )])\n",
        "\n",
        "\n",
        "    # Save metrics\n",
        "\n",
        "    histories.append(history.history)\n",
        "    accuracy_scores.append(np.max(history.history['val_accuracy']))\n",
        "    print(f\"Max validation accuracy for fold {fold}: \"\n",
        "          f\"{np.max(history.history['val_accuracy'])}\")\n",
        "\n",
        "  return (accuracy_scores, histories)"
      ],
      "metadata": {
        "id": "cxkqhxEtM-dw"
      },
      "execution_count": null,
      "outputs": []
    },
    {
      "cell_type": "code",
      "source": [
        "def plot_metrics(history: T.Dict):\n",
        "  \"\"\"Plots the training history.\n",
        "\n",
        "  The input should be the dictionary inside the History object returned by the\n",
        "  fit method of Tensorflow.\n",
        "\n",
        "  Args:\n",
        "    history: dictionary of the history metrics of the trained model\n",
        "\n",
        "  Returns:\n",
        "    None\n",
        "  \"\"\"\n",
        "\n",
        "  acc = history['accuracy']\n",
        "  loss = history['loss']\n",
        "  val_acc = history['val_accuracy']\n",
        "  val_loss = history['val_loss']\n",
        "\n",
        "  epochs = range(1, len(acc) + 1)\n",
        "\n",
        "  plt.plot(epochs, acc, 'r', label='Training acc')\n",
        "  plt.plot(epochs, val_acc, 'b', label='Validation acc')\n",
        "  plt.title('Training and validation accuracy')\n",
        "  plt.legend()\n",
        "\n",
        "  plt.figure()\n",
        "\n",
        "  plt.plot(epochs, loss, 'r', label='Training loss')\n",
        "  plt.plot(epochs, val_loss, 'b', label='Validation loss')\n",
        "  plt.title('Training and validation loss')\n",
        "  plt.legend()\n",
        "\n",
        "  plt.show()"
      ],
      "metadata": {
        "id": "Usl_eYoSNGjZ"
      },
      "execution_count": null,
      "outputs": []
    },
    {
      "cell_type": "code",
      "source": [
        "# Cross validate the model\n",
        "\n",
        "acc, hist = cross_validate(create_model,\n",
        "                           X,\n",
        "                           y,\n",
        "                           epochs=100,\n",
        "                           verbose=0)"
      ],
      "metadata": {
        "colab": {
          "base_uri": "https://localhost:8080/"
        },
        "id": "p3p5y4AcNIx3",
        "outputId": "0af4baf8-bcea-471a-d081-999ceb26c61c"
      },
      "execution_count": null,
      "outputs": [
        {
          "output_type": "stream",
          "name": "stderr",
          "text": [
            "\r  0%|          | 0/5 [00:00<?, ?it/s]"
          ]
        },
        {
          "output_type": "stream",
          "name": "stdout",
          "text": [
            "Model: \"sequential\"\n",
            "_________________________________________________________________\n",
            " Layer (type)                Output Shape              Param #   \n",
            "=================================================================\n",
            " conv2d (Conv2D)             (None, 14, 26, 8)         80        \n",
            "                                                                 \n",
            " conv2d_1 (Conv2D)           (None, 12, 24, 8)         584       \n",
            "                                                                 \n",
            " max_pooling2d (MaxPooling2  (None, 6, 12, 8)          0         \n",
            " D)                                                              \n",
            "                                                                 \n",
            " dropout (Dropout)           (None, 6, 12, 8)          0         \n",
            "                                                                 \n",
            " flatten (Flatten)           (None, 576)               0         \n",
            "                                                                 \n",
            " dense (Dense)               (None, 64)                36928     \n",
            "                                                                 \n",
            " dropout_1 (Dropout)         (None, 64)                0         \n",
            "                                                                 \n",
            " activation (Activation)     (None, 64)                0         \n",
            "                                                                 \n",
            " dense_1 (Dense)             (None, 64)                4160      \n",
            "                                                                 \n",
            " dropout_2 (Dropout)         (None, 64)                0         \n",
            "                                                                 \n",
            " activation_1 (Activation)   (None, 64)                0         \n",
            "                                                                 \n",
            " dense_2 (Dense)             (None, 38)                2470      \n",
            "                                                                 \n",
            " activation_2 (Activation)   (None, 38)                0         \n",
            "                                                                 \n",
            "=================================================================\n",
            "Total params: 44222 (172.74 KB)\n",
            "Trainable params: 44222 (172.74 KB)\n",
            "Non-trainable params: 0 (0.00 Byte)\n",
            "_________________________________________________________________\n"
          ]
        },
        {
          "output_type": "stream",
          "name": "stderr",
          "text": [
            "\r 20%|██        | 1/5 [01:48<07:14, 108.67s/it]"
          ]
        },
        {
          "output_type": "stream",
          "name": "stdout",
          "text": [
            "Max validation accuracy for fold 0: 0.7754573822021484\n"
          ]
        },
        {
          "output_type": "stream",
          "name": "stderr",
          "text": [
            "\r 40%|████      | 2/5 [03:13<04:44, 94.70s/it] "
          ]
        },
        {
          "output_type": "stream",
          "name": "stdout",
          "text": [
            "Max validation accuracy for fold 1: 0.7826937437057495\n"
          ]
        },
        {
          "output_type": "stream",
          "name": "stderr",
          "text": [
            "\r 60%|██████    | 3/5 [05:14<03:33, 106.84s/it]"
          ]
        },
        {
          "output_type": "stream",
          "name": "stdout",
          "text": [
            "Max validation accuracy for fold 2: 0.7772279977798462\n"
          ]
        },
        {
          "output_type": "stream",
          "name": "stderr",
          "text": [
            "\r 80%|████████  | 4/5 [07:33<01:59, 119.20s/it]"
          ]
        },
        {
          "output_type": "stream",
          "name": "stdout",
          "text": [
            "Max validation accuracy for fold 3: 0.7802773118019104\n"
          ]
        },
        {
          "output_type": "stream",
          "name": "stderr",
          "text": [
            "100%|██████████| 5/5 [09:04<00:00, 108.96s/it]"
          ]
        },
        {
          "output_type": "stream",
          "name": "stdout",
          "text": [
            "Max validation accuracy for fold 4: 0.774523913860321\n"
          ]
        },
        {
          "output_type": "stream",
          "name": "stderr",
          "text": [
            "\n"
          ]
        }
      ]
    },
    {
      "cell_type": "code",
      "source": [
        "mean = np.mean(acc)\n",
        "max = np.max(acc)\n",
        "max_idx = np.argmax(acc)\n",
        "print(f\"Mean accuracy: {mean}, Max accuracy: {max}\")\n",
        "plot_metrics(hist[max_idx])"
      ],
      "metadata": {
        "colab": {
          "base_uri": "https://localhost:8080/",
          "height": 904
        },
        "id": "V8Ln3dwjNKxp",
        "outputId": "065cbbb6-acf1-446b-ae38-37bc59bd8369"
      },
      "execution_count": null,
      "outputs": [
        {
          "output_type": "stream",
          "name": "stdout",
          "text": [
            "Mean accuracy: 0.7780360698699951, Max accuracy: 0.7826937437057495\n"
          ]
        },
        {
          "output_type": "display_data",
          "data": {
            "text/plain": [
              "<Figure size 640x480 with 1 Axes>"
            ],
            "image/png": "[encoded data removed]"
          },
          "metadata": {}
        },
        {
          "output_type": "display_data",
          "data": {
            "text/plain": [
              "<Figure size 640x480 with 1 Axes>"
            ],
            "image/png": "[encoded data removed]"
          },
          "metadata": {}
        }
      ]
    },
    {
      "cell_type": "code",
      "source": [
        "epochs = 100\n",
        "batch_size = 100\n",
        "\n",
        "# Store all the trained models\n",
        "all_model = []\n",
        "\n",
        "model = create_model()\n",
        "\n",
        "history = model.fit(X,\n",
        "                    y,\n",
        "                    epochs=epochs,\n",
        "                    batch_size=batch_size,\n",
        "                    callbacks=[tf.keras.callbacks.EarlyStopping(\n",
        "                        monitor='accuracy',\n",
        "                        patience=5,\n",
        "                        min_delta=0.001,\n",
        "                        mode='max',\n",
        "                        restore_best_weights=True\n",
        "                    )])"
      ],
      "metadata": {
        "colab": {
          "base_uri": "https://localhost:8080/"
        },
        "id": "uoqWrtSvNNCf",
        "outputId": "76597067-221d-4fa6-ac1d-1489c4c3c13f"
      },
      "execution_count": null,
      "outputs": [
        {
          "output_type": "stream",
          "name": "stdout",
          "text": [
            "Epoch 1/100\n",
            "870/870 [==============================] - 6s 5ms/step - loss: 3.0354 - accuracy: 0.1664\n",
            "Epoch 2/100\n",
            "870/870 [==============================] - 4s 4ms/step - loss: 2.0633 - accuracy: 0.3927\n",
            "Epoch 3/100\n",
            "870/870 [==============================] - 4s 5ms/step - loss: 1.6563 - accuracy: 0.5095\n",
            "Epoch 4/100\n",
            "870/870 [==============================] - 5s 6ms/step - loss: 1.4558 - accuracy: 0.5703\n",
            "Epoch 5/100\n",
            "870/870 [==============================] - 4s 4ms/step - loss: 1.3242 - accuracy: 0.6078\n",
            "Epoch 6/100\n",
            "870/870 [==============================] - 4s 4ms/step - loss: 1.2352 - accuracy: 0.6327\n",
            "Epoch 7/100\n",
            "870/870 [==============================] - 4s 5ms/step - loss: 1.1855 - accuracy: 0.6466\n",
            "Epoch 8/100\n",
            "870/870 [==============================] - 4s 4ms/step - loss: 1.1391 - accuracy: 0.6598\n",
            "Epoch 9/100\n",
            "870/870 [==============================] - 4s 4ms/step - loss: 1.0989 - accuracy: 0.6721\n",
            "Epoch 10/100\n",
            "870/870 [==============================] - 4s 5ms/step - loss: 1.0771 - accuracy: 0.6787\n",
            "Epoch 11/100\n",
            "870/870 [==============================] - 4s 4ms/step - loss: 1.0487 - accuracy: 0.6888\n",
            "Epoch 12/100\n",
            "870/870 [==============================] - 4s 4ms/step - loss: 1.0380 - accuracy: 0.6889\n",
            "Epoch 13/100\n",
            "870/870 [==============================] - 4s 5ms/step - loss: 1.0197 - accuracy: 0.6951\n",
            "Epoch 14/100\n",
            "870/870 [==============================] - 4s 4ms/step - loss: 0.9980 - accuracy: 0.7020\n",
            "Epoch 15/100\n",
            "870/870 [==============================] - 4s 4ms/step - loss: 0.9886 - accuracy: 0.7043\n",
            "Epoch 16/100\n",
            "870/870 [==============================] - 4s 5ms/step - loss: 0.9822 - accuracy: 0.7060\n",
            "Epoch 17/100\n",
            "870/870 [==============================] - 4s 4ms/step - loss: 0.9688 - accuracy: 0.7079\n",
            "Epoch 18/100\n",
            "870/870 [==============================] - 4s 4ms/step - loss: 0.9590 - accuracy: 0.7118\n",
            "Epoch 19/100\n",
            "870/870 [==============================] - 4s 5ms/step - loss: 0.9528 - accuracy: 0.7136\n",
            "Epoch 20/100\n",
            "870/870 [==============================] - 4s 5ms/step - loss: 0.9411 - accuracy: 0.7168\n",
            "Epoch 21/100\n",
            "870/870 [==============================] - 4s 4ms/step - loss: 0.9338 - accuracy: 0.7213\n",
            "Epoch 22/100\n",
            "870/870 [==============================] - 4s 4ms/step - loss: 0.9303 - accuracy: 0.7198\n",
            "Epoch 23/100\n",
            "870/870 [==============================] - 4s 5ms/step - loss: 0.9250 - accuracy: 0.7222\n",
            "Epoch 24/100\n",
            "870/870 [==============================] - 4s 4ms/step - loss: 0.9190 - accuracy: 0.7235\n",
            "Epoch 25/100\n",
            "870/870 [==============================] - 4s 4ms/step - loss: 0.9153 - accuracy: 0.7267\n",
            "Epoch 26/100\n",
            "870/870 [==============================] - 4s 5ms/step - loss: 0.9041 - accuracy: 0.7280\n",
            "Epoch 27/100\n",
            "870/870 [==============================] - 4s 4ms/step - loss: 0.8985 - accuracy: 0.7304\n",
            "Epoch 28/100\n",
            "870/870 [==============================] - 4s 4ms/step - loss: 0.9020 - accuracy: 0.7307\n",
            "Epoch 29/100\n",
            "870/870 [==============================] - 4s 5ms/step - loss: 0.8907 - accuracy: 0.7328\n",
            "Epoch 30/100\n",
            "870/870 [==============================] - 4s 4ms/step - loss: 0.8845 - accuracy: 0.7343\n",
            "Epoch 31/100\n",
            "870/870 [==============================] - 4s 4ms/step - loss: 0.8788 - accuracy: 0.7345\n",
            "Epoch 32/100\n",
            "870/870 [==============================] - 4s 5ms/step - loss: 0.8812 - accuracy: 0.7359\n",
            "Epoch 33/100\n",
            "870/870 [==============================] - 4s 4ms/step - loss: 0.8782 - accuracy: 0.7377\n",
            "Epoch 34/100\n",
            "870/870 [==============================] - 4s 4ms/step - loss: 0.8742 - accuracy: 0.7384\n",
            "Epoch 35/100\n",
            "870/870 [==============================] - 4s 5ms/step - loss: 0.8730 - accuracy: 0.7396\n",
            "Epoch 36/100\n",
            "870/870 [==============================] - 4s 4ms/step - loss: 0.8711 - accuracy: 0.7385\n",
            "Epoch 37/100\n",
            "870/870 [==============================] - 4s 4ms/step - loss: 0.8672 - accuracy: 0.7406\n",
            "Epoch 38/100\n",
            "870/870 [==============================] - 4s 5ms/step - loss: 0.8628 - accuracy: 0.7413\n",
            "Epoch 39/100\n",
            "870/870 [==============================] - 4s 5ms/step - loss: 0.8628 - accuracy: 0.7415\n",
            "Epoch 40/100\n",
            "870/870 [==============================] - 4s 5ms/step - loss: 0.8562 - accuracy: 0.7434\n",
            "Epoch 41/100\n",
            "870/870 [==============================] - 4s 5ms/step - loss: 0.8604 - accuracy: 0.7417\n",
            "Epoch 42/100\n",
            "870/870 [==============================] - 4s 5ms/step - loss: 0.8467 - accuracy: 0.7442\n",
            "Epoch 43/100\n",
            "870/870 [==============================] - 4s 4ms/step - loss: 0.8552 - accuracy: 0.7451\n",
            "Epoch 44/100\n",
            "870/870 [==============================] - 4s 5ms/step - loss: 0.8495 - accuracy: 0.7455\n",
            "Epoch 45/100\n",
            "870/870 [==============================] - 4s 5ms/step - loss: 0.8495 - accuracy: 0.7459\n",
            "Epoch 46/100\n",
            "870/870 [==============================] - 4s 4ms/step - loss: 0.8458 - accuracy: 0.7460\n",
            "Epoch 47/100\n",
            "870/870 [==============================] - 4s 4ms/step - loss: 0.8459 - accuracy: 0.7457\n",
            "Epoch 48/100\n",
            "870/870 [==============================] - 4s 5ms/step - loss: 0.8431 - accuracy: 0.7478\n",
            "Epoch 49/100\n",
            "870/870 [==============================] - 4s 4ms/step - loss: 0.8395 - accuracy: 0.7483\n",
            "Epoch 50/100\n",
            "870/870 [==============================] - 4s 4ms/step - loss: 0.8420 - accuracy: 0.7474\n",
            "Epoch 51/100\n",
            "870/870 [==============================] - 4s 5ms/step - loss: 0.8396 - accuracy: 0.7470\n",
            "Epoch 52/100\n",
            "870/870 [==============================] - 4s 4ms/step - loss: 0.8379 - accuracy: 0.7473\n",
            "Epoch 53/100\n",
            "870/870 [==============================] - 4s 4ms/step - loss: 0.8344 - accuracy: 0.7492\n",
            "Epoch 54/100\n",
            "870/870 [==============================] - 4s 5ms/step - loss: 0.8349 - accuracy: 0.7505\n",
            "Epoch 55/100\n",
            "870/870 [==============================] - 4s 4ms/step - loss: 0.8361 - accuracy: 0.7480\n",
            "Epoch 56/100\n",
            "870/870 [==============================] - 4s 4ms/step - loss: 0.8308 - accuracy: 0.7498\n",
            "Epoch 57/100\n",
            "870/870 [==============================] - 4s 5ms/step - loss: 0.8320 - accuracy: 0.7487\n",
            "Epoch 58/100\n",
            "870/870 [==============================] - 4s 4ms/step - loss: 0.8265 - accuracy: 0.7518\n",
            "Epoch 59/100\n",
            "870/870 [==============================] - 4s 4ms/step - loss: 0.8239 - accuracy: 0.7517\n",
            "Epoch 60/100\n",
            "870/870 [==============================] - 4s 5ms/step - loss: 0.8222 - accuracy: 0.7530\n",
            "Epoch 61/100\n",
            "870/870 [==============================] - 4s 4ms/step - loss: 0.8264 - accuracy: 0.7521\n",
            "Epoch 62/100\n",
            "870/870 [==============================] - 4s 4ms/step - loss: 0.8260 - accuracy: 0.7519\n",
            "Epoch 63/100\n",
            "870/870 [==============================] - 4s 5ms/step - loss: 0.8245 - accuracy: 0.7528\n",
            "Epoch 64/100\n",
            "870/870 [==============================] - 4s 4ms/step - loss: 0.8241 - accuracy: 0.7520\n",
            "Epoch 65/100\n",
            "870/870 [==============================] - 4s 4ms/step - loss: 0.8181 - accuracy: 0.7528\n"
          ]
        }
      ]
    },
    {
      "cell_type": "code",
      "source": [
        "def plot_confusion_matrix(\n",
        "    model,\n",
        "    X: np.ndarray,\n",
        "    y_true: np.ndarray,\n",
        "    labels: T.Union[str, T.List[str]] =\"auto\",\n",
        "):\n",
        "  \"\"\"Computes the confusion matrix of the input model.\n",
        "\n",
        "  Args:\n",
        "    model: the model on which confusion matrix will be computed\n",
        "    X: dataset to evalutate the model\n",
        "    y_true: ground truth values of the dataset\n",
        "    labels: the labels to use in the plot of the confusion matrix\n",
        "\n",
        "  Returns:\n",
        "    None\n",
        "  \"\"\"\n",
        "\n",
        "  confusion_matrix = tf.math.confusion_matrix(\n",
        "      y_true,\n",
        "      np.argmax(model.predict(X), axis=1),\n",
        "  )\n",
        "\n",
        "  plt.figure(figsize=(15,15))\n",
        "  sbn.heatmap(confusion_matrix,\n",
        "              cmap='Greens',\n",
        "              xticklabels=labels,\n",
        "              yticklabels=labels)\n",
        "  plt.xlabel(\"Prediction\")\n",
        "  plt.ylabel(\"Label\")\n",
        "  plt.show()"
      ],
      "metadata": {
        "id": "rAemOZlWNPDn"
      },
      "execution_count": null,
      "outputs": []
    },
    {
      "cell_type": "code",
      "source": [
        "plot_confusion_matrix(model, X, y, labels=target_list)"
      ],
      "metadata": {
        "colab": {
          "base_uri": "https://localhost:8080/",
          "height": 1000
        },
        "id": "Cw7-5TMjNSIQ",
        "outputId": "b5e49710-d640-4a20-e803-5ff7b4178a0f"
      },
      "execution_count": null,
      "outputs": [
        {
          "output_type": "stream",
          "name": "stdout",
          "text": [
            "2716/2716 [==============================] - 6s 2ms/step\n"
          ]
        },
        {
          "output_type": "display_data",
          "data": {
            "text/plain": [
              "<Figure size 1500x1500 with 2 Axes>"
            ],
            "image/png": "[encoded data removed]"
          },
          "metadata": {}
        }
      ]
    },
    {
      "cell_type": "code",
      "source": [
        "# Evalute test set performance\n",
        "\n",
        "model.evaluate(x_test, y_test)"
      ],
      "metadata": {
        "colab": {
          "base_uri": "https://localhost:8080/"
        },
        "id": "9e9QToleNTjp",
        "outputId": "5a1263e6-e767-42ce-e4d7-7ecdeb6967ea"
      },
      "execution_count": null,
      "outputs": [
        {
          "output_type": "stream",
          "name": "stdout",
          "text": [
            "304/304 [==============================] - 1s 3ms/step - loss: 0.6516 - accuracy: 0.8052\n"
          ]
        },
        {
          "output_type": "execute_result",
          "data": {
            "text/plain": [
              "[0.6515867114067078, 0.8051894307136536]"
            ]
          },
          "metadata": {},
          "execution_count": 48
        }
      ]
    },
    {
      "cell_type": "code",
      "source": [
        "plot_confusion_matrix(model, x_test, y_test, labels=target_list)"
      ],
      "metadata": {
        "colab": {
          "base_uri": "https://localhost:8080/",
          "height": 1000
        },
        "id": "YO8wUUcSNV1_",
        "outputId": "dbeab62b-a2bd-4f6a-e223-03c95f4186a1"
      },
      "execution_count": null,
      "outputs": [
        {
          "output_type": "stream",
          "name": "stdout",
          "text": [
            "304/304 [==============================] - 1s 2ms/step\n"
          ]
        },
        {
          "output_type": "display_data",
          "data": {
            "text/plain": [
              "<Figure size 1500x1500 with 2 Axes>"
            ],
            "image/png": "[encoded data removed]"
          },
          "metadata": {}
        }
      ]
    },
    {
      "cell_type": "code",
      "source": [
        "# Save the model as a file\n",
        "models.save_model(model, model_filename)"
      ],
      "metadata": {
        "colab": {
          "base_uri": "https://localhost:8080/"
        },
        "id": "AetGWPK3NXiw",
        "outputId": "fccf31ba-9066-401a-ae67-a594f153bffb"
      },
      "execution_count": null,
      "outputs": [
        {
          "output_type": "stream",
          "name": "stderr",
          "text": [
            "<ipython-input-50-0e8d1d607ba2>:2: UserWarning: You are saving your model as an HDF5 file via `model.save()`. This file format is considered legacy. We recommend using instead the native Keras format, e.g. `model.save('my_model.keras')`.\n",
            "  models.save_model(model, model_filename)\n"
          ]
        }
      ]
    },
    {
      "cell_type": "code",
      "source": [
        "# Load back the model and run it against test set\n",
        "\n",
        "model = models.load_model(model_filename)\n",
        "for i in range(100, 110):\n",
        "    print('Answer:', y_test[i], ' Prediction:', np.argmax(model.predict(np.expand_dims(x_test[i], 0))))"
      ],
      "metadata": {
        "colab": {
          "base_uri": "https://localhost:8080/"
        },
        "id": "cttoeD8RNZX_",
        "outputId": "840f2607-10ad-4df1-8d8b-e0f11b27c79d"
      },
      "execution_count": null,
      "outputs": [
        {
          "output_type": "stream",
          "name": "stdout",
          "text": [
            "1/1 [==============================] - 0s 241ms/step\n",
            "Answer: 8.0  Prediction: 8\n",
            "1/1 [==============================] - 0s 30ms/step\n",
            "Answer: 8.0  Prediction: 33\n",
            "1/1 [==============================] - 0s 29ms/step\n",
            "Answer: 14.0  Prediction: 21\n",
            "1/1 [==============================] - 0s 30ms/step\n",
            "Answer: 0.0  Prediction: 0\n",
            "1/1 [==============================] - 0s 27ms/step\n",
            "Answer: 30.0  Prediction: 30\n",
            "1/1 [==============================] - 0s 18ms/step\n",
            "Answer: 5.0  Prediction: 5\n",
            "1/1 [==============================] - 0s 19ms/step\n",
            "Answer: 22.0  Prediction: 22\n",
            "1/1 [==============================] - 0s 21ms/step\n",
            "Answer: 17.0  Prediction: 32\n",
            "1/1 [==============================] - 0s 19ms/step\n",
            "Answer: 28.0  Prediction: 28\n",
            "1/1 [==============================] - 0s 20ms/step\n",
            "Answer: 10.0  Prediction: 10\n"
          ]
        }
      ]
    },
    {
      "cell_type": "code",
      "source": [
        "# Convert model to TF Lite model\n",
        "\n",
        "model = models.load_model(keras_model_filename)\n",
        "converter = tf.lite.TFLiteConverter.from_keras_model(model)\n",
        "\n",
        "# drops by 75% the final size of the model\n",
        "converter.optimizations = [tf.lite.Optimize.DEFAULT]\n",
        "\n",
        "tflite_model = converter.convert()\n",
        "\n",
        "size = open(tflite_filename, 'wb').write(tflite_model)\n",
        "print(f\"The model is {size / 1024} KB\")"
      ],
      "metadata": {
        "colab": {
          "base_uri": "https://localhost:8080/"
        },
        "id": "UCqOkcv6NbXg",
        "outputId": "31431076-d346-42ca-9d1f-1141d5ffcb71"
      },
      "execution_count": null,
      "outputs": [
        {
          "output_type": "stream",
          "name": "stdout",
          "text": [
            "The model is 49.46875 KB\n"
          ]
        }
      ]
    },
    {
      "cell_type": "code",
      "source": [
        "# Convert model to TF Lite model not optimize\n",
        "\n",
        "# Parameters\n",
        "tflite_filename_not = '/content/speech-commands-model-not.tflite'\n",
        "\n",
        "# Convert model to TF Lite model\n",
        "model = models.load_model(keras_model_filename)\n",
        "converter = tf.lite.TFLiteConverter.from_keras_model(model)\n",
        "tflite_model = converter.convert()\n",
        "size_not = open(tflite_filename_not, 'wb').write(tflite_model)\n",
        "print(f\"The model is {size_not / 1024} KB\")"
      ],
      "metadata": {
        "colab": {
          "base_uri": "https://localhost:8080/"
        },
        "id": "pnIClxhFLypf",
        "outputId": "dc88830b-68fc-4bfe-9731-79f26501bec0"
      },
      "execution_count": null,
      "outputs": [
        {
          "output_type": "stream",
          "name": "stdout",
          "text": [
            "The model is 176.44140625 KB\n"
          ]
        }
      ]
    },
    {
      "cell_type": "code",
      "source": [
        "def test_quantized_model(\n",
        "    model_path: str,\n",
        "    start_idx: int,\n",
        "    end_idx: int,\n",
        "):\n",
        "    \"\"\"Loads and test the tflite model on the given indexes.\n",
        "\n",
        "    Args:\n",
        "      model_path: the path to the TFLite model\n",
        "      start_idx: starting index to take the samples from x_test\n",
        "      end_idx: ending index for x_test\n",
        "\n",
        "    Returns:\n",
        "      None\n",
        "    \"\"\"\n",
        "\n",
        "    # Load the TFLite model and allocate tensors.\n",
        "    interpreter = tf.lite.Interpreter(model_path=model_path)\n",
        "    interpreter.allocate_tensors()\n",
        "\n",
        "    # Get input and output tensors.\n",
        "    input_details = interpreter.get_input_details()\n",
        "    output_details = interpreter.get_output_details()\n",
        "    # Test the model\n",
        "    for i in range(start_idx, end_idx):\n",
        "        # Load the input into the model\n",
        "        input_data = np.array(np.expand_dims(x_test[i], 0), dtype=np.float32)\n",
        "        interpreter.set_tensor(input_details[0]['index'], input_data)\n",
        "\n",
        "        # Invoke the model on the input\n",
        "        interpreter.invoke()\n",
        "\n",
        "        # The function `get_tensor()` returns a copy of the tensor data.\n",
        "        # Use `tensor()` in order to get a pointer to the tensor.\n",
        "        output_data = interpreter.get_tensor(output_details[0]['index'])\n",
        "\n",
        "        print(f'Ground truth value: {y_test[i]}\\t\\t'\n",
        "              f'Prediction: {np.argmax(output_data)}')"
      ],
      "metadata": {
        "id": "-gbhw4WiNeLH"
      },
      "execution_count": null,
      "outputs": []
    },
    {
      "cell_type": "code",
      "source": [
        "print(\"Before quantization\")\n",
        "for i in range(100, 110):\n",
        "    print('Answer:', y_test[i], ' Prediction:', np.argmax(model.predict(np.expand_dims(x_test[i], 0))))\n",
        "\n",
        "print(\"After quantization\")\n",
        "test_quantized_model(tflite_filename, 100, 110)"
      ],
      "metadata": {
        "colab": {
          "base_uri": "https://localhost:8080/"
        },
        "id": "8Rta5mN3NiYi",
        "outputId": "b7cf1a75-53e8-4491-8f32-fe8cbf5ce266"
      },
      "execution_count": null,
      "outputs": [
        {
          "output_type": "stream",
          "name": "stdout",
          "text": [
            "Before quantization\n",
            "1/1 [==============================] - 0s 72ms/step\n",
            "Answer: 8.0  Prediction: 8\n",
            "1/1 [==============================] - 0s 17ms/step\n",
            "Answer: 33.0  Prediction: 33\n",
            "1/1 [==============================] - 0s 16ms/step\n",
            "Answer: 32.0  Prediction: 32\n",
            "1/1 [==============================] - 0s 16ms/step\n",
            "Answer: 33.0  Prediction: 33\n",
            "1/1 [==============================] - 0s 16ms/step\n",
            "Answer: 29.0  Prediction: 29\n",
            "1/1 [==============================] - 0s 17ms/step\n",
            "Answer: 34.0  Prediction: 34\n",
            "1/1 [==============================] - 0s 21ms/step\n",
            "Answer: 27.0  Prediction: 27\n",
            "1/1 [==============================] - 0s 18ms/step\n",
            "Answer: 4.0  Prediction: 33\n",
            "1/1 [==============================] - 0s 17ms/step\n",
            "Answer: 28.0  Prediction: 28\n",
            "1/1 [==============================] - 0s 16ms/step\n",
            "Answer: 6.0  Prediction: 6\n",
            "After quantization\n",
            "Ground truth value: 8.0\t\tPrediction: 8\n",
            "Ground truth value: 33.0\t\tPrediction: 33\n",
            "Ground truth value: 32.0\t\tPrediction: 32\n",
            "Ground truth value: 33.0\t\tPrediction: 33\n",
            "Ground truth value: 29.0\t\tPrediction: 29\n",
            "Ground truth value: 34.0\t\tPrediction: 34\n",
            "Ground truth value: 27.0\t\tPrediction: 27\n",
            "Ground truth value: 4.0\t\tPrediction: 33\n",
            "Ground truth value: 28.0\t\tPrediction: 28\n",
            "Ground truth value: 6.0\t\tPrediction: 6\n"
          ]
        }
      ]
    },
    {
      "cell_type": "code",
      "source": [
        "!apt-get update && apt-get -qq install xxd"
      ],
      "metadata": {
        "id": "gWJg4CF7Nlf5"
      },
      "execution_count": null,
      "outputs": []
    },
    {
      "cell_type": "code",
      "source": [
        "!xxd -i /content/speech-commands-model.tflite > /content/embed_model.c"
      ],
      "metadata": {
        "id": "XjCy11jdNnaA"
      },
      "execution_count": null,
      "outputs": []
    },
    {
      "cell_type": "code",
      "source": [
        "!du -h /content/embed_model.c"
      ],
      "metadata": {
        "id": "RUEqeUXnNnyg"
      },
      "execution_count": null,
      "outputs": []
    }
  ]
}